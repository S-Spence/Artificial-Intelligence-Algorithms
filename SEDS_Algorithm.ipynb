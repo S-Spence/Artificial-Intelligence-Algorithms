{
 "cells": [
  {
   "cell_type": "markdown",
   "metadata": {},
   "source": [
    "## Solving Normal Form Games"
   ]
  },
  {
   "cell_type": "code",
   "execution_count": 1,
   "metadata": {},
   "outputs": [],
   "source": [
    "from typing import List, Tuple, Dict, Callable, Any\n",
    "import copy"
   ]
  },
  {
   "cell_type": "markdown",
   "metadata": {},
   "source": [
    "In the lecture we talked about the Prisoner's Dilemma game, shown here in Normal Form:\n",
    "\n",
    "Player 1 / Player 2  | Defect | Cooperate\n",
    "------------- | ------------- | -------------\n",
    "Defect  | -5, -5 | -1, -10\n",
    "Cooperate  | -10, -1 | -2, -2\n",
    "\n",
    "where the payoff to Player 1 is the left number and the payoff to Player 2 is the right number. We can represent each payoff cell as a Tuple: `(-5, -5)`, for example. We can represent each row as a List of Tuples: `[(-5, -5), (-1, -10)]` would be the first row and the entire table as a List of Lists:"
   ]
  },
  {
   "cell_type": "code",
   "execution_count": 2,
   "metadata": {},
   "outputs": [
    {
     "data": {
      "text/plain": [
       "[[(-5, -5), (-1, -10)], [(-10, -1), (-2, -2)]]"
      ]
     },
     "execution_count": 2,
     "metadata": {},
     "output_type": "execute_result"
    }
   ],
   "source": [
    "prisoners_dilemma = [\n",
    " [( -5, -5), (-1,-10)],\n",
    " [(-10, -1), (-2, -2)]]\n",
    "\n",
    "prisoners_dilemma"
   ]
  },
  {
   "cell_type": "markdown",
   "metadata": {},
   "source": [
    "in which case the strategies are represented by indices into the List of Lists. For example, `(Defect, Cooperate)` for the above game becomes `prisoners_dilemma[ 0][ 1]` and returns the payoff `(-1, -10)` because 0 is the first row of the table (\"Defect\" for Player 1) and 1 is the 2nd column of the row (\"Cooperate\" for Player 2).\n",
    "\n",
    "For this assignment, you are going write a function that uses Successive Elimination of Dominated Strategies (SEDS) to find the **pure strategy** Nash Equilibrium of a Normal Form Game. The function is called `solve_game`:\n",
    "\n",
    "```python\n",
    "def solve_game( game: List[List[Tuple]], weak=False) -> Tuple:\n",
    "    pass # returns strategy indices of Nash equilibrium or None.\n",
    "```\n",
    "\n",
    "and it takes two parameters: the game, in a format that we described earlier and an optional boolean flag that controls whether the algorithm considers only **strongly dominated strategies** (the default will be false) or whether it should consider **weakly dominated strategies** as well.\n",
    "\n",
    "It should work with game matrices of any size and it will return the **strategy indices** of the Nash Equilibrium. If there is no **pure strategy** equilibrium that can be found using SEDS, return `None`.\n",
    "\n",
    "\n",
    "---"
   ]
  },
  {
   "cell_type": "markdown",
   "metadata": {},
   "source": [
    "<a id=\"is_dominated\"></a>\n",
    "## is_dominated\n",
    "\n",
    "*The is_dominated function takes two columns or two rows to determine if one observation is dominated by the other. The function also takes the current player to determine if it should check tuple position 0 or 1. The function returns true if the observation is dominated and false otherwise.* **Used by**: [eliminate_dominated_strategy](#eliminate_dominated_strategy)\n",
    "\n",
    "* **row_1** List[Tuple]: the first row or column being compared\n",
    "* **row_2**  List[Tuple]: the second row or column being compared\n",
    "* **player**  int: the current player (either 0 for player 1 or 1 for player 2)\n",
    "* **weak**  bool: a boolean specifying if the algorithm should consider weakly dominated strategies\n",
    "\n",
    "**returns** bool"
   ]
  },
  {
   "cell_type": "code",
   "execution_count": 3,
   "metadata": {},
   "outputs": [],
   "source": [
    "def is_dominated(row_1: List[Tuple], row_2: List[Tuple], player: int, weak: bool) -> bool:\n",
    "    if weak == True:\n",
    "        # compare to the next row or column\n",
    "        if all(val_1[player] <= val_2[player] for val_1, val_2 in zip(row_1, row_2)):\n",
    "            return True\n",
    "    else:\n",
    "        # compare to the next row or column\n",
    "        if all(val_1[player] < val_2[player] for val_1, val_2 in zip(row_1, row_2)):\n",
    "            return True\n",
    "    return False"
   ]
  },
  {
   "cell_type": "code",
   "execution_count": 4,
   "metadata": {},
   "outputs": [],
   "source": [
    "# assertions/unit tests\n",
    "row_1 = [(0, 5), (1, 2), (3, 4)]\n",
    "row_2 = [(1, 2), (3, 4), (5, 6)]\n",
    "\n",
    "# check for player 1\n",
    "assert is_dominated(row_1, row_2, 0, False) == True\n",
    "# check for player 2\n",
    "assert is_dominated(row_1, row_2, 1, False) == False\n",
    "\n",
    "# test weakly dominated scenario\n",
    "row_2 = [(0, 5), (3, 4), (5, 6)]\n",
    "assert is_dominated(row_1, row_2, 0, True) == True\n",
    "assert is_dominated(row_1, row_2, 0, False) == False"
   ]
  },
  {
   "cell_type": "markdown",
   "metadata": {},
   "source": [
    "<a id=\"eliminate_dominated_strategy\"></a>\n",
    "## eliminate_dominated_strategy\n",
    "\n",
    "*The eliminate_dominated_strategy function takes the current player's strategies, which is either a list of all rows in the game for player one or a list of all columns in the game for player two. The function also takes the current game state and remaining indices after previous eliminations. The function updates the game state and remaining indices for one ply based on the values provided for the current player and the boolean specifying whether weakly dominated strategies should count. The function returns the new game state, remaining indices, and a boolean specifying if the game state changed for this turn.* **Used by**: [player_one](#player_one), [player_two](#player_two)\n",
    "\n",
    "* **strategies** List[List[Tuple]]: either a list of all rows in the game for player one or a list of all columns in the game for player two\n",
    "* **game**  List[List[Tuple]]: the current game state\n",
    "* **indices**  List[List[Tuple]]: the remaining indices that have not been eliminated\n",
    "* **player**  int: the current player (either 0 for player 1 or 1 for player 2)\n",
    "* **weak**  bool: a boolean specifying if the algorithm should consider weakly dominated strategies\n",
    "\n",
    "**returns** List[List[List[Tuple]], List[List[Tuple]], bool]"
   ]
  },
  {
   "cell_type": "code",
   "execution_count": 5,
   "metadata": {},
   "outputs": [],
   "source": [
    "def eliminate_dominated_strategy(strategies: List[List[Tuple]], game: List[List[Tuple]], indices: List[List[int]], player: int, weak: bool) -> List[Any]:\n",
    "    new_game, new_indices = copy.deepcopy(game), copy.deepcopy(indices)\n",
    "    for indx_1, row_1 in enumerate(strategies):\n",
    "        for indx_2, row_2 in enumerate(strategies):\n",
    "            if row_1 != row_2:\n",
    "                dominated = is_dominated(row_1, row_2, player, weak)\n",
    "                # update game and indicies if dominated strategy found        \n",
    "                if dominated == True:\n",
    "                    if player == 0:\n",
    "                        del new_game[indx_1]\n",
    "                        del new_indices[indx_1]\n",
    "                    else:\n",
    "                        new_game = [row[:indx_1] + row[indx_1 + 1:] for row in game]\n",
    "                        new_indices = [row[:indx_1] + row[indx_1 + 1:] for row in indices]\n",
    "                    return new_game, new_indices, True               \n",
    "    return new_game, indices, False  "
   ]
  },
  {
   "cell_type": "code",
   "execution_count": 6,
   "metadata": {},
   "outputs": [],
   "source": [
    "# assertions/unit tests\n",
    "game = [[(10, 10), (14, 12)], [(12, 14), (20, 20)]]\n",
    "# set payoffs as player two payoff (columns)\n",
    "strategies = [[(10, 10), (12, 14)], [(14, 12), (20, 20)]]\n",
    "indices = [[(0, 0), (0, 1)], [(1, 0), (1, 1)]]\n",
    "\n",
    "# test with player 2\n",
    "new_game, new_indices, state_changed = eliminate_dominated_strategy(strategies, game, indices, 1, False)\n",
    "assert new_game == [[(14, 12)], [(20, 20)]]\n",
    "assert new_indices == [[(0, 1)], [(1, 1)]]\n",
    "assert state_changed == True\n",
    "\n",
    "# test with player 1\n",
    "strategies = game\n",
    "new_game, new_indices, state_change = eliminate_dominated_strategy(strategies, game, indices, 0, False)\n",
    "assert new_game == [[(12, 14), (20, 20)]]\n",
    "assert new_indices == [[(1, 0), (1, 1)]]\n",
    "assert state_changed == True\n",
    "\n",
    "# test when state does not change\n",
    "invalid_game = [[(0, 0)], [(0, 0)]]\n",
    "strategies = invalid_game\n",
    "invalid_indices = [[(0, 0)], [(1, 0)]]\n",
    "new_game, new_indices, state_changed = eliminate_dominated_strategy(strategies, invalid_game, invalid_indices, 0, False)\n",
    "assert new_game == invalid_game\n",
    "assert new_indices == invalid_indices\n",
    "assert state_changed == False"
   ]
  },
  {
   "cell_type": "markdown",
   "metadata": {},
   "source": [
    "<a id=\"player_one\"></a>\n",
    "## player_one\n",
    "\n",
    "*The player_one function reviews all game rows to determine if any dominated rows can be eliminated. The player_one function recursively calls the player_two function until reaching a terminal state. The player_one and player_two functions update the game state and indices array for every move. A terminal state is reached when the functions find a solution or when the game's state has not changed for 2 plies (indicating that neither player has an available move). The function returns the index of the pure strategy Nash Equilibrium or None if no equilibrium is found.* **Used by**: [solve_game](#solve_game), [player_two](player_two)\n",
    "\n",
    "* **game** List[List[Tuple]]]: the current game state (positions that have not been eliminated)\n",
    "* **indices**  List[List[Tuple]]: the remaining indices that have not been eliminated\n",
    "* **eliminated**  bool: a boolean specifying if a value was eliminated by the opposite player on the previous move\n",
    "* **weak**  bool: a boolean specifying if the algorithm should consider weakly dominated strategies\n",
    "\n",
    "**returns** Tuple | None"
   ]
  },
  {
   "cell_type": "code",
   "execution_count": 7,
   "metadata": {},
   "outputs": [],
   "source": [
    "def player_one(game: List[List[Tuple]], indices: List[List[Tuple]], eliminated: bool, weak: bool) -> Tuple | None:\n",
    "    # break condition if we find a dominant strategy\n",
    "    if len(game) == 1 and len(game[0]) == 1:\n",
    "        return indices[0][0]\n",
    "        \n",
    "    new_game, new_indices, strategy_eliminated = eliminate_dominated_strategy(game, game, indices, 0, weak)\n",
    "\n",
    "    if strategy_eliminated == False and eliminated == False:\n",
    "        # the algorithm failed and there are no more dominant strategies\n",
    "        return None\n",
    "            \n",
    "    return player_two(new_game, new_indices, strategy_eliminated, weak)"
   ]
  },
  {
   "cell_type": "code",
   "execution_count": 8,
   "metadata": {},
   "outputs": [],
   "source": [
    "# assertions/unit tests\n",
    "# See assertions for both player_one and player_two below. \n",
    "# The player functions call eachother recursively and cannot be tested until both functions are defined."
   ]
  },
  {
   "cell_type": "markdown",
   "metadata": {},
   "source": [
    "<a id=\"player_two\"></a>\n",
    "## player_two\n",
    "\n",
    "*The player_two function reviews all game columns to determine if any dominated columns can be eliminated. The player_two function recursively calls the player_one function until reaching a terminal state. The player_one and player_two functions update the game state and indices array for every move. A terminal state is reached when the functions find a solution or when the game's state has not changed for 2 plies (indicating that neither player has an available move). The function returns the index of the pure strategy Nash Equilibrium or None if no equilibrium is found.* **Used by**: [solve_game](#solve_game), [player_one](player_one)\n",
    "\n",
    "* **game** List[List[Tuple]]]: the current game state (positions that have not been eliminated)\n",
    "* **indices**  List[List[Tuple]]: the remaining indices that have not been eliminated\n",
    "* **eliminated**  bool: a boolean specifying if a value was eliminated by the opposite player on the previous move\n",
    "* **weak**  bool: a boolean specifying if the algorithm should consider weakly dominated strategies\n",
    "\n",
    "**returns** Tuple | None"
   ]
  },
  {
   "cell_type": "code",
   "execution_count": 9,
   "metadata": {},
   "outputs": [],
   "source": [
    "def player_two(game: List[List[Tuple]], indices: List[List[Tuple]], eliminated: bool, weak: bool)-> Tuple | None:\n",
    "    # break condition if we find an equilibrium\n",
    "    if len(game) == 1 and len(game[0]) == 1:\n",
    "        return indices[0][0]\n",
    "        \n",
    "    columns = [[row[i] for row in game] for i in range(len(game[0]))]\n",
    "    new_game, new_indices, strategy_eliminated = eliminate_dominated_strategy(columns, game, indices, 1, weak)\n",
    "\n",
    "    if strategy_eliminated == False and eliminated == False:\n",
    "        # the algorithm failed and there are no more dominant strategies\n",
    "        return None\n",
    "            \n",
    "    return player_one(new_game, new_indices, strategy_eliminated, weak)"
   ]
  },
  {
   "cell_type": "code",
   "execution_count": 10,
   "metadata": {},
   "outputs": [],
   "source": [
    "# assertions/unit tests player_one\n",
    "game = [[(10, 10), (14, 12)], [(12, 14), (20, 20)]]\n",
    "indices = [[(0, 0), (0, 1)], [(1, 0), (1, 1)]]\n",
    "\n",
    "# success case strongly dominated\n",
    "assert player_one(game, indices, True, False) == (1, 1)\n",
    "\n",
    "# success case weakly dominated\n",
    "game = [[(10, 10), (14, 10)], [(12, 10), (14, 10)]]\n",
    "assert player_one(game, indices, True, True) == (1, 1)\n",
    "assert player_one(game, indices, True, False) == None\n",
    "\n",
    "# failure case\n",
    "game = [[(10, 10), (14, 9)], [(9, 13), (20, 20)]]\n",
    "assert player_two(game, indices, True, False) == None"
   ]
  },
  {
   "cell_type": "code",
   "execution_count": 11,
   "metadata": {},
   "outputs": [],
   "source": [
    "# assertions/unit tests player_two\n",
    "game = [[(10, 10), (14, 12)], [(12, 14), (20, 20)]]\n",
    "indices = [[(0, 0), (0, 1)], [(1, 0), (1, 1)]]\n",
    "\n",
    "# success case strongly dominated\n",
    "assert player_two(game, indices, True, False) == (1, 1)\n",
    "\n",
    "# success case weakly dominated\n",
    "game = [[(10, 10), (14, 10)], [(12, 10), (14, 20)]]\n",
    "assert player_two(game, indices, True, True) == (1, 1)\n",
    "assert player_two(game, indices, True, False) == None\n",
    "\n",
    "# failure case\n",
    "game = [[(10, 10), (14, 9)], [(9, 13), (20, 20)]]\n",
    "assert player_two(game, indices, True, False) == None"
   ]
  },
  {
   "cell_type": "markdown",
   "metadata": {},
   "source": [
    "<a id=\"solve_game\"></a>\n",
    "## solve_game\n",
    "\n",
    "*The solve_game function applies the successive elimination of dominated strategies algorithm to find a pure strategy Nash Equilibrium. A Nash Equilibrium occurs when neither player can obtain a better outcome by changing their strategy alone. The algorithm considers strongly dominated strategies and weakly dominated strategies based on the value provided for the weak parameter. A strongly dominated strategy is one where all payoffs in strategy a for the current player are less than all payoffs in strategy b for the current player. In this scenario, strategy b strongly dominates strategy a, and the algorithm eliminates strategy a. A weakly dominated strategy is one where all payoffs in strategy a for the current player are less than or equal to all payoffs in strategy b for the current player. In this scenario, strategy b weakly dominates strategy a, and the algorithm eliminates strategy a only if weak is set to true. Player one eliminates strategies by row, and player two eliminates strategies by column. The algorithm alternates between player one and player two until finding an equilibrium or failing. The algorithm fails when neither player has a strategy to eliminate, and there is more than one remaining strategy in the game state. The algorithm returns the index of the pure strategy Nash Equilibrium if one is found.*\n",
    "\n",
    "* **game**  List[List[Tuple]]: the game state of the form [[(10, 10), (14, 12), (14, 15)], [(12, 14), (20, 20), (28, 15)] where the first value in the tuples represents the payoffs for player one and the second value in the tuples represents the payoffs for player two. The rows represent the strategies for player one, and the columns represent the strategies for player two. \n",
    "* **weak**  bool: a boolean specifying if the algorithm should consider weakly dominated strategies\n",
    "\n",
    "**returns** Tuple"
   ]
  },
  {
   "cell_type": "code",
   "execution_count": 12,
   "metadata": {},
   "outputs": [],
   "source": [
    "def solve_game(game: List[List[Tuple]], weak:bool=False) -> Tuple:\n",
    "    # track indices removed to return the final answer\n",
    "    all_indices = [[(j, i) for i in range(len(game[0]))] for j in range(len(game))]\n",
    "    equilibrium = player_two(game, all_indices, True, weak)\n",
    "\n",
    "    # try starting with player one if no equilibrium found\n",
    "    if equilibrium == None:\n",
    "        equilibrium = player_one(game, all_indices, True, weak)\n",
    "    return equilibrium"
   ]
  },
  {
   "cell_type": "code",
   "execution_count": 13,
   "metadata": {},
   "outputs": [],
   "source": [
    "# assertions/unit tests\n",
    "test_data_1 = [[(10, 10), (14, 12), (14, 15)], [(12, 14), (20, 20), (28, 15)], [(15, 14), (15, 28), (25, 25)]]\n",
    "assert solve_game(test_data_1) == (1, 1)\n",
    "assert solve_game(test_data_1, True) == (1, 1)\n",
    "\n",
    "test_data_2 = [[(10, 10), (14, 12), (14, 15)], [(12, 14), (10, 10), (28, 15)], [(15, 14), (15, 28), (25, 25)]]\n",
    "assert solve_game(test_data_2) == None\n",
    "assert solve_game(test_data_2, True) == None"
   ]
  },
  {
   "cell_type": "markdown",
   "metadata": {},
   "source": [
    "### Test Game 1. Create a 3x3 two player game\n",
    "\n",
    "**that can only be solved using the Successive Elimintation of Strongly Dominated Strategies**\n",
    "\n",
    "| Player 1 / Player 2  | 0 | 1 | 2 |\n",
    "|----|----|----|----|\n",
    "|0  | (5, 5) | (10, 9) | (14, 13) |\n",
    "|1  | (13, 14) | (10, 15) | (0, 0) |\n",
    "|2  | (9, 10) | (11, 11) | (15, 10) |\n",
    "\n",
    "\n",
    "**Algorithm steps starting with player two:**\n",
    "- Player 2 eliminates column 0 because it is strongly dominated by column 1\n",
    "| Player 1 / Player 2  | 0 | 1 | 2 |\n",
    "|----|----|----|----|\n",
    "|0  | ~~(5, 5)~~ | (10, 9) | (14, 13) |\n",
    "|1  | ~~(13, 14)~~ | (10, 15) | (0, 0) |\n",
    "|2  | ~~(9, 10)~~ | (11, 11) | (15, 10) |\n",
    "- Player 1 eliminates row 0 because it is strongly dominated by row 2\n",
    "| Player 1 / Player 2  | 0 | 1 | 2 |\n",
    "|----|----|----|----|\n",
    "|0  | ~~(5, 5)~~ | ~~(10, 9)~~ | ~~(14, 13)~~ |\n",
    "|1  | ~~(13, 14)~~ | (10, 15) | (0, 0) |\n",
    "|2  | ~~(9, 10)~~ | (11, 11) | (15, 10) |\n",
    "-  Player 2 eliminates column 2 because it is strongly dominated by column 1\n",
    "| Player 1 / Player 2  | 0 | 1 | 2 |\n",
    "|----|----|----|----|\n",
    "|0  | ~~(5, 5)~~ | ~~(10, 9)~~ | ~~(14, 13)~~ |\n",
    "|1  | ~~(13, 14)~~ | (10, 15) | ~~(0, 0)~~ |\n",
    "|2  | ~~(9, 10)~~ | (11, 11) | ~~(15, 10)~~ |\n",
    "-  Player 1 eliminates row 1 because it is strongly dominated by row 2\n",
    "| Player 1 / Player 2  | 0 | 1 | 2 |\n",
    "|----|----|----|----|\n",
    "|0  | ~~(5, 5)~~ | ~~(10, 9)~~ | ~~(14, 13)~~ |\n",
    "|1  | ~~(13, 14)~~ | ~~(10, 15)~~ | ~~(0, 0)~~ |\n",
    "|2  | ~~(9, 10)~~ | (11, 11) | ~~(15, 10)~~ |\n",
    "\n",
    "-  Solution reached at (2, 1)\n",
    "\n",
    "**Solution:** (2, 1)"
   ]
  },
  {
   "cell_type": "code",
   "execution_count": 14,
   "metadata": {},
   "outputs": [
    {
     "name": "stdout",
     "output_type": "stream",
     "text": [
      "Solution: (2, 1)\n"
     ]
    }
   ],
   "source": [
    "test_game_1 = [[(5, 5), (10, 9), (14, 13)], [(13, 14), (10, 15), (0, 0)], [(9, 10), (11, 11), (15, 10)]]\n",
    "\n",
    "solution = solve_game(test_game_1)\n",
    "\n",
    "print(f\"Solution: {solution}\")"
   ]
  },
  {
   "cell_type": "code",
   "execution_count": 15,
   "metadata": {},
   "outputs": [],
   "source": [
    "assert solution == (2, 1)"
   ]
  },
  {
   "cell_type": "markdown",
   "metadata": {},
   "source": [
    "### Test Game 2. Create a 3x3 two player game\n",
    "\n",
    "**that can only be solved using the Successive Elimintation of Weakly Dominated Strategies**\n",
    "\n",
    "| Player 1 / Player 2  | 0 | 1 | 2 |\n",
    "|----|----|----|----|\n",
    "|0  | (9, 10) | (10, 11) | (15, 10) |\n",
    "|1  | (13, 14) | (10, 15) | (0, 0) |\n",
    "|2  | (5, 5) | (10, 9) | (14, 13) |\n",
    "\n",
    "\n",
    "**Algorithm steps starting with player two:**\n",
    "\n",
    "- Player 2 eliminates column 0 because it is strongly dominated by column 1\n",
    "| Player 1 / Player 2  | 0 | 1 | 2 |\n",
    "|----|----|----|----|\n",
    "|0  | ~~(9, 10)~~ | (10, 11) | (15, 10) |\n",
    "|1  | ~~(13, 14)~~ | (10, 15) | (0, 0) |\n",
    "|2  | ~~(5, 5)~~ | (10, 9) | (14, 13) |\n",
    "- Player 1 eliminates row 1 because it is weakly dominated by row 0\n",
    "| Player 1 / Player 2  | 0 | 1 | 2 |\n",
    "|----|----|----|----|\n",
    "|0  | ~~(9, 10)~~ | (10, 11) | (15, 10) |\n",
    "|1  | ~~(13, 14)~~ | ~~(10, 15)~~ | ~~(0, 0)~~ |\n",
    "|2  | ~~(5, 5)~~ | (10, 9) | (14, 13) |\n",
    "- Player 2 has nothing to eliminate\n",
    "| Player 1 / Player 2  | 0 | 1 | 2 |\n",
    "|----|----|----|----|\n",
    "|0  | ~~(9, 10)~~ | (10, 11) | (15, 10) |\n",
    "|1  | ~~(13, 14)~~ | ~~(10, 15)~~ | ~~(0, 0)~~ |\n",
    "|2  | ~~(5, 5)~~ | (10, 9) | (14, 13) |\n",
    "- Player 1 eliminates row 2 because it is weakly dominated by row 0\n",
    "| Player 1 / Player 2  | 0 | 1 | 2 |\n",
    "|----|----|----|----|\n",
    "|0  | ~~(9, 10)~~ | (10, 11) | (15, 10) |\n",
    "|1  | ~~(13, 14)~~ | ~~(10, 15)~~ | ~~(0, 0)~~ |\n",
    "|2  | ~~(5, 5)~~ | ~~(10, 9)~~ | ~~(14, 13)~~ |\n",
    "- Player 2 eliminates column 2 because it is strongly dominated by column 1\n",
    "| Player 1 / Player 2  | 0 | 1 | 2 |\n",
    "|----|----|----|----|\n",
    "|0  | ~~(9, 10)~~ | (10, 11) | ~~(15, 10)~~ |\n",
    "|1  | ~~(13, 14)~~ | ~~(10, 15)~~ | ~~(0, 0)~~ |\n",
    "|2  | ~~(5, 5)~~ | ~~(10, 9)~~ | ~~(14, 13)~~ |\n",
    "- Solution reached at (0, 1)\n",
    "\n",
    "**Solution:** (0, 1)"
   ]
  },
  {
   "cell_type": "code",
   "execution_count": 16,
   "metadata": {},
   "outputs": [
    {
     "name": "stdout",
     "output_type": "stream",
     "text": [
      "Weak Solution: (0, 1)\n"
     ]
    }
   ],
   "source": [
    "test_game_2 = [[(9, 10), (10, 11), (15, 10)], [(13, 14), (10, 15), (0, 0)], [(5, 5), (10, 9), (14, 13)]]\n",
    "\n",
    "strong_solution = solve_game( test_game_2)\n",
    "weak_solution = solve_game( test_game_2, weak=True)\n",
    "print(f\"Weak Solution: {weak_solution}\")"
   ]
  },
  {
   "cell_type": "code",
   "execution_count": 17,
   "metadata": {},
   "outputs": [],
   "source": [
    "assert strong_solution == None\n",
    "assert weak_solution == (0, 1)"
   ]
  },
  {
   "cell_type": "markdown",
   "metadata": {},
   "source": [
    "### Test Game 3. Create a 3x3 two player game\n",
    "\n",
    "**that cannot be solved using the Successive Elimintation of Dominated Strategies at all**\n",
    "\n",
    "| Player 1 / Player 2  | 0 | 1 | 2 |\n",
    "|----|----|----|----|\n",
    "|0  | (5, 5) | (10, 9) | (14, 13) |\n",
    "|1  | (9, 10) | (1, 1) | (23, 25) |\n",
    "|2  | (13, 14) | (25, 23) | (0, 0) |\n",
    "\n",
    "**Algorithm steps starting with player two:**\n",
    "\n",
    "- Player 2 cannot eliminate anything\n",
    "- Player 1 cannot eliminate anything\n",
    "- Algorithm fails and returns None\n",
    "\n",
    "  \n",
    "**Solution:** None"
   ]
  },
  {
   "cell_type": "code",
   "execution_count": 18,
   "metadata": {},
   "outputs": [],
   "source": [
    "test_game_3 = [[(5, 5), (10, 9), (14, 13)], [(9, 10), (1, 1), (23, 25)], [(13, 14), (25, 23), (0, 0)]]\n",
    "\n",
    "strong_solution = solve_game(test_game_3)\n",
    "weak_solution = solve_game( test_game_3, weak=True)"
   ]
  },
  {
   "cell_type": "code",
   "execution_count": 19,
   "metadata": {},
   "outputs": [],
   "source": [
    "assert strong_solution == None\n",
    "assert weak_solution == None"
   ]
  }
 ],
 "metadata": {
  "kernelspec": {
   "display_name": "Python (en605645)",
   "language": "python",
   "name": "en605645"
  },
  "language_info": {
   "codemirror_mode": {
    "name": "ipython",
    "version": 3
   },
   "file_extension": ".py",
   "mimetype": "text/x-python",
   "name": "python",
   "nbconvert_exporter": "python",
   "pygments_lexer": "ipython3",
   "version": "3.10.8"
  },
  "toc": {
   "colors": {
    "hover_highlight": "#DAA520",
    "navigate_num": "#000000",
    "navigate_text": "#333333",
    "running_highlight": "#FF0000",
    "selected_highlight": "#FFD700",
    "sidebar_border": "#EEEEEE",
    "wrapper_background": "#FFFFFF"
   },
   "moveMenuLeft": true,
   "nav_menu": {
    "height": "135px",
    "width": "252px"
   },
   "navigate_menu": true,
   "number_sections": true,
   "sideBar": true,
   "threshold": 4,
   "toc_cell": false,
   "toc_section_display": "block",
   "toc_window_display": false,
   "widenNotebook": false
  }
 },
 "nbformat": 4,
 "nbformat_minor": 4
}
