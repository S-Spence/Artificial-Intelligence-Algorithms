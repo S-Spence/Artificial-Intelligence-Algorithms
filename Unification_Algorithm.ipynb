{
 "cells": [
  {
   "cell_type": "markdown",
   "metadata": {},
   "source": [
    "# Unification\n",
    "\n",
    "This notebook is Part I of a two part assignment. See the `forward_planner` notebook for the second half of this problem. The forward planner requires a unification algorithm. \n",
    "\n",
    "Unification is simply the *syntactic* balancing of expressions. There are only 3 kinds of expressions: constants, lists and (logic) variables. Constants and lists are only equal to each other if they're exactly the same thing or can be made to be the same thing by *binding* a value to a variable.\n",
    "\n",
    "It really is that simple...expressions must be literally the same (identical) except if one or the other (or both) has a variable in that \"spot\".\n",
    "\n",
    "## S-Expressions\n",
    "\n",
    "With that out of the way, we need a language with which to express our constants, variables and predicates and that language will be based on s-expressions.\n",
    "\n",
    "**constants** - There are two types of constants, values and predicates. Values should start with an uppercase letter. Fred is a constant value, so is Barney and Food. Predicates are named using lowercase letters. loves is a predicate and so is hates. This is only a convention. Secret: your code does not need to treat these two types of constants differently.\n",
    "\n",
    "**variables** - these are named using lowercase letters but always start with a question mark. ?x is a variable and so is ?yum. This is not a convention.\n",
    "\n",
    "**expressions (lists)** - these use the S-expression syntax a la LISP. (loves Fred Wilma) is an expression as is (friend-of Barney Fred) and (loves ?x ?y).\n",
    "\n",
    "(above description by S. Butcher)"
   ]
  },
  {
   "cell_type": "code",
   "execution_count": 1,
   "metadata": {},
   "outputs": [],
   "source": [
    "import tokenize\n",
    "from io import StringIO\n",
    "from typing import List, Dict"
   ]
  },
  {
   "cell_type": "markdown",
   "metadata": {},
   "source": [
    "This uses the above libraries to build a Lisp structure based on atoms. It is adapted from [simple iterator parser](http://effbot.org/zone/simple-iterator-parser.htm). The first function is the `atom` function."
   ]
  },
  {
   "cell_type": "code",
   "execution_count": 2,
   "metadata": {},
   "outputs": [],
   "source": [
    "# function by S. Butcher\n",
    "def atom( next, token):\n",
    "    if token[ 1] == '(':\n",
    "        out = []\n",
    "        token = next()\n",
    "        while token[ 1] != ')':\n",
    "            out.append( atom( next, token))\n",
    "            token = next()\n",
    "            if token[ 1] == ' ':\n",
    "                token = next()\n",
    "        return out\n",
    "    elif token[ 1] == '?':\n",
    "        token = next()\n",
    "        return \"?\" + token[ 1]\n",
    "    else:\n",
    "        return token[ 1]"
   ]
  },
  {
   "cell_type": "markdown",
   "metadata": {},
   "source": [
    "The next function is the actual `parse` function:"
   ]
  },
  {
   "cell_type": "code",
   "execution_count": 3,
   "metadata": {},
   "outputs": [],
   "source": [
    "# function by S. Butcher\n",
    "def parse(exp):\n",
    "    src = StringIO(exp).readline\n",
    "    tokens = tokenize.generate_tokens(src)\n",
    "    return atom(tokens.__next__, tokens.__next__())"
   ]
  },
  {
   "cell_type": "markdown",
   "metadata": {},
   "source": [
    "**Note** there was a change between 2.7 and 3.0 that \"hid\" the next() function in the tokenizer."
   ]
  },
  {
   "cell_type": "markdown",
   "metadata": {},
   "source": [
    "From a Python perspective, we want to turn something like \"(loves Fred ?x)\" to [\"loves\" \"Fred\" \"?x\"] and then work with the second representation as a list of strings. The strings then have the syntactic meaning we gave them previously."
   ]
  },
  {
   "cell_type": "code",
   "execution_count": 4,
   "metadata": {},
   "outputs": [
    {
     "data": {
      "text/plain": [
       "'Fred'"
      ]
     },
     "execution_count": 4,
     "metadata": {},
     "output_type": "execute_result"
    }
   ],
   "source": [
    "parse(\"Fred\")"
   ]
  },
  {
   "cell_type": "code",
   "execution_count": 5,
   "metadata": {},
   "outputs": [
    {
     "data": {
      "text/plain": [
       "'?x'"
      ]
     },
     "execution_count": 5,
     "metadata": {},
     "output_type": "execute_result"
    }
   ],
   "source": [
    "parse( \"?x\")"
   ]
  },
  {
   "cell_type": "code",
   "execution_count": 6,
   "metadata": {},
   "outputs": [
    {
     "data": {
      "text/plain": [
       "['loves', 'Fred', '?x']"
      ]
     },
     "execution_count": 6,
     "metadata": {},
     "output_type": "execute_result"
    }
   ],
   "source": [
    "parse( \"(loves Fred ?x)\")"
   ]
  },
  {
   "cell_type": "code",
   "execution_count": 7,
   "metadata": {},
   "outputs": [
    {
     "data": {
      "text/plain": [
       "['father_of', 'Barney', ['son_of', 'Barney']]"
      ]
     },
     "execution_count": 7,
     "metadata": {},
     "output_type": "execute_result"
    }
   ],
   "source": [
    "parse( \"(father_of Barney (son_of Barney))\")"
   ]
  },
  {
   "cell_type": "markdown",
   "metadata": {},
   "source": [
    "## Unifier\n",
    "\n",
    "Now that that's out of the way, here is the imperative pseudocode for unification. This is a classic recursive program with a number of base cases.\n",
    "\n",
    "```\n",
    "def unification( exp1, exp2):\n",
    "    # base cases\n",
    "    if exp1 and exp2 are constants or the empty list:\n",
    "        if exp1 = exp2 then return {}\n",
    "        else return FAIL\n",
    "    if exp1 is a variable:\n",
    "        if exp1 occurs in exp2 then return FAIL\n",
    "        else return {exp1/exp2}\n",
    "    if exp2 is a variable:\n",
    "        if exp2 occurs in exp1 then return FAIL\n",
    "        else return {exp2/exp1}\n",
    "\n",
    "    # inductive step\n",
    "    first1 = first element of exp1\n",
    "    first2 = first element of exp2\n",
    "    result1 = unification( first1, first2)\n",
    "    if result1 = FAIL then return FAIL\n",
    "    apply result1 to rest of exp1 and exp2\n",
    "    result2 = unification( rest of exp1, rest of exp2)\n",
    "    if result2 = FAIL then return FAIL\n",
    "    return composition of result1 and result2\n",
    "```\n",
    "\n",
    "`unification` can return...\n",
    "\n",
    "1. `None` (if unification completely fails)\n",
    "2. `{}` (the empty substitution list) or \n",
    "3. a substitution list that has variables as keys and substituted values as values, like {\"?x\": \"Fred\"}. \n",
    "\n",
    "Note that the middle case sometimes confuses people...\"Sam\" unifying with \"Sam\" is not a failure so you return {} because there were no variables so there were no substitutions. You do not need to further resolve variables. If a variable resolves to an expression that contains a variable, you don't need to do the substition.\n",
    "\n",
    "If you think of a typical database table, there is a column, row and value. This Tuple is a *relation* and in some uses of unification, the \"thing\" in the first spot...\"love\" above is called the relation. If you have a table of users with user_id, username and the value then the relation is:\n",
    "\n",
    "`(login ?user_id ?username)`\n",
    "\n",
    "*most* of the time, the relation name is specified. But it's not impossible for the relation name to be represented by a variable:\n",
    "\n",
    "`(?relation 12345 \"smooth_operator\")`\n",
    "\n",
    "Your code should handle this case.\n",
    "\n",
    "Our type system is very simple. We can get by with just a few boolean functions. The first tests to see if an expression is a variable."
   ]
  },
  {
   "cell_type": "code",
   "execution_count": 8,
   "metadata": {},
   "outputs": [],
   "source": [
    "def is_variable( exp):\n",
    "    return isinstance( exp, str) and exp[ 0] == \"?\""
   ]
  },
  {
   "cell_type": "code",
   "execution_count": 9,
   "metadata": {},
   "outputs": [
    {
     "data": {
      "text/plain": [
       "False"
      ]
     },
     "execution_count": 9,
     "metadata": {},
     "output_type": "execute_result"
    }
   ],
   "source": [
    "is_variable( \"Fred\")"
   ]
  },
  {
   "cell_type": "code",
   "execution_count": 10,
   "metadata": {},
   "outputs": [
    {
     "data": {
      "text/plain": [
       "True"
      ]
     },
     "execution_count": 10,
     "metadata": {},
     "output_type": "execute_result"
    }
   ],
   "source": [
    "is_variable( \"?fred\")"
   ]
  },
  {
   "cell_type": "markdown",
   "metadata": {},
   "source": [
    "The second tests to see if an expression is a constant:"
   ]
  },
  {
   "cell_type": "code",
   "execution_count": 11,
   "metadata": {},
   "outputs": [],
   "source": [
    "def is_constant( exp):\n",
    "    return isinstance( exp, str) and not is_variable( exp)"
   ]
  },
  {
   "cell_type": "code",
   "execution_count": 12,
   "metadata": {},
   "outputs": [
    {
     "data": {
      "text/plain": [
       "True"
      ]
     },
     "execution_count": 12,
     "metadata": {},
     "output_type": "execute_result"
    }
   ],
   "source": [
    "is_constant( \"Fred\")"
   ]
  },
  {
   "cell_type": "code",
   "execution_count": 13,
   "metadata": {},
   "outputs": [
    {
     "data": {
      "text/plain": [
       "False"
      ]
     },
     "execution_count": 13,
     "metadata": {},
     "output_type": "execute_result"
    }
   ],
   "source": [
    "is_constant( \"?fred\")"
   ]
  },
  {
   "cell_type": "code",
   "execution_count": 14,
   "metadata": {},
   "outputs": [
    {
     "data": {
      "text/plain": [
       "False"
      ]
     },
     "execution_count": 14,
     "metadata": {},
     "output_type": "execute_result"
    }
   ],
   "source": [
    "is_constant( [\"loves\", \"Fred\", \"?wife\"])"
   ]
  },
  {
   "cell_type": "markdown",
   "metadata": {},
   "source": [
    "It might also be useful to know that:\n",
    "\n",
    "<code>\n",
    "type( \"a\")\n",
    "&lt;type 'str'>\n",
    "type( \"a\") == str\n",
    "True\n",
    "type( \"a\") == list\n",
    "False\n",
    "type( [\"a\"]) == list\n",
    "True\n",
    "</code>\n",
    "\n",
    "\n",
    "You need to write the `unification` function described above. It should work with two expressions of the type returned by `parse`. See `unify` for how it will be called. It should return the result of unification for the two expressions as detailed above and in the book. It does not have to make all the necessary substitions (for example, if ?y is bound to ?x and 1 is bound to ?y, ?x doesn't have to be replaced everywhere with 1. It's enough to return {\"?x\":\"?y\", \"?y\":1}. For an actual application, you would need to fix this!)\n",
    "\n",
    "(the previous description and helper functions were provided by S. Butcher)\n",
    "-----"
   ]
  },
  {
   "cell_type": "markdown",
   "metadata": {},
   "source": [
    "<a id=\"apply_result\"></a>\n",
    "## apply_result\n",
    "*The apply_result function is a helper function to apply variable assignments to the rest of the expression in the unification algorithm.* **Used by**: [unification](#unification)\n",
    "\n",
    "* **expression** str | List[str]: the expression to update\n",
    "* **result** Dict[str, str]: the result to apply to the expression\n",
    "\n",
    "**returns** List[str] | str."
   ]
  },
  {
   "cell_type": "code",
   "execution_count": 15,
   "metadata": {},
   "outputs": [],
   "source": [
    "def apply_result(expression: str | List[str], result: Dict[str, str]) -> str | List[str]:\n",
    "    # if expression is a string\n",
    "    if isinstance(expression, str):\n",
    "        for key, value in result.items():\n",
    "            if key in expression:\n",
    "                return str(value) if not isinstance(value, list) else value\n",
    "        return expression\n",
    "\n",
    "    # recurse if expression is a list\n",
    "    return [apply_result(value, result) for value in expression]"
   ]
  },
  {
   "cell_type": "code",
   "execution_count": 16,
   "metadata": {},
   "outputs": [],
   "source": [
    "#assertions/unit tests\n",
    "assert apply_result(['parent', 'Dave', '?x'], {'?x': 'Susan'}) == ['parent', 'Dave', 'Susan']\n",
    "assert apply_result(['parent', '?x', '?y'], {'?x': 'Dave', '?y': 'Susan'}) == ['parent', 'Dave', 'Susan']\n",
    "assert apply_result('?x', {'?x': 'Dave'}) == 'Dave'\n",
    "assert apply_result(['parent', '(parent ?x)', '?y'], {'?x': 'Dave', '?y': 'Susan'}) == ['parent', 'Dave', 'Susan']"
   ]
  },
  {
   "cell_type": "markdown",
   "metadata": {},
   "source": [
    "<a id=\"maybe_parse\"></a>\n",
    "## maybe_parse\n",
    "*The maybe_parse function is a helper function to convert nested expressions to lists as needed throughout recursion.* **Used by**: [unification](#unification)\n",
    "\n",
    "* **expression1** str | List[str]: the first expression\n",
    "* **expression2** str | List[str]: the second expression\n",
    "\n",
    "**returns** List[str | List[str]]"
   ]
  },
  {
   "cell_type": "code",
   "execution_count": 17,
   "metadata": {},
   "outputs": [],
   "source": [
    "def maybe_parse(expression1: str | List[str], expression2: str | List[str]) -> List[str | List[str]]:\n",
    "    if not isinstance(expression1, list):\n",
    "        expression1 = parse(expression1)\n",
    "    if not isinstance(expression2, list):\n",
    "        expression2 = parse(expression2)\n",
    "    return expression1, expression2"
   ]
  },
  {
   "cell_type": "code",
   "execution_count": 18,
   "metadata": {},
   "outputs": [],
   "source": [
    "#assertions/unit tests\n",
    "assert maybe_parse('(parent Dave)', 'Dave') == (['parent', 'Dave'], 'Dave')\n",
    "assert maybe_parse('Dave', 'Dave') == ('Dave', 'Dave')\n",
    "assert maybe_parse('(parent Dave)', '(parent Dave)') == (['parent', 'Dave'], ['parent', 'Dave'])\n",
    "assert maybe_parse([], []) == ([], [])"
   ]
  },
  {
   "cell_type": "markdown",
   "metadata": {},
   "source": [
    "<a id=\"check_base_cases\"></a>\n",
    "## check_base_cases\n",
    "*The check_base_cases function checks to determine if the algorithm hit a base case to break recursion. The base cases are hit if either expression is empty, if the expressions are both constant, or if there is a variable that can or cannot be assigned.* **Used by**: [unification](#unification)\n",
    "\n",
    "* **expression1** str | List[str]: the first expression\n",
    "* **expression2** str | List[str]: the second expression\n",
    "\n",
    "**returns** bool | None | Dict[str, str]"
   ]
  },
  {
   "cell_type": "code",
   "execution_count": 19,
   "metadata": {},
   "outputs": [],
   "source": [
    "def check_base_cases(expression1: str | List[str], expression2: str | List[str]) -> bool | None | Dict[str, str]:\n",
    "    if is_constant(expression1) and is_constant(expression2):\n",
    "        return {} if expression1 == expression2 else None        \n",
    "    if len(expression1) == 0 or len(expression2) == 0:\n",
    "        return {} if expression1 == expression2 else None\n",
    "    if is_variable(expression1):\n",
    "        return None if expression1 in expression2 else {expression1: expression2}\n",
    "    if is_variable(expression2):\n",
    "        return None if expression2 in expression1 else {expression2: expression1}\n",
    "    return False\n",
    "    "
   ]
  },
  {
   "cell_type": "code",
   "execution_count": 20,
   "metadata": {},
   "outputs": [],
   "source": [
    "#assertions/unit tests\n",
    "assert check_base_cases('Fred', 'Dave') == None\n",
    "assert check_base_cases('Fred', 'Fred') == {}\n",
    "assert check_base_cases('Fred', '?x') == {'?x': 'Fred'}\n",
    "assert check_base_cases('?x', 'Dave') == {'?x': 'Dave'}\n",
    "assert check_base_cases('(?x ?x)', '(Dave Fred)') == None\n",
    "assert check_base_cases([], []) == {}\n",
    "assert check_base_cases([], 'Dave') == None\n",
    "assert check_base_cases({}, {}) == {}\n",
    "assert check_base_cases('Fred', {}) == None"
   ]
  },
  {
   "cell_type": "markdown",
   "metadata": {},
   "source": [
    "<a id=\"unification\"></a>\n",
    "## unification\n",
    "*Unification is a technique used in first-order inference algorithms to find a substitution list for variable assignments that will unify the expressions. Unifying the expressions means making the expressions exactly equal. The unification algorithm takes two expressions and determines if it can unify them. The unification algorithm returns a substitution list with the variable assignments that will unify the expressions or an empty dictionary indicating that the expressions already match. The unification algorithm returns None if unification fails.*\n",
    "\n",
    "* **expression1** str | List[str]: the first expression\n",
    "* **expression2** str | List[str]: the second expression\n",
    "\n",
    "**returns** None | Dict[str, str] | Dict[]"
   ]
  },
  {
   "cell_type": "code",
   "execution_count": 21,
   "metadata": {},
   "outputs": [],
   "source": [
    "def unification(expression1: str | List[str], expression2: str | List[str]) -> Dict[str, str]| None:\n",
    "    # additional parsing to make nested expressions lists\n",
    "    expression1, expression2 = maybe_parse(expression1, expression2)\n",
    "    \n",
    "    # check base cases\n",
    "    base_case = check_base_cases(expression1, expression2)\n",
    "    if base_case != False:\n",
    "        return base_case\n",
    "\n",
    "    result_1 = unification(expression1[0], expression2[0])\n",
    "    if result_1 == None:\n",
    "        return None\n",
    "        \n",
    "    rest_expression1 = apply_result(expression1[1:], result_1)\n",
    "    rest_expression2 = apply_result(expression2[1:], result_1)\n",
    "    \n",
    "    result_2 = unification(rest_expression1, rest_expression2)\n",
    "    if result_2 == None:\n",
    "        return None    \n",
    "    return {**result_1, **result_2}    "
   ]
  },
  {
   "cell_type": "code",
   "execution_count": 22,
   "metadata": {},
   "outputs": [],
   "source": [
    "#see tests below"
   ]
  },
  {
   "cell_type": "code",
   "execution_count": 23,
   "metadata": {},
   "outputs": [],
   "source": [
    "def list_check(parsed_expression):\n",
    "    if isinstance(parsed_expression, list):\n",
    "        return parsed_expression\n",
    "    return [parsed_expression]"
   ]
  },
  {
   "cell_type": "markdown",
   "metadata": {},
   "source": [
    "The `unification` pseudocode only takes lists so we have to make sure that we only pass a list.\n",
    "However, this has the side effect of making \"foo\" unify with [\"foo\"], at the start.\n",
    "That's ok."
   ]
  },
  {
   "cell_type": "code",
   "execution_count": 24,
   "metadata": {},
   "outputs": [],
   "source": [
    "def unify( s_expression1, s_expression2):\n",
    "    list_expression1 = list_check(s_expression1)\n",
    "    list_expression2 = list_check(s_expression2)\n",
    "    return unification( list_expression1, list_expression2)"
   ]
  },
  {
   "cell_type": "markdown",
   "metadata": {},
   "source": [
    "## Test Cases\n",
    "\n",
    "Use the expressions from the Self Check as your test cases..."
   ]
  },
  {
   "cell_type": "code",
   "execution_count": 25,
   "metadata": {},
   "outputs": [
    {
     "name": "stdout",
     "output_type": "stream",
     "text": [
      "Test Case: unify((son Barney Barney), (daughter Wilma Pebbles))\n",
      "actual = None\n",
      "expected = None\n",
      "\n",
      "\n",
      "Test Case: unify(Fred, Barney)\n",
      "actual = None\n",
      "expected = None\n",
      "\n",
      "\n",
      "Test Case: unify(Pebbles, Pebbles)\n",
      "actual = {}\n",
      "expected = {}\n",
      "\n",
      "\n",
      "Test Case: unify((quarry_worker Fred), (quarry_worker ?x))\n",
      "actual = {'?x': 'Fred'}\n",
      "expected = {'?x': 'Fred'}\n",
      "\n",
      "\n",
      "Test Case: unify((son Barney ?x), (son ?y Bam_Bam))\n",
      "actual = {'?y': 'Barney', '?x': 'Bam_Bam'}\n",
      "expected = {'?y': 'Barney', '?x': 'Bam_Bam'}\n",
      "\n",
      "\n",
      "Test Case: unify((married ?x ?y), (married Barney Wilma))\n",
      "actual = {'?x': 'Barney', '?y': 'Wilma'}\n",
      "expected = {'?x': 'Barney', '?y': 'Wilma'}\n",
      "\n",
      "\n",
      "Test Case: unify((son Barney ?x), (son ?y (son Barney)))\n",
      "actual = {'?y': 'Barney', '?x': ['son', 'Barney']}\n",
      "expected = {'?y': 'Barney', '?x': ['son', 'Barney']}\n",
      "\n",
      "\n",
      "Test Case: unify((son Barney ?x), (son ?y (son ?y)))\n",
      "actual = {'?y': 'Barney', '?x': ['son', 'Barney']}\n",
      "expected = {'?y': 'Barney', '?x': ['son', 'Barney']}\n",
      "\n",
      "\n",
      "Test Case: unify((son Barney Bam_Bam), (son ?y (son Barney)))\n",
      "actual = None\n",
      "expected = None\n",
      "\n",
      "\n",
      "Test Case: unify((loves Fred Fred), (loves ?x ?x))\n",
      "actual = {'?x': 'Fred'}\n",
      "expected = {'?x': 'Fred'}\n",
      "\n",
      "\n",
      "Test Case: unify((future George Fred), (future ?y ?y))\n",
      "actual = None\n",
      "expected = None\n",
      "\n",
      "\n"
     ]
    }
   ],
   "source": [
    "self_check_test_cases = [\n",
    "    ['(son Barney Barney)', '(daughter Wilma Pebbles)', None],\n",
    "    ['Fred', 'Barney', None],\n",
    "    ['Pebbles', 'Pebbles', {}],\n",
    "    ['(quarry_worker Fred)', '(quarry_worker ?x)', {'?x':'Fred'}],\n",
    "    ['(son Barney ?x)', '(son ?y Bam_Bam)', {'?y':'Barney','?x':'Bam_Bam'}],\n",
    "    ['(married ?x ?y)', '(married Barney Wilma)', {'?x': 'Barney','?y': 'Wilma'}],\n",
    "    ['(son Barney ?x)', '(son ?y (son Barney))', {'?y': 'Barney','?x': ['son', 'Barney']}],\n",
    "    ['(son Barney ?x)',  '(son ?y (son ?y))', {'?y': 'Barney','?x': ['son', 'Barney']}],\n",
    "    ['(son Barney Bam_Bam)', '(son ?y (son Barney))', None],\n",
    "    ['(loves Fred Fred)', '(loves ?x ?x)', {'?x': 'Fred'}],\n",
    "    ['(future George Fred)', '(future ?y ?y)', None]   \n",
    "]\n",
    "\n",
    "for case in self_check_test_cases:\n",
    "    exp1, exp2, expected = case\n",
    "    actual = unify(exp1, exp2)\n",
    "    print(f\"Test Case: unify({exp1}, {exp2})\")\n",
    "    print(f\"actual = {actual}\")\n",
    "    print(f\"expected = {expected}\")\n",
    "    print(\"\\n\")\n",
    "    assert expected == actual"
   ]
  },
  {
   "cell_type": "markdown",
   "metadata": {},
   "source": [
    "Now add at least **five (5)** additional test cases of your own making, explaining exactly what you are testing."
   ]
  },
  {
   "cell_type": "code",
   "execution_count": 26,
   "metadata": {},
   "outputs": [
    {
     "name": "stdout",
     "output_type": "stream",
     "text": [
      "Test Case: unify((son Barney Barney), (daughter Wilma Pebbles))\n",
      "Testing non-equal constants...\n",
      "actual = None\n",
      "expected = None\n",
      "\n",
      "\n",
      "Test Case: unify(?x, (father (son Barney)))\n",
      "Testing variable and constant expression...\n",
      "actual = {'?x': ['father', ['son', 'Barney']]}\n",
      "expected = {'?x': ['father', ['son', 'Barney']]}\n",
      "\n",
      "\n",
      "Test Case: unify(?x, (son ?x))\n",
      "Testing variable part of expression2...\n",
      "actual = None\n",
      "expected = None\n",
      "\n",
      "\n",
      "Test Case: unify((son ?x), ?x)\n",
      "Testing variable part of expression1...\n",
      "actual = None\n",
      "expected = None\n",
      "\n",
      "\n",
      "Test Case: unify((parent ?x (son Barney)), (parent Pebbles (son ?x)))\n",
      "Testing nested variable ?x cannot be Pebbles and Barney...\n",
      "actual = None\n",
      "expected = None\n",
      "\n",
      "\n",
      "Test Case: unify((siblings ?x ?y), (siblings (brother Jason) (sister Marcy)))\n",
      "Testing nested lists as variables...\n",
      "actual = {'?x': ['brother', 'Jason'], '?y': ['sister', 'Marcy']}\n",
      "expected = {'?x': ['brother', 'Jason'], '?y': ['sister', 'Marcy']}\n",
      "\n",
      "\n"
     ]
    }
   ],
   "source": [
    "new_test_cases = [\n",
    "    ['(son Barney Barney)', '(daughter Wilma Pebbles)', None, \"non-equal constants\"],\n",
    "    ['?x', '(father (son Barney))', {'?x': ['father', ['son', 'Barney']]}, \"variable and constant expression\"],\n",
    "    ['?x', '(son ?x)', None, \"variable part of expression2\"],\n",
    "    ['(son ?x)', '?x', None, \"variable part of expression1\"],\n",
    "    ['(parent ?x (son Barney))', '(parent Pebbles (son ?x))', None, \"nested variable ?x cannot be Pebbles and Barney\"],\n",
    "    ['(siblings ?x ?y)', '(siblings (brother Jason) (sister Marcy))', {'?x': ['brother', 'Jason'], '?y': ['sister', 'Marcy']}, \"nested lists as variables\"]\n",
    "]\n",
    "for case in new_test_cases:\n",
    "    exp1, exp2, expected, message = case\n",
    "    actual = unify(exp1, exp2)\n",
    "    print(f\"Test Case: unify({exp1}, {exp2})\")\n",
    "    print(f\"Testing {message}...\")\n",
    "    print(f\"actual = {actual}\")\n",
    "    print(f\"expected = {expected}\")\n",
    "    print(\"\\n\")\n",
    "    assert expected == actual"
   ]
  }
 ],
 "metadata": {
  "kernelspec": {
   "display_name": "Python (en605645)",
   "language": "python",
   "name": "en605645"
  },
  "language_info": {
   "codemirror_mode": {
    "name": "ipython",
    "version": 3
   },
   "file_extension": ".py",
   "mimetype": "text/x-python",
   "name": "python",
   "nbconvert_exporter": "python",
   "pygments_lexer": "ipython3",
   "version": "3.10.8"
  },
  "toc": {
   "colors": {
    "hover_highlight": "#DAA520",
    "navigate_num": "#000000",
    "navigate_text": "#333333",
    "running_highlight": "#FF0000",
    "selected_highlight": "#FFD700",
    "sidebar_border": "#EEEEEE",
    "wrapper_background": "#FFFFFF"
   },
   "moveMenuLeft": true,
   "nav_menu": {
    "height": "120px",
    "width": "252px"
   },
   "navigate_menu": true,
   "number_sections": true,
   "sideBar": true,
   "threshold": 4,
   "toc_cell": false,
   "toc_section_display": "block",
   "toc_window_display": false,
   "widenNotebook": false
  }
 },
 "nbformat": 4,
 "nbformat_minor": 4
}
