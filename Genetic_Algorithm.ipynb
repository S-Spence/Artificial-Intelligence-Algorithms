{
 "cells": [
  {
   "cell_type": "markdown",
   "metadata": {},
   "source": [
    "## Local Search - Genetic Algorithm"
   ]
  },
  {
   "cell_type": "code",
   "execution_count": 1,
   "metadata": {},
   "outputs": [],
   "source": [
    "from pprint import pprint\n",
    "from typing import List, Any, Dict, Callable\n",
    "import random"
   ]
  },
  {
   "cell_type": "markdown",
   "metadata": {},
   "source": [
    "## Genetic Algorithm\n",
    "\n",
    "There are some key ideas in the Genetic Algorithm.\n",
    "\n",
    "First, there is a problem of some kind that either *is* an optimization problem or the solution can be expressed in terms of an optimization problem.\n",
    "For example, if we wanted to minimize the function\n",
    "\n",
    "$$f(x) = \\sum (x_i - 0.5)^2$$\n",
    "\n",
    "where $n = 10$.\n",
    "This *is* an optimization problem. Normally, optimization problems are much, much harder.\n",
    "\n",
    "The function we wish to optimize is often called the **objective function**.\n",
    "The objective function is closely related to the **fitness** function in the GA.\n",
    "If we have a **maximization** problem, then we can use the objective function directly as a fitness function.\n",
    "If we have a **minimization** problem, then we need to convert the objective function into a suitable fitness function, since fitness functions must always mean \"more is better\".\n",
    "\n",
    "Second, we need to *encode* candidate solutions using an \"alphabet\" analogous to G, A, T, C in DNA.\n",
    "This encoding can be quite abstract.\n",
    "\n",
    "In Genetics terminology, this encoding is the **chromosome** of the individual. And if this individual had the **phenotype** \"h\" for the first character then they would have the **genotype** for \"h\" (either as \"h\", 104, or 01101000).\n",
    "\n",
    "To keep it straight, think **geno**type is **genes** and **pheno**type is **phenomenon**, the actual thing that the genes express.\n",
    "So while we might encode a number as 10110110 (genotype), the number itself, 182, is what goes into the fitness function.\n",
    "The environment operates on zebras, not the genes for stripes.\n",
    "\n",
    "-Butcher, 2022"
   ]
  },
  {
   "cell_type": "markdown",
   "metadata": {},
   "source": [
    "## Problem Overview\n",
    "\n",
    "### String Matching\n",
    "\n",
    "Write a Genetic Algorithm that will solve the problem of matching a target string (at least at the start).\n",
    "Now, this is kind of silly because in order for this to work, you need to know the target string and if you know the target string, why are you trying to do it?\n",
    "Well, the problem is *pedagogical*.\n",
    "It's a fun way of visualizing the GA at work, because as the GA finds better and better candidates, they make more and more sense.\n",
    "\n",
    "Now, string matching is not *directly* an optimization problem so this falls under the general category of \"if we convert the problem into an optimization problem we can solve it with an optimization algorithm\" approach to problem solving.\n",
    "This happens all the time.\n",
    "We have a problem.\n",
    "We can't solve it.\n",
    "We convert it to a problem we *can* solve.\n",
    "In this case, we're using the GA to solve the optimization part.\n",
    "\n",
    "The **genotype** for this problem is a list of \"characters\":\n",
    "\n",
    "```\n",
    "[\"h\", \"e\", \"l\", \"l\", \"o\"]\n",
    "```\n",
    "\n",
    "and the **phenotype** is the resulting string:\n",
    "\n",
    "```\n",
    "\"hello\"\n",
    "```\n",
    "\n",
    "Note: preceding Genetic Algorithm overview and assignment prompt by S. Butcher, 2022."
   ]
  },
  {
   "cell_type": "code",
   "execution_count": 2,
   "metadata": {},
   "outputs": [],
   "source": [
    "ALPHABET = \"abcdefghijklmnopqrstuvwxyz \""
   ]
  },
  {
   "cell_type": "markdown",
   "metadata": {},
   "source": [
    "<a id=\"encode\"></a>\n",
    "## encode\n",
    "\n",
    "*The encode function takes a phenotype string and returns the genotype representation as a list of characters.* **Used by**: [generate_population](#generate_population)\n",
    "\n",
    "* **phenotype** str: the actual value of the individual in the population\n",
    "\n",
    "**returns** List[str]."
   ]
  },
  {
   "cell_type": "code",
   "execution_count": 3,
   "metadata": {},
   "outputs": [],
   "source": [
    "def encode(phenotype: str) -> List[str]:\n",
    "    return list(phenotype)   "
   ]
  },
  {
   "cell_type": "code",
   "execution_count": 4,
   "metadata": {},
   "outputs": [],
   "source": [
    "# unit tests\n",
    "assert encode(\"hello\") == [\"h\", \"e\", \"l\", \"l\", \"o\"] \n",
    "assert encode(\"world\") == [\"w\", \"o\", \"r\", \"l\", \"d\"]\n",
    "assert encode(\"\") == []"
   ]
  },
  {
   "cell_type": "markdown",
   "metadata": {},
   "source": [
    "<a id=\"decode\"></a>\n",
    "## decode\n",
    "\n",
    "*The decode function takes a genotype of the form List[str] and returns the phenotype representation as a string.* **Used by**: [reproduce](#reproduce)\n",
    "\n",
    "* **genotype** List[str]: the encoded value of the individual in the population\n",
    "\n",
    "**returns** str"
   ]
  },
  {
   "cell_type": "code",
   "execution_count": 5,
   "metadata": {},
   "outputs": [],
   "source": [
    "def decode(genotype: List[str]) -> str:\n",
    "    return ''.join(genotype)"
   ]
  },
  {
   "cell_type": "code",
   "execution_count": 6,
   "metadata": {},
   "outputs": [],
   "source": [
    "# unit tests\n",
    "assert decode([\"h\", \"e\", \"l\", \"l\", \"o\"]) == \"hello\"\n",
    "assert decode([\"w\", \"o\", \"r\", \"l\", \"d\"]) == \"world\"\n",
    "assert decode([]) == \"\""
   ]
  },
  {
   "cell_type": "markdown",
   "metadata": {},
   "source": [
    "<a id=\"generate_population\"></a>\n",
    "## generate_population\n",
    "\n",
    "*The generate_population function takes a callable function that generates random individuals using the available characters provided in the genetic algorithm parameters and the length of the target string. This function also takes a population size and generates the population using the random generator function provided.* **Used by**: [genetic_algorithm](#genetic_algorithm)\n",
    "\n",
    "* **generate_individual** Callable: a function that generates random individuals the size of the target string using the available characters in the genetic algorithm parameters\n",
    "* **population_size** int: the size of the population to generate\n",
    "\n",
    "**returns** List[Dict[str, int | float | str]]."
   ]
  },
  {
   "cell_type": "code",
   "execution_count": 7,
   "metadata": {},
   "outputs": [],
   "source": [
    "def generate_population(generate_individual: Callable, population_size: int) -> List[Dict[str, Any]]:\n",
    "    generation = []\n",
    "    for i in range(population_size):\n",
    "        phenotype = generate_individual()\n",
    "        genotype = encode(phenotype)\n",
    "        individual = {\"genotype\": genotype, \"phenotype\": phenotype}               \n",
    "        generation.append(individual)\n",
    "    return generation"
   ]
  },
  {
   "cell_type": "code",
   "execution_count": 8,
   "metadata": {},
   "outputs": [],
   "source": [
    "# unit tests\n",
    "def test_generate_individual():\n",
    "    # always return the same thing to test the generate population function\n",
    "    return \"this is a test\"\n",
    "\n",
    "test_1_results = [\n",
    "        {\"genotype\": ['t', 'h', 'i', 's', ' ', 'i', 's', ' ', 'a', ' ', 't', 'e', 's', 't'],\n",
    "        \"phenotype\": \"this is a test\"}\n",
    "    ]\n",
    "\n",
    "assert generate_population(test_generate_individual, 1) == test_1_results\n",
    "\n",
    "test_2_results = [\n",
    "        {\"genotype\": ['t', 'h', 'i', 's', ' ', 'i', 's', ' ', 'a', ' ', 't', 'e', 's', 't'],\n",
    "        \"phenotype\": \"this is a test\"},\n",
    "        {\"genotype\": ['t', 'h', 'i', 's', ' ', 'i', 's', ' ', 'a', ' ', 't', 'e', 's', 't'],\n",
    "        \"phenotype\": \"this is a test\"}\n",
    "    ]\n",
    "\n",
    "assert generate_population(test_generate_individual, 2) == test_2_results\n",
    "\n",
    "test_3_results = [\n",
    "        {\"genotype\": ['t', 'h', 'i', 's', ' ', 'i', 's', ' ', 'a', ' ', 't', 'e', 's', 't'],\n",
    "        \"phenotype\": \"this is a test\"},\n",
    "        {\"genotype\": ['t', 'h', 'i', 's', ' ', 'i', 's', ' ', 'a', ' ', 't', 'e', 's', 't'],\n",
    "        \"phenotype\": \"this is a test\"},\n",
    "        {\"genotype\": ['t', 'h', 'i', 's', ' ', 'i', 's', ' ', 'a', ' ', 't', 'e', 's', 't'],\n",
    "        \"phenotype\": \"this is a test\"}\n",
    "    ]\n",
    "\n",
    "assert generate_population(test_generate_individual, 3) == test_3_results"
   ]
  },
  {
   "cell_type": "markdown",
   "metadata": {},
   "source": [
    "<a id=\"evaluate_population\"></a>\n",
    "## evaluate_population\n",
    "\n",
    "*The evaluate_population function takes a callable fitness_function to generate the fitness score for each individual in the provided population. The fitness_function varies for each problem. The evaluate_population function also adds the generation to each individual in the population to track when the genetic algorithm converges.* **Used by**: [genetic_algorithm](#genetic_algorithm)\n",
    "\n",
    "* **population** List[Dict[str, int | float | str]]: the current generation of individuals. An individual is represented with the following metadata.\n",
    "\n",
    "    {\"phenotype\": str, \"genotype\": List[str], \"generation\": int, \"fitness\": float}\n",
    "* **fitness_function** Callable: a function that generates the fitness score for each individual in the population.\n",
    "* **target** string: the target solution used by the fitness function.\n",
    "* **generation** int: the current generation under evaluation.\n",
    "\n",
    "**returns** List[Dict[str, int | float | str]]."
   ]
  },
  {
   "cell_type": "code",
   "execution_count": 9,
   "metadata": {},
   "outputs": [],
   "source": [
    "def evaluate_population(fitness_function: Callable, population: List[Dict[str, Any]], generation: int, target: str) -> List[Dict[str, Any]]:\n",
    "    updated_population = []\n",
    "    for individual in population:\n",
    "        fitness = fitness_function(individual[\"phenotype\"], target)\n",
    "        individual[\"fitness\"] = fitness\n",
    "        individual[\"generation\"] = generation\n",
    "        updated_population.append(individual)\n",
    "    return updated_population"
   ]
  },
  {
   "cell_type": "code",
   "execution_count": 10,
   "metadata": {},
   "outputs": [],
   "source": [
    "# unit tests\n",
    "def test_fitness_function(genotype: List[str], target: str) -> float:\n",
    "    loss = 0\n",
    "    for index, value in enumerate(target):\n",
    "        if value != genotype[index]:\n",
    "            loss += 1\n",
    "    return 1/(1+loss)\n",
    "    \n",
    "population_1 = [\n",
    "    {'genotype': ['b', 'e', 's', 't'], 'phenotype': 'best'}, \n",
    "    {'genotype': ['f', 'i', 's', 't'], 'phenotype': 'fist'},\n",
    "    {'genotype': ['b', 'e', 'e', 'n'], 'phenotype': 'been'}\n",
    "    ]\n",
    "\n",
    "target = \"test\"\n",
    "\n",
    "expected_result_1 = [\n",
    "    {'genotype': ['b', 'e', 's', 't'], 'phenotype': 'best', 'fitness': 0.5, 'generation': 1}, \n",
    "    {'genotype': ['f', 'i', 's', 't'], 'phenotype': 'fist', 'fitness': 0.3333333333333333, 'generation': 1}, \n",
    "    {'genotype': ['b', 'e', 'e', 'n'], 'phenotype': 'been', 'fitness': 0.25, 'generation': 1}\n",
    "]\n",
    "\n",
    "assert evaluate_population(test_fitness_function, population_1, 1, target) == expected_result_1\n",
    "\n",
    "population_2 = [\n",
    "    {'genotype': ['t', 'e', 's', 't'], 'phenotype': 'test'}, \n",
    "    {'genotype': ['f', 'i', 's', 't'], 'phenotype': 'fist'},\n",
    "    {'genotype': ['b', 'e', 'e', 'n'], 'phenotype': 'been'}\n",
    "    ]\n",
    "\n",
    "expected_result_2 = [\n",
    "    {'genotype': ['t', 'e', 's', 't'], 'phenotype': 'test', 'fitness': 1.0, 'generation': 1}, \n",
    "    {'genotype': ['f', 'i', 's', 't'], 'phenotype': 'fist', 'fitness': 0.3333333333333333, 'generation': 1}, \n",
    "    {'genotype': ['b', 'e', 'e', 'n'], 'phenotype': 'been', 'fitness': 0.25, 'generation': 1}\n",
    "]\n",
    "\n",
    "assert evaluate_population(test_fitness_function, population_2, 1, target) == expected_result_2\n",
    "\n",
    "population_3 = [\n",
    "    {'genotype': ['h', 'e', 'l', 'p'], 'phenotype': 'help'}, \n",
    "    {'genotype': ['t', 'e', 'r', 'm'], 'phenotype': 'term'},\n",
    "    {'genotype': ['x', 'x', 'x', 'x'], 'phenotype': 'xxxx'}\n",
    "    ]\n",
    "\n",
    "expected_result_3 = [\n",
    "    {'genotype': ['h', 'e', 'l', 'p'], 'phenotype': 'help', 'fitness': 0.25, 'generation': 2}, \n",
    "    {'genotype': ['t', 'e', 'r', 'm'], 'phenotype': 'term', 'fitness': 0.3333333333333333, 'generation': 2}, \n",
    "    {'genotype': ['x', 'x', 'x', 'x'], 'phenotype': 'xxxx', 'fitness': 0.2, 'generation': 2}\n",
    "    ]\n",
    "\n",
    "assert evaluate_population(test_fitness_function, population_3, 2, target) == expected_result_3"
   ]
  },
  {
   "cell_type": "markdown",
   "metadata": {},
   "source": [
    "<a id=\"get_best\"></a>\n",
    "## get_best\n",
    "*The get_best function takes a population or subpopulation and returns the individual with the highest fitness score.* **Used by**: [genetic_algorithm](#genetic_algorithm), [tournament_selection](#tournament_selection)\n",
    "\n",
    "* **population** List[Dict[str, int | float | str]]: the current generation of individuals. An individual is represented with the following metadata.\n",
    "\n",
    "    {\"phenotype\": str, \"genotype\": List[str], \"generation\": int, \"fitness\": float}\n",
    "\n",
    "**returns** Dict[str, int | float | str]."
   ]
  },
  {
   "cell_type": "code",
   "execution_count": 11,
   "metadata": {},
   "outputs": [],
   "source": [
    "def get_best(population: List[Dict[str, Any]]) -> Dict[str, Any]:\n",
    "    return max(population , key=lambda score: score[\"fitness\"])"
   ]
  },
  {
   "cell_type": "code",
   "execution_count": 12,
   "metadata": {},
   "outputs": [],
   "source": [
    "# unit tests\n",
    "test_population = [\n",
    "    {'genotype': ['t', 'e', 's', 't', '1'], 'phenotype': 'test1', 'fitness': 1.0, 'generation': 1}, \n",
    "    {'genotype': ['t', 'e', 's', 't', '2'], 'phenotype': 'test2', 'fitness': 0.3333333333333333, 'generation': 1}, \n",
    "    {'genotype': ['t', 'e', 's', 't', '3'], 'phenotype': 'test3', 'fitness': 0.25, 'generation': 1}\n",
    "]\n",
    "\n",
    "assert get_best(test_population) == {'genotype': ['t', 'e', 's', 't', '1'], 'phenotype': 'test1', 'fitness': 1.0, 'generation': 1}\n",
    "\n",
    "test_population[0][\"fitness\"] = 0.0\n",
    "\n",
    "assert get_best(test_population) == {'genotype': ['t', 'e', 's', 't', '2'], 'phenotype': 'test2', 'fitness': 0.3333333333333333, 'generation': 1}\n",
    "\n",
    "test_population[1][\"fitness\"] = 0.0\n",
    "\n",
    "assert get_best(test_population) == {'genotype': ['t', 'e', 's', 't', '3'], 'phenotype': 'test3', 'fitness': 0.25, 'generation': 1}"
   ]
  },
  {
   "cell_type": "markdown",
   "metadata": {},
   "source": [
    "<a id=\"reproduce\"></a>\n",
    "## reproduce\n",
    "*The reproduce function takes two parents and returns a new population with two children. The function performs crossover and mutation on the children with a probability equal to the crossover and mutation rates provided as genetic algorithm parameters. The function randomly generates values to compare against the crossover and mutation rates to determine if crossover and mutation will occur.* **Used by**: [get_next_population](#get_next_population)\n",
    "\n",
    "* **parent_1** Dict[str, int | float | str]: the first parent.\n",
    "* **parent_2** Dict[str, int | float | str]: the second parent.\n",
    "* **parameters** Dict[str, Any]: the parameters provide for this run of the genetic algorithm.\n",
    "* **rand_c** float: randomly generated float value to determine if crossover occurs.\n",
    "* **rand_m** float: randomly generated float value to determine if mutation occurs.\n",
    "* **rand_char** Callable: a function to randomly generate the mutation value.\n",
    "* **rand_idx** Callable: a function to randomly generate the mutation and crossover indices.\n",
    "\n",
    "**returns** List[Dict[str, int | float | str]]."
   ]
  },
  {
   "cell_type": "code",
   "execution_count": 13,
   "metadata": {},
   "outputs": [],
   "source": [
    "def reproduce(parent_1: Dict[str, Any], parent_2: Dict[str, Any], parameters: Dict[str, Any], rand_c: float, rand_m: float, rand_char: Callable, rand_idx: Callable) -> List[Dict[str, Any]]:\n",
    "    son, daughter = {}, {}\n",
    "    son[\"genotype\"] = parent_1[\"genotype\"]\n",
    "    daughter[\"genotype\"] = parent_2[\"genotype\"]\n",
    "\n",
    "    if rand_c < parameters[\"crossover_rate\"]:\n",
    "        crossover_index = rand_idx()\n",
    "        parent_1_head, parent_1_tail = parent_1[\"genotype\"][:crossover_index], parent_1[\"genotype\"][crossover_index:]\n",
    "        parent_2_head, parent_2_tail = parent_2[\"genotype\"][:crossover_index], parent_2[\"genotype\"][crossover_index:]\n",
    "        son[\"genotype\"] = parent_1_head + parent_2_tail\n",
    "        daughter[\"genotype\"] = parent_2_head + parent_1_tail\n",
    "    if rand_m < parameters[\"mutation_rate\"]:\n",
    "        mutation_index = rand_idx()\n",
    "        mutation_value = rand_char()\n",
    "        son[\"genotype\"][mutation_index] = mutation_value\n",
    "        daughter[\"genotype\"][mutation_index] = mutation_value\n",
    "\n",
    "    son[\"phenotype\"] = decode(son[\"genotype\"])\n",
    "    daughter[\"phenotype\"] = decode(daughter[\"genotype\"])\n",
    "    return [son, daughter]  "
   ]
  },
  {
   "cell_type": "code",
   "execution_count": 14,
   "metadata": {},
   "outputs": [],
   "source": [
    "# unit tests\n",
    "test_parameters = {\n",
    "    \"mutation_rate\": 0.05,\n",
    "    \"crossover_rate\": 0.95\n",
    "    }\n",
    "parent_1 = {\"genotype\": ['h', 'e', 'l', 'l', 'o'], \"phenotype\": \"hello\"}\n",
    "parent_2 = {\"genotype\": ['w', 'o', 'r', 'l', 'd'], \"phenotype\": \"world\"}\n",
    "\n",
    "test_rand_char = lambda : \"x\"\n",
    "test_rand_idx = lambda : 2\n",
    "\n",
    "# should crossover, not mutate\n",
    "test_child_1, test_child_2 = reproduce(parent_1, parent_2, test_parameters, 0.90, 0.1, test_rand_char, test_rand_idx)\n",
    "assert test_child_1[\"phenotype\"] == \"herld\"\n",
    "assert test_child_2[\"phenotype\"] == \"wollo\"\n",
    "\n",
    "# should mutate, not crossover\n",
    "test_child_1, test_child_2 = reproduce(parent_1, parent_2, test_parameters, 0.96, 0.04, test_rand_char, test_rand_idx)\n",
    "assert test_child_1[\"phenotype\"] == \"hexlo\"\n",
    "assert test_child_2[\"phenotype\"] == \"woxld\"\n",
    "\n",
    "# should crossover and mutate\n",
    "test_child_1, test_child_2 = reproduce(parent_1, parent_2, test_parameters, 0.94, 0.04, test_rand_char, test_rand_idx)\n",
    "assert test_child_1[\"phenotype\"] == \"hexld\"\n",
    "assert test_child_2[\"phenotype\"] == \"woxlo\""
   ]
  },
  {
   "cell_type": "markdown",
   "metadata": {},
   "source": [
    "<a id=\"get_tournaments\"></a>\n",
    "## get_tournaments\n",
    "*The get_tournaments function takes the population and tournament size and creates tournaments by selecting random individuals from the population. The get_tournaments function returns two tournaments to use for selecting the parents in the tournament_selection function.* **Used by**: [tournament_selection](#tournament_selection)\n",
    "\n",
    "\n",
    "* **population** List[Dict[str, int | float | str]]: the current generation of individuals. An individual is represented with the following metadata.\n",
    "\n",
    "    {\"phenotype\": str, \"genotype\": List[str], \"generation\": int, \"fitness\": float}\n",
    "* **tournament_size** int: the tournament size provided in the genetic algorithm parameters for this run.\n",
    "\n",
    "**returns** List[List[Dict[str, int | float | str]]]."
   ]
  },
  {
   "cell_type": "code",
   "execution_count": 15,
   "metadata": {},
   "outputs": [],
   "source": [
    "def get_tournaments(population: List[dict[str, Any]], tournament_size: int) -> List[List[Dict[str, Any]]]:\n",
    "    tournament_1 = random.choices(population, k=tournament_size)\n",
    "    tournament_2 = random.choices(population, k=tournament_size)\n",
    "    return [tournament_1, tournament_2]"
   ]
  },
  {
   "cell_type": "code",
   "execution_count": 16,
   "metadata": {},
   "outputs": [],
   "source": [
    "# unit tests\n",
    "test_population = [\n",
    "    {'genotype': ['t', 'e', 's', 't', '1'], 'phenotype': 'test1', 'fitness': 1.0, 'generation': 1}, \n",
    "    {'genotype': ['t', 'e', 's', 't', '2'], 'phenotype': 'test2', 'fitness': 0.3333333333333333, 'generation': 1}, \n",
    "    {'genotype': ['t', 'e', 's', 't', '3'], 'phenotype': 'test3', 'fitness': 0.25, 'generation': 1}\n",
    "]\n",
    "\n",
    "result1 = get_tournaments(test_population, 1)\n",
    "# assert two tournaments returned of size 1 each\n",
    "assert len(result1) == 2\n",
    "assert len(result1[0]) == 1\n",
    "assert len(result1[1]) == 1\n",
    "# assert that random values are in the population\n",
    "assert result1[0][0] in test_population\n",
    "\n",
    "result2 = get_tournaments(test_population, 2)\n",
    "# assert two tournaments returned of size 1 each\n",
    "assert len(result2) == 2\n",
    "assert len(result2[0]) == 2\n",
    "assert len(result2[1]) == 2\n",
    "# assert that random values are in the population\n",
    "assert result2[0][0] in test_population\n",
    "assert result2[0][1] in test_population\n",
    "\n",
    "result3 = get_tournaments(test_population, 3)\n",
    "# assert two tournaments returned of size 1 each\n",
    "assert len(result3) == 2\n",
    "assert len(result3[0]) == 3\n",
    "assert len(result3[1]) == 3\n",
    "# assert that random values are in the population\n",
    "assert result3[0][0] in test_population\n",
    "assert result3[0][1] in test_population\n",
    "assert result3[0][2] in test_population"
   ]
  },
  {
   "cell_type": "markdown",
   "metadata": {},
   "source": [
    "<a id=\"tournament_selection\"></a>\n",
    "## tournament_selection\n",
    "*The tournament_selection function takes a callable function that returns two tournaments. Next, the function selects the first parent as the best value from tournament one and the second parent as the best value from tournament two. The function returns a list containing the two parents selected.* **Used by**: [get_next_population](#get_next_population)\n",
    "\n",
    "* **get_tournaments** Callable: a function that returns two randomly selected tournaments from the population of size tournament_size.\n",
    "* **population** List[Dict[str, int | float | str]]: the current generation of individuals. An individual is represented with the following metadata.\n",
    "\n",
    "    {\"phenotype\": str, \"genotype\": List[str], \"generation\": int, \"fitness\": float}\n",
    "* **tournament_size** int: the tournament size provided in the genetic algorithm parameters for this run.\n",
    "\n",
    "**returns** List[Dict[str, int | float | str]]."
   ]
  },
  {
   "cell_type": "code",
   "execution_count": 17,
   "metadata": {},
   "outputs": [],
   "source": [
    "def tournament_selection(get_tournaments: Callable, population: List[dict[str, Any]], tournament_size: int) -> List[Dict[str, Any]]:\n",
    "    tournament_1, tournament_2 = get_tournaments(population, tournament_size)\n",
    "    parent_1 = get_best(tournament_1)\n",
    "    parent_2 = get_best(tournament_2)\n",
    "    return [parent_1, parent_2]"
   ]
  },
  {
   "cell_type": "code",
   "execution_count": 18,
   "metadata": {},
   "outputs": [],
   "source": [
    "# unit tests\n",
    "def test_get_tournaments(tournaments: List[List[Dict[str, Any]]], tournament_size: int) -> List[List[Dict[str, Any]]]:\n",
    "    return tournaments\n",
    "\n",
    "tournament1 = [\n",
    "    {'genotype': ['t', 'e', 's', 't', '1'], 'phenotype': 'test1', 'fitness': 1.0, 'generation': 1}, \n",
    "    {'genotype': ['t', 'e', 's', 't', '3'], 'phenotype': 'test3', 'fitness': 0.25, 'generation': 1}\n",
    "    ]\n",
    "tournament2 = [\n",
    "    {'genotype': ['t', 'e', 's', 't', '3'], 'phenotype': 'test3', 'fitness': 0.25, 'generation': 1}, \n",
    "    {'genotype': ['t', 'e', 's', 't', '2'], 'phenotype': 'test2', 'fitness': 0.3333333333333333, 'generation': 1}\n",
    "    ]\n",
    "\n",
    "expected_response_1 = [\n",
    "    {'genotype': ['t', 'e', 's', 't', '1'], 'phenotype': 'test1', 'fitness': 1.0, 'generation': 1},\n",
    "    {'genotype': ['t', 'e', 's', 't', '2'], 'phenotype': 'test2', 'fitness': 0.3333333333333333, 'generation': 1}\n",
    "    ]\n",
    "\n",
    "assert tournament_selection(test_get_tournaments, [tournament1, tournament2], 2) == expected_response_1\n",
    "\n",
    "tournament1[0][\"fitness\"] = 0.00\n",
    "\n",
    "expected_response_2 = [\n",
    "    {'genotype': ['t', 'e', 's', 't', '3'], 'phenotype': 'test3', 'fitness': 0.25, 'generation': 1},\n",
    "    {'genotype': ['t', 'e', 's', 't', '2'], 'phenotype': 'test2', 'fitness': 0.3333333333333333, 'generation': 1}\n",
    "    ]\n",
    "\n",
    "assert tournament_selection(test_get_tournaments, [tournament1, tournament2], 2) == expected_response_2\n",
    "\n",
    "tournament2[1][\"fitness\"] = 0.00\n",
    "\n",
    "expected_response_3 = [\n",
    "    {'genotype': ['t', 'e', 's', 't', '3'], 'phenotype': 'test3', 'fitness': 0.25, 'generation': 1},\n",
    "    {'genotype': ['t', 'e', 's', 't', '3'], 'phenotype': 'test3', 'fitness': 0.25, 'generation': 1}\n",
    "    ]\n",
    "\n",
    "assert tournament_selection(test_get_tournaments, [tournament1, tournament2], 2) == expected_response_3"
   ]
  },
  {
   "cell_type": "markdown",
   "metadata": {},
   "source": [
    "<a id=\"get_next_population\"></a>\n",
    "## get_next_population\n",
    "*The get_next_population function takes the current population, the genetic algorithm parameters, and callable randomization functions used in the reproduce function. The function performs parent selection using the selection function in the genetic algorithm parameters. The function checks for a tournament_size parameter to determine if tournament selection will be used.* **Used by**: [genetic_algorithm](#genetic_algorithm)\n",
    "\n",
    "* **population** List[Dict[str, int | float | str]]: the current generation of individuals. An individual is represented with the following metadata.\n",
    "  \n",
    "    {\"phenotype\": str, \"genotype\": List[str], \"generation\": int, \"fitness\": float}\n",
    "* **parameters** Dict[str, Any]: the parameters used for this run of the genetic algorithm. \n",
    "* **rand_float** Callable: a function to produce random floats for the reproduce function\n",
    "* **rand_char** Callable: a function to produce a random mutation char for the reproduce function \n",
    "* **rand_idx** Callable: a function to produce a random index for the reproduce function\n",
    "\n",
    "**returns** List[Dict[str, int | float | str]]."
   ]
  },
  {
   "cell_type": "code",
   "execution_count": 19,
   "metadata": {},
   "outputs": [],
   "source": [
    "def get_next_population(population: List[dict[str, Any]], parameters: Dict[str, Any], rand_float: Callable, rand_char: Callable, rand_idx: Callable) -> List[Dict[str, Any]]:\n",
    "    next_population = []\n",
    "    for n in range(0, parameters[\"population_size\"]//2):\n",
    "        # determine which type of selection to use based on the existence of\n",
    "        # a tournmanet size parameter.\n",
    "        if \"tournament_size\" in parameters:\n",
    "            parent_1, parent_2 = parameters[\"selection_function\"](get_tournaments, population, parameters[\"tournament_size\"])\n",
    "        else:\n",
    "            parent_1, parent_2 = parameters[\"selection_function\"](population)\n",
    "    \n",
    "        child_1, child_2 = reproduce(parent_1, parent_2, parameters, rand_float(), rand_float(), rand_char, rand_idx)\n",
    "        next_population += [child_1, child_2]\n",
    "    return next_population"
   ]
  },
  {
   "cell_type": "code",
   "execution_count": 20,
   "metadata": {},
   "outputs": [],
   "source": [
    "# unit tests\n",
    "test_population = [\n",
    "    {\"genotype\": ['h', 'e', 'l', 'l', 'o'], \"phenotype\": \"hello\", \"fitness\": 1.0},\n",
    "    {\"genotype\": ['w', 'o', 'r', 'l', 'd'], \"phenotype\": \"world\", \"fitness\": 0.5}\n",
    "]\n",
    "parent_1 = {\"genotype\": ['h', 'e', 'l', 'l', 'o'], \"phenotype\": \"hello\", \"fitness\": 1.0}\n",
    "parent_2 = {\"genotype\": ['w', 'o', 'r', 'l', 'd'], \"phenotype\": \"world\", \"fitness\": 0.5}\n",
    "\n",
    "def test_get_tournament() -> List[str]:\n",
    "    return []\n",
    "def test_selection_tournament(test_get_tournament: Callable, population: List[Dict[str, Any]], parameters: Dict[str, Any]) -> List[Dict[str, Any]]:\n",
    "    return parent_1, parent_2\n",
    "def test_selection_other(population: List[Dict[str, Any]]) -> List[Dict[str, Any]]:\n",
    "    return parent_1, parent_2\n",
    "def rand_float() -> float:\n",
    "    return 0.96\n",
    "def rand_char() -> str:\n",
    "    return \"l\"\n",
    "def rand_idx() -> int:\n",
    "    return 0\n",
    "\n",
    "test_parameters = {\n",
    "    \"population_size\": 2,\n",
    "    \"selection_function\": test_selection_tournament,\n",
    "    \"tournament_size\": 2,\n",
    "    \"crossover_rate\": 0.95,\n",
    "    \"mutation_rate\": 0.05\n",
    "}\n",
    "\n",
    "expected_population_1 = [\n",
    "    {'genotype': ['h', 'e', 'l', 'l', 'o'], 'phenotype': 'hello'}, \n",
    "    {'genotype': ['w', 'o', 'r', 'l', 'd'], 'phenotype': 'world'}\n",
    "    ]\n",
    "\n",
    "assert get_next_population(test_population, test_parameters, rand_float, rand_char, rand_idx) == expected_population_1\n",
    "\n",
    "# test with different selection function\n",
    "test_parameters[\"selection_function\"] = test_selection_other\n",
    "del test_parameters[\"tournament_size\"]\n",
    "\n",
    "assert get_next_population(test_population, test_parameters, rand_float, rand_char, rand_idx) == expected_population_1\n",
    "\n",
    "# change population size \n",
    "test_parameters[\"population_size\"] = 4\n",
    "\n",
    "test_population_2 = [\n",
    "    {\"genotype\": ['h', 'e', 'l', 'l', 'o'], \"phenotype\": \"hello\", \"fitness\": 1.0},\n",
    "    {\"genotype\": ['w', 'o', 'r', 'l', 'd'], \"phenotype\": \"world\", \"fitness\": 0.5},\n",
    "    {\"genotype\": ['w', 'l', 'l', 'l', 'd'], \"phenotype\": \"world\", \"fitness\": 0.25},\n",
    "    {\"genotype\": ['w', 'w', 'r', 'l', 'd'], \"phenotype\": \"world\", \"fitness\": 0.2}\n",
    "]\n",
    "\n",
    "expected_population_2 = [\n",
    "    {'genotype': ['h', 'e', 'l', 'l', 'o'], 'phenotype': 'hello'}, \n",
    "    {'genotype': ['w', 'o', 'r', 'l', 'd'], 'phenotype': 'world'},\n",
    "    {'genotype': ['h', 'e', 'l', 'l', 'o'], 'phenotype': 'hello'}, \n",
    "    {'genotype': ['w', 'o', 'r', 'l', 'd'], 'phenotype': 'world'}\n",
    "    ]\n",
    "\n",
    "assert get_next_population(test_population_2, test_parameters, rand_float, rand_char, rand_idx) == expected_population_2\n",
    "\n",
    "# test with invalid population size\n",
    "test_parameters[\"population_size\"] = 0\n",
    "\n",
    "assert get_next_population(test_population_2, test_parameters, rand_float, rand_char, rand_idx) == []"
   ]
  },
  {
   "cell_type": "markdown",
   "metadata": {},
   "source": [
    "<a id=\"maybe_print_best\"></a>\n",
    "## maybe_print_best\n",
    "*The maybe_print_best function takes the current generation and the best individual from the current generation to determine if the algorithm should print this generation. The algorithm prints the best individual of the generation every 10 generations.* **Used by**: [genetic_algorithm](#genetic_algorithm)\n",
    "\n",
    "* **generation** int: the current generation.\n",
    "* **best_individual** Dict[str, Any]: the best individual of the current generation\n",
    "\n",
    "**returns** None."
   ]
  },
  {
   "cell_type": "code",
   "execution_count": 21,
   "metadata": {},
   "outputs": [],
   "source": [
    "def maybe_print_best(generation: int, best_individual: Dict[str, Any]) -> None:\n",
    "    # print every 10 generations\n",
    "    if generation%10 == 0:\n",
    "        print(f\"generation: {generation}, best_individual: {best_individual}\")"
   ]
  },
  {
   "cell_type": "code",
   "execution_count": 22,
   "metadata": {},
   "outputs": [],
   "source": [
    "# no unit tests for the print function because it returns none. "
   ]
  },
  {
   "cell_type": "markdown",
   "metadata": {},
   "source": [
    "<a id=\"genetic_algorithm\"></a>\n",
    "## genetic_algorithm\n",
    "\n",
    "*The genetic_algorithm function takes a target string and the parameters for a given problem and outputs the best individual found in all generations. The genetic algorithm is based on the theory of evolution in that it applies the \"survival of the fittest\" method to determine the best-fit parents to use in reproduction for each generation. Population individuals are represented by a phenotype (true value) and genotype (chromosome) encoding. The genotype encoding is used in algorithm operations such as reproduction. The algorithm applies crossover and mutation to the children with a probability equal to the crossover and mutation rates provided as parameters. Crossover involves using a crossover index to assign a section of parent 1 and parent 2 to each child. Mutation involves applying a randomly selected mutation value to a randomly selected mutation index with a probability of the mutation rate. The algorithm accepts the selection_function and fitness_function as parameters because these may vary between problems. The algorithm prints the best individual of the generation every ten generations to show search progress. The algorithm outputs the best individual of the entire run. The incoming algorithm parameters are outlined below.*\n",
    "\n",
    "* **target** str: the target string for the problem\n",
    "* **parameters** Dict[str, Any]: the parameters used for this run of the genetic algorithm.\n",
    "    * **population_size** int: the size of each population\n",
    "    * **generations** int: the number of generations\n",
    "    * **crossover_rate** float: the probability of crossover\n",
    "    * **mutation_rate** float: the probability of mutation\n",
    "    * **tournament_size** int (optional): the size of each tournament\n",
    "    * **evaluation_function** Callable: the fitness_function to determine individual fitness\n",
    "    * **selection_function** Callable: the selection function to select the next parents\n",
    "    * **valid_chars** str: a string containing the valid characters for this problem\n",
    "\n",
    "**returns** Dict[str, int | float | str]."
   ]
  },
  {
   "cell_type": "code",
   "execution_count": 23,
   "metadata": {},
   "outputs": [],
   "source": [
    "def genetic_algorithm(target: str, parameters: Dict[str, Any]):\n",
    "    current_best = {\"generation\": 0, \"genotype\": [], \"phenotype\": \"\", \"fitness\": 0.00}\n",
    "    generation = 1\n",
    "    # functions to generate random values\n",
    "    random_float = lambda : random.uniform(0.00, 1.00)\n",
    "    random_char = lambda : random.choice(parameters[\"valid_chars\"])\n",
    "    random_index = lambda : random.randint(0, len(target)-1)\n",
    "    random_individual = lambda : ''.join(random.choices(parameters[\"valid_chars\"], k=len(target)))\n",
    "    # get and evaluate population\n",
    "    population = generate_population(random_individual, parameters[\"population_size\"])\n",
    "    evaluated_population = evaluate_population(parameters[\"evaluation_function\"], population, generation, target)\n",
    "    while generation <= parameters[\"generations\"]:\n",
    "        next_population = get_next_population(evaluated_population, parameters, random_float, random_char, random_index)\n",
    "        evaluated_population = evaluate_population(parameters[\"evaluation_function\"], next_population, generation, target)\n",
    "        best_individual = get_best(evaluated_population)\n",
    "        maybe_print_best(generation, best_individual)\n",
    "        if best_individual[\"fitness\"] > current_best[\"fitness\"]:\n",
    "            current_best = best_individual\n",
    "        generation += 1      \n",
    "    return current_best # return the best individual of the entire run"
   ]
  },
  {
   "cell_type": "markdown",
   "metadata": {},
   "source": [
    "## Problem 1\n",
    "\n",
    "The target is the string \"this is so much fun\".\n",
    "The challenge, aside from implementing the basic algorithm, is deriving a fitness function.\n",
    "The fitness function should come up with a fitness score based on element to element comparisons between target v. phenotype."
   ]
  },
  {
   "cell_type": "code",
   "execution_count": 24,
   "metadata": {},
   "outputs": [],
   "source": [
    "target1 = \"this is so much fun\"\n",
    "\n",
    "def fitness_function_1(genotype: List[str], target: str) -> float:\n",
    "    loss = 0\n",
    "    for index, value in enumerate(target):\n",
    "        if value != genotype[index]:\n",
    "            loss += 1\n",
    "    return 1/(1+loss)"
   ]
  },
  {
   "cell_type": "code",
   "execution_count": 25,
   "metadata": {},
   "outputs": [],
   "source": [
    "# set up if you need it.\n",
    "algorithm_params_1 = {\n",
    "    \"population_size\": 2000, \n",
    "    \"generations\": 100, \n",
    "    \"crossover_rate\": 0.95, \n",
    "    \"mutation_rate\": 0.05,\n",
    "    \"tournament_size\": 6,\n",
    "    \"evaluation_function\": fitness_function_1,\n",
    "    \"selection_function\": tournament_selection,\n",
    "    \"valid_chars\": ALPHABET\n",
    "    }"
   ]
  },
  {
   "cell_type": "code",
   "execution_count": 26,
   "metadata": {},
   "outputs": [
    {
     "name": "stdout",
     "output_type": "stream",
     "text": [
      "generation: 10, best_individual: {'genotype': ['t', 'h', 'i', 's', 'k', 'i', 's', 'i', 's', 'o', ' ', 'm', 'u', 'c', 'h', ' ', 'f', 'u', 'n'], 'phenotype': 'thiskisiso much fun', 'fitness': 0.3333333333333333, 'generation': 10}\n",
      "generation: 20, best_individual: {'genotype': ['t', 'h', 'i', 's', ' ', 'i', 's', ' ', 's', 'o', ' ', 'm', 'u', 'c', 'h', ' ', 'f', 'u', 'n'], 'phenotype': 'this is so much fun', 'fitness': 1.0, 'generation': 20}\n",
      "generation: 30, best_individual: {'genotype': ['t', 'h', 'i', 's', ' ', 'i', 's', ' ', 's', 'o', ' ', 'm', 'u', 'c', 'h', ' ', 'f', 'u', 'n'], 'phenotype': 'this is so much fun', 'fitness': 1.0, 'generation': 30}\n",
      "generation: 40, best_individual: {'genotype': ['t', 'h', 'i', 's', ' ', 'i', 's', ' ', 's', 'o', ' ', 'm', 'u', 'c', 'h', ' ', 'f', 'u', 'n'], 'phenotype': 'this is so much fun', 'fitness': 1.0, 'generation': 40}\n",
      "generation: 50, best_individual: {'genotype': ['t', 'h', 'i', 's', ' ', 'i', 's', ' ', 's', 'o', ' ', 'm', 'u', 'c', 'h', ' ', 'f', 'u', 'n'], 'phenotype': 'this is so much fun', 'fitness': 1.0, 'generation': 50}\n",
      "generation: 60, best_individual: {'genotype': ['t', 'h', 'i', 's', ' ', 'i', 's', ' ', 's', 'o', ' ', 'm', 'u', 'c', 'h', ' ', 'f', 'u', 'n'], 'phenotype': 'this is so much fun', 'fitness': 1.0, 'generation': 60}\n",
      "generation: 70, best_individual: {'genotype': ['t', 'h', 'i', 's', ' ', 'i', 's', ' ', 's', 'o', ' ', 'm', 'u', 'c', 'h', ' ', 'f', 'u', 'n'], 'phenotype': 'this is so much fun', 'fitness': 1.0, 'generation': 70}\n",
      "generation: 80, best_individual: {'genotype': ['t', 'h', 'i', 's', ' ', 'i', 's', ' ', 's', 'o', ' ', 'm', 'u', 'c', 'h', ' ', 'f', 'u', 'n'], 'phenotype': 'this is so much fun', 'fitness': 1.0, 'generation': 80}\n",
      "generation: 90, best_individual: {'genotype': ['t', 'h', 'i', 's', ' ', 'i', 's', ' ', 's', 'o', ' ', 'm', 'u', 'c', 'h', ' ', 'f', 'u', 'n'], 'phenotype': 'this is so much fun', 'fitness': 1.0, 'generation': 90}\n",
      "generation: 100, best_individual: {'genotype': ['t', 'h', 'i', 's', ' ', 'i', 's', ' ', 's', 'o', ' ', 'm', 'u', 'c', 'h', ' ', 'f', 'u', 'n'], 'phenotype': 'this is so much fun', 'fitness': 1.0, 'generation': 100}\n"
     ]
    }
   ],
   "source": [
    "result1 = genetic_algorithm(target1, algorithm_params_1) # do what you need to do for your implementation but don't change the lines above or below."
   ]
  },
  {
   "cell_type": "code",
   "execution_count": 27,
   "metadata": {},
   "outputs": [
    {
     "name": "stdout",
     "output_type": "stream",
     "text": [
      "{'fitness': 1.0,\n",
      " 'generation': 13,\n",
      " 'genotype': ['t', 'h', 'i', 's', ' ', 'i', 's', ' ', 's', 'o', ' ', 'm', 'u',\n",
      "              'c', 'h', ' ', 'f', 'u', 'n'],\n",
      " 'phenotype': 'this is so much fun'}\n"
     ]
    }
   ],
   "source": [
    "pprint(result1, compact=True)"
   ]
  },
  {
   "cell_type": "markdown",
   "metadata": {},
   "source": [
    "## Problem 2\n",
    "\n",
    "The best individual in the population is the one who expresses this string *forwards*."
   ]
  },
  {
   "cell_type": "code",
   "execution_count": 28,
   "metadata": {},
   "outputs": [],
   "source": [
    "target2 = \"nuf hcum os si siht\""
   ]
  },
  {
   "cell_type": "code",
   "execution_count": 29,
   "metadata": {},
   "outputs": [],
   "source": [
    "def fitness_function_2(phenotype: str, target: str) -> float:\n",
    "    loss = 0\n",
    "    for index, value in enumerate(phenotype):\n",
    "        if value != target[-index-1]:\n",
    "            loss += 1\n",
    "    return 1/(1+loss)\n",
    "\n",
    "algorithm_params_2 = {\n",
    "    \"population_size\": 2000, \n",
    "    \"generations\": 100, \n",
    "    \"crossover_rate\": 0.95, \n",
    "    \"mutation_rate\": 0.05,\n",
    "    \"tournament_size\": 3,\n",
    "    \"evaluation_function\": fitness_function_2,\n",
    "    \"selection_function\": tournament_selection,\n",
    "    \"valid_chars\": ALPHABET\n",
    "    }"
   ]
  },
  {
   "cell_type": "code",
   "execution_count": 30,
   "metadata": {},
   "outputs": [
    {
     "name": "stdout",
     "output_type": "stream",
     "text": [
      "generation: 10, best_individual: {'genotype': ['t', 'h', 'i', 's', ' ', 'i', 'e', ' ', 's', 'o', 'w', 'h', 'u', 'v', 'h', ' ', 'f', 'u', 'n'], 'phenotype': 'this ie sowhuvh fun', 'fitness': 0.2, 'generation': 10}\n",
      "generation: 20, best_individual: {'genotype': ['t', 'h', 'i', 's', ' ', 'i', 's', ' ', 's', 'o', ' ', 'm', 'u', 'c', 'h', ' ', 'f', 'u', 'n'], 'phenotype': 'this is so much fun', 'fitness': 1.0, 'generation': 20}\n",
      "generation: 30, best_individual: {'genotype': ['t', 'h', 'i', 's', ' ', 'i', 's', ' ', 's', 'o', ' ', 'm', 'u', 'c', 'h', ' ', 'f', 'u', 'n'], 'phenotype': 'this is so much fun', 'fitness': 1.0, 'generation': 30}\n",
      "generation: 40, best_individual: {'genotype': ['t', 'h', 'i', 's', ' ', 'i', 's', ' ', 's', 'o', ' ', 'm', 'u', 'c', 'h', ' ', 'f', 'u', 'n'], 'phenotype': 'this is so much fun', 'fitness': 1.0, 'generation': 40}\n",
      "generation: 50, best_individual: {'genotype': ['t', 'h', 'i', 's', ' ', 'i', 's', ' ', 's', 'o', ' ', 'm', 'u', 'c', 'h', ' ', 'f', 'u', 'n'], 'phenotype': 'this is so much fun', 'fitness': 1.0, 'generation': 50}\n",
      "generation: 60, best_individual: {'genotype': ['t', 'h', 'i', 's', ' ', 'i', 's', ' ', 's', 'o', ' ', 'm', 'u', 'c', 'h', ' ', 'f', 'u', 'n'], 'phenotype': 'this is so much fun', 'fitness': 1.0, 'generation': 60}\n",
      "generation: 70, best_individual: {'genotype': ['t', 'h', 'i', 's', ' ', 'i', 's', ' ', 's', 'o', ' ', 'm', 'u', 'c', 'h', ' ', 'f', 'u', 'n'], 'phenotype': 'this is so much fun', 'fitness': 1.0, 'generation': 70}\n",
      "generation: 80, best_individual: {'genotype': ['t', 'h', 'i', 's', ' ', 'i', 's', ' ', 's', 'o', ' ', 'm', 'u', 'c', 'h', ' ', 'f', 'u', 'n'], 'phenotype': 'this is so much fun', 'fitness': 1.0, 'generation': 80}\n",
      "generation: 90, best_individual: {'genotype': ['t', 'h', 'i', 's', ' ', 'i', 's', ' ', 's', 'o', ' ', 'm', 'u', 'c', 'h', ' ', 'f', 'u', 'n'], 'phenotype': 'this is so much fun', 'fitness': 1.0, 'generation': 90}\n",
      "generation: 100, best_individual: {'genotype': ['t', 'h', 'i', 's', ' ', 'i', 's', ' ', 's', 'o', ' ', 'm', 'u', 'c', 'h', ' ', 'f', 'u', 'n'], 'phenotype': 'this is so much fun', 'fitness': 1.0, 'generation': 100}\n"
     ]
    }
   ],
   "source": [
    "result2 = genetic_algorithm(target2, algorithm_params_2) # do what you need to do for your implementation but don't change the lines above or below."
   ]
  },
  {
   "cell_type": "code",
   "execution_count": 31,
   "metadata": {},
   "outputs": [
    {
     "name": "stdout",
     "output_type": "stream",
     "text": [
      "{'fitness': 1.0,\n",
      " 'generation': 16,\n",
      " 'genotype': ['t', 'h', 'i', 's', ' ', 'i', 's', ' ', 's', 'o', ' ', 'm', 'u',\n",
      "              'c', 'h', ' ', 'f', 'u', 'n'],\n",
      " 'phenotype': 'this is so much fun'}\n"
     ]
    }
   ],
   "source": [
    "pprint(result2, compact=True)"
   ]
  },
  {
   "cell_type": "markdown",
   "metadata": {},
   "source": [
    "## Problem 3\n",
    "\n",
    "The Caeser Cypher replaces each letter of a string with the letter 13 characters down alphabet (rotating from \"z\" back to \"a\" as needed).\n",
    "This is also known as ROT13 (for \"rotate 13\").\n",
    "Latin did not have spaces (and the space is not continguous with the letters a-z) so we'll remove them from our alphabet.\n",
    "Again, the goal is to derive a fitness function that compares a single gene against a single gene, without global transformations.\n",
    "\n",
    "<div style=\"background: lemonchiffon; margin:20px; padding: 20px;\">\n",
    "    <strong>Important</strong>\n",
    "    <p>\n",
    "        You may not apply ROT13 to an entire string (either target or candidate) at any time.\n",
    "        Everything must be a computation of one gene against one gene.\n",
    "    </p>\n",
    "</div>\n",
    "\n",
    "The best individual will express the target *decoded*."
   ]
  },
  {
   "cell_type": "code",
   "execution_count": 32,
   "metadata": {},
   "outputs": [],
   "source": [
    "ALPHABET3 = \"abcdefghijklmnopqrstuvwxyz\""
   ]
  },
  {
   "cell_type": "code",
   "execution_count": 33,
   "metadata": {},
   "outputs": [],
   "source": [
    "target3 = \"guvfvffbzhpusha\""
   ]
  },
  {
   "cell_type": "code",
   "execution_count": 34,
   "metadata": {},
   "outputs": [],
   "source": [
    "# set up if you need it\n",
    "def fitness_function_3(phenotype: str, target: str) -> float:\n",
    "    loss = 0\n",
    "    for index, value in enumerate(phenotype):\n",
    "        shift_val = ALPHABET3[(ALPHABET3.index(value) + 13)%len(ALPHABET3)]\n",
    "        if shift_val != target[index]:\n",
    "            loss += 1\n",
    "    return 1/(1+loss)\n",
    "\n",
    "algorithm_params_3 = {\n",
    "    \"population_size\": 2000, \n",
    "    \"generations\": 100, \n",
    "    \"crossover_rate\": 0.95, \n",
    "    \"mutation_rate\": 0.05,\n",
    "    \"tournament_size\": 3,\n",
    "    \"evaluation_function\": fitness_function_3,\n",
    "    \"selection_function\": tournament_selection,\n",
    "    \"valid_chars\": ALPHABET3\n",
    "    }"
   ]
  },
  {
   "cell_type": "code",
   "execution_count": 35,
   "metadata": {
    "scrolled": true
   },
   "outputs": [
    {
     "name": "stdout",
     "output_type": "stream",
     "text": [
      "generation: 10, best_individual: {'genotype': ['t', 'h', 'i', 's', 'u', 's', 's', 'o', 'm', 'u', 'k', 'h', 'f', 'u', 'n'], 'phenotype': 'thisussomukhfun', 'fitness': 0.3333333333333333, 'generation': 10}\n",
      "generation: 20, best_individual: {'genotype': ['t', 'h', 'i', 's', 'i', 's', 's', 'o', 'm', 'u', 'c', 'h', 'f', 'u', 'n'], 'phenotype': 'thisissomuchfun', 'fitness': 1.0, 'generation': 20}\n",
      "generation: 30, best_individual: {'genotype': ['t', 'h', 'i', 's', 'i', 's', 's', 'o', 'm', 'u', 'c', 'h', 'f', 'u', 'n'], 'phenotype': 'thisissomuchfun', 'fitness': 1.0, 'generation': 30}\n",
      "generation: 40, best_individual: {'genotype': ['t', 'h', 'i', 's', 'i', 's', 's', 'o', 'm', 'u', 'c', 'h', 'f', 'u', 'n'], 'phenotype': 'thisissomuchfun', 'fitness': 1.0, 'generation': 40}\n",
      "generation: 50, best_individual: {'genotype': ['t', 'h', 'i', 's', 'i', 's', 's', 'o', 'm', 'u', 'c', 'h', 'f', 'u', 'n'], 'phenotype': 'thisissomuchfun', 'fitness': 1.0, 'generation': 50}\n",
      "generation: 60, best_individual: {'genotype': ['t', 'h', 'i', 's', 'i', 's', 's', 'o', 'm', 'u', 'c', 'h', 'f', 'u', 'n'], 'phenotype': 'thisissomuchfun', 'fitness': 1.0, 'generation': 60}\n",
      "generation: 70, best_individual: {'genotype': ['t', 'h', 'i', 's', 'i', 's', 's', 'o', 'm', 'u', 'c', 'h', 'f', 'u', 'n'], 'phenotype': 'thisissomuchfun', 'fitness': 1.0, 'generation': 70}\n",
      "generation: 80, best_individual: {'genotype': ['t', 'h', 'i', 's', 'i', 's', 's', 'o', 'm', 'u', 'c', 'h', 'f', 'u', 'n'], 'phenotype': 'thisissomuchfun', 'fitness': 1.0, 'generation': 80}\n",
      "generation: 90, best_individual: {'genotype': ['t', 'h', 'i', 's', 'i', 's', 's', 'o', 'm', 'u', 'c', 'h', 'f', 'u', 'n'], 'phenotype': 'thisissomuchfun', 'fitness': 1.0, 'generation': 90}\n",
      "generation: 100, best_individual: {'genotype': ['t', 'h', 'i', 's', 'i', 's', 's', 'o', 'm', 'u', 'c', 'h', 'f', 'u', 'n'], 'phenotype': 'thisissomuchfun', 'fitness': 1.0, 'generation': 100}\n"
     ]
    }
   ],
   "source": [
    "result3 = genetic_algorithm(target3, algorithm_params_3) # do what you need to do for your implementation but don't change the lines above or below."
   ]
  },
  {
   "cell_type": "code",
   "execution_count": 36,
   "metadata": {},
   "outputs": [
    {
     "name": "stdout",
     "output_type": "stream",
     "text": [
      "{'fitness': 1.0,\n",
      " 'generation': 12,\n",
      " 'genotype': ['t', 'h', 'i', 's', 'i', 's', 's', 'o', 'm', 'u', 'c', 'h', 'f',\n",
      "              'u', 'n'],\n",
      " 'phenotype': 'thisissomuchfun'}\n"
     ]
    }
   ],
   "source": [
    "pprint(result3, compact=True)"
   ]
  },
  {
   "cell_type": "markdown",
   "metadata": {},
   "source": [
    "## Solving Ciphers with an Unknown Shift\n",
    "\n",
    "An approach to the cipher problem with an unknown or dynamic shift is to include the cipher key in the phenotype representation of the solution encoding as the final letter in the phenotype. The letter's index in the alphabet would correspond to the shift value. This problem will assume 0-indexing for the alphabet string to simplify index conversions. If the phenotype of the encoded solution is \"khoorczruogd\", then d would correspond to the cipher key. Since d has an index of 3 in the alphabet string, the shift for this problem is 3. The \" \" character would correspond to a shift of 26 because it is the last character in the alphabet string. The fitness_function must change to support this implementation. The encode and decode functions could remain the same.  The genetic algorithm should find the solution \"hello world\" for the solution encoding above.\n",
    "\n",
    "**Modifications to problem three**:\n",
    "\n",
    "- The **fitness_function** would need to remove the final letter from the target string and store this value as the cipher key. Next, the function should decode the cipher key by obtaining the letter's index in the alphabet. The fitness function from problem three would need to replace the hard-coded 13 with the shift value obtained from the phenotype. Phenotype comparisons should omit the final value from the target string so the solution does not include the cipher key.\n",
    "\n",
    "- The **target_string** should contain one extra letter at the end of the encoded solution to represent the shift value. The shift value is equal to the letter's index in the alphabet.\n",
    "\n",
    "The values in the alphabet string would not impact this solution. The alphabet could contain no spaces or other special characters as long as the final character in the solution encoding maps to an index representing the shift value. "
   ]
  }
 ],
 "metadata": {
  "kernelspec": {
   "display_name": "Python (en605645)",
   "language": "python",
   "name": "en605645"
  },
  "language_info": {
   "codemirror_mode": {
    "name": "ipython",
    "version": 3
   },
   "file_extension": ".py",
   "mimetype": "text/x-python",
   "name": "python",
   "nbconvert_exporter": "python",
   "pygments_lexer": "ipython3",
   "version": "3.10.8"
  },
  "toc": {
   "colors": {
    "hover_highlight": "#DAA520",
    "navigate_num": "#000000",
    "navigate_text": "#333333",
    "running_highlight": "#FF0000",
    "selected_highlight": "#FFD700",
    "sidebar_border": "#EEEEEE",
    "wrapper_background": "#FFFFFF"
   },
   "moveMenuLeft": true,
   "nav_menu": {
    "height": "120px",
    "width": "252px"
   },
   "navigate_menu": true,
   "number_sections": true,
   "sideBar": true,
   "threshold": 4,
   "toc_cell": false,
   "toc_section_display": "block",
   "toc_window_display": false,
   "widenNotebook": false
  }
 },
 "nbformat": 4,
 "nbformat_minor": 4
}
