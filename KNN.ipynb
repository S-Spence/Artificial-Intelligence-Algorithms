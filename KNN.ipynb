{
 "cells": [
  {
   "cell_type": "markdown",
   "metadata": {},
   "source": [
    "# k Nearest Neighbors and Model Evaluation"
   ]
  },
  {
   "cell_type": "code",
   "execution_count": 1,
   "metadata": {},
   "outputs": [],
   "source": [
    "import random\n",
    "from typing import List, Dict, Tuple, Callable, Any\n",
    "import math\n",
    "from matplotlib import pyplot as plt\n",
    "import copy\n",
    "import statistics as stats"
   ]
  },
  {
   "cell_type": "markdown",
   "metadata": {},
   "source": [
    "## Problem Overview\n",
    "\n",
    "Use k Nearest Neighbors (kNN) to build a \"model\" that will estimate the compressive strength of various types of concrete using the `concrete_compressive_strength.csv` file in the `Datasets` directory. \n",
    "\n",
    "Use Mean Square Error as the evaluation metric.\n",
    "\n",
    "$$MSE = \\frac{1}{n}\\sum^n_i (y_i - \\hat{y}_i)^2$$"
   ]
  },
  {
   "cell_type": "markdown",
   "metadata": {},
   "source": [
    "## Load the Data\n",
    "\n",
    "<a id=\"parse_data\"></a>\n",
    "### parse_data\n",
    "\n",
    "*The function `parse_data` loads the data from the specified file and returns a List of Lists. The outer List is the data set and each element (List) is a specific observation.*\n",
    "\n",
    "* **file_name** str: the name of the file to load\n",
    "\n",
    "**returns** List[List]."
   ]
  },
  {
   "cell_type": "code",
   "execution_count": 2,
   "metadata": {},
   "outputs": [],
   "source": [
    "## function provided by S. Butcher, 2022\n",
    "def parse_data(file_name: str) -> List[List]:\n",
    "    data = []\n",
    "    file = open(file_name, \"r\")\n",
    "    for line in file:\n",
    "        datum = [float(value) for value in line.rstrip().split(\",\")]\n",
    "        data.append(datum)\n",
    "    random.shuffle(data)\n",
    "    return data"
   ]
  },
  {
   "cell_type": "code",
   "execution_count": 3,
   "metadata": {},
   "outputs": [],
   "source": [
    "data = parse_data(\"Datasets/concrete_compressive_strength.csv\")"
   ]
  },
  {
   "cell_type": "code",
   "execution_count": 4,
   "metadata": {
    "tags": []
   },
   "outputs": [
    {
     "data": {
      "text/plain": [
       "[295.7, 0.0, 95.6, 171.5, 8.9, 955.1, 859.2, 3.0, 22.95]"
      ]
     },
     "execution_count": 4,
     "metadata": {},
     "output_type": "execute_result"
    }
   ],
   "source": [
    "data[0]"
   ]
  },
  {
   "cell_type": "code",
   "execution_count": 5,
   "metadata": {},
   "outputs": [
    {
     "data": {
      "text/plain": [
       "1030"
      ]
     },
     "execution_count": 5,
     "metadata": {},
     "output_type": "execute_result"
    }
   ],
   "source": [
    "len(data)"
   ]
  },
  {
   "cell_type": "markdown",
   "metadata": {},
   "source": [
    "There are 1,030 observations and each observation has 8 measurements. The data dictionary for this data set tells us the definitions of the individual variables (columns/indices):\n",
    "\n",
    "| Index | Variable | Definition |\n",
    "|-------|----------|------------|\n",
    "| 0     | cement   | kg in a cubic meter mixture |\n",
    "| 1     | slag     | kg in a cubic meter mixture |\n",
    "| 2     | ash      | kg in a cubic meter mixture |\n",
    "| 3     | water    | kg in a cubic meter mixture |\n",
    "| 4     | superplasticizer | kg in a cubic meter mixture |\n",
    "| 5     | coarse aggregate | kg in a cubic meter mixture |\n",
    "| 6     | fine aggregate | kg in a cubic meter mixture |\n",
    "| 7     | age | days |\n",
    "| 8     | concrete compressive strength | MPa |\n",
    "\n",
    "The target (\"y\") variable is a Index 8, concrete compressive strength in (Mega?) [Pascals](https://en.wikipedia.org/wiki/Pascal_(unit))."
   ]
  },
  {
   "cell_type": "markdown",
   "metadata": {},
   "source": [
    "## Train/Test Splits - n folds\n",
    "\n",
    "<a id=\"create_folds\"></a>\n",
    "### create_folds\n",
    "\n",
    "*The function `create_folds` takes a list (xs) and splits it into `n` equal folds.*\n",
    "\n",
    "* **xs** str: the dataset as a list\n",
    "* **n** int: the number of folds\n",
    "\n",
    "**returns** List[List[List]]."
   ]
  },
  {
   "cell_type": "code",
   "execution_count": 6,
   "metadata": {},
   "outputs": [],
   "source": [
    "def create_folds(xs: List, n: int) -> List[List[List]]:\n",
    "    k, m = divmod(len(xs), n)\n",
    "    # be careful of generators...\n",
    "    return list(xs[i * k + min(i, m):(i + 1) * k + min(i + 1, m)] for i in range(n))"
   ]
  },
  {
   "cell_type": "code",
   "execution_count": 7,
   "metadata": {},
   "outputs": [],
   "source": [
    "folds = create_folds(data, 10)"
   ]
  },
  {
   "cell_type": "code",
   "execution_count": 8,
   "metadata": {},
   "outputs": [
    {
     "data": {
      "text/plain": [
       "10"
      ]
     },
     "execution_count": 8,
     "metadata": {},
     "output_type": "execute_result"
    }
   ],
   "source": [
    "len(folds)"
   ]
  },
  {
   "cell_type": "markdown",
   "metadata": {},
   "source": [
    "<a id=\"create_train_test\"></a>\n",
    "### create_train_test\n",
    "\n",
    "*The `create_train_test` function uses the results of the `create_folds` function to create training and test sets for each k-fold experiment.*\n",
    "\n",
    "* **folds** List[List[List]]: the result of `create_folds` applied to the dataset\n",
    "* **index** int: the index of the test fold (ex: 0-9 for 10-fold validation)\n",
    "\n",
    "**returns** Tuple[List[List], List[List]]."
   ]
  },
  {
   "cell_type": "code",
   "execution_count": 9,
   "metadata": {},
   "outputs": [],
   "source": [
    "def create_train_test(folds: List[List[List]], index: int) -> Tuple[List[List], List[List]]:\n",
    "    training = []\n",
    "    test = []\n",
    "    for i, fold in enumerate(folds):\n",
    "        if i == index:\n",
    "            test = fold\n",
    "        else:\n",
    "            training = training + fold\n",
    "    return training, test"
   ]
  },
  {
   "cell_type": "markdown",
   "metadata": {},
   "source": [
    "Test the function to produce train and test datasets where the test set is the fold at index 0:"
   ]
  },
  {
   "cell_type": "code",
   "execution_count": 10,
   "metadata": {},
   "outputs": [],
   "source": [
    "train, test = create_train_test(folds, 0)"
   ]
  },
  {
   "cell_type": "code",
   "execution_count": 11,
   "metadata": {},
   "outputs": [
    {
     "data": {
      "text/plain": [
       "927"
      ]
     },
     "execution_count": 11,
     "metadata": {},
     "output_type": "execute_result"
    }
   ],
   "source": [
    "len(train)"
   ]
  },
  {
   "cell_type": "code",
   "execution_count": 12,
   "metadata": {},
   "outputs": [
    {
     "data": {
      "text/plain": [
       "103"
      ]
     },
     "execution_count": 12,
     "metadata": {},
     "output_type": "execute_result"
    }
   ],
   "source": [
    "len(test)"
   ]
  },
  {
   "cell_type": "markdown",
   "metadata": {},
   "source": [
    "## Helpers"
   ]
  },
  {
   "cell_type": "markdown",
   "metadata": {},
   "source": [
    "<a id=\"split_labels\"></a>\n",
    "## split_labels\n",
    "\n",
    "*The split_labels function splits the the data into a labels array and a data array.* **Used by**: [validation_curves](#validation_curves), [k_fold_validation](k_fold_validation)\n",
    "\n",
    "* **data** List[List[float]]: the data to split into data/labels lists\n",
    "* **label_index** int: the index of the dataset labels\n",
    "\n",
    "**returns** List[List[List[float]]]."
   ]
  },
  {
   "cell_type": "code",
   "execution_count": 13,
   "metadata": {},
   "outputs": [],
   "source": [
    "def split_labels(data: List[List[float]], label_index: int) -> List[List[List[float]]]:\n",
    "    values = [row[:label_index] + row[label_index+1:] for row in data]\n",
    "    labels = [row[label_index] for row in data]\n",
    "    return values, labels"
   ]
  },
  {
   "cell_type": "code",
   "execution_count": 14,
   "metadata": {},
   "outputs": [],
   "source": [
    "# unit tests\n",
    "test_data = [[i for i in range(10)] for j in range(10)]\n",
    "\n",
    "# label in front\n",
    "new_data_1, labels_1 = split_labels(test_data, 0)\n",
    "assert len(new_data_1[0]) == 9\n",
    "assert labels_1 == [0 for i in range(10)]\n",
    "\n",
    "# label in middle\n",
    "new_data_2, labels_2 = split_labels(test_data, 5)\n",
    "assert len(new_data_2[0]) == 9\n",
    "assert labels_2 == [5 for i in range(10)]\n",
    "\n",
    "# label at end\n",
    "new_data_3, labels_3 = split_labels(test_data, 9)\n",
    "assert len(new_data_3[0]) == 9\n",
    "assert labels_3 == [9 for i in range(10)]"
   ]
  },
  {
   "cell_type": "markdown",
   "metadata": {},
   "source": [
    "<a id=\"standardize\"></a>\n",
    "## standardize\n",
    "\n",
    "*The standardize function normalizes a feature of a dataset to have a mean of 0 and a standard deviation of 1.* **Used by**: [normalize_data](#normalize_data)\n",
    "\n",
    "* **feature** List[float]: the feature to normalize\n",
    "\n",
    "**returns** List[float]."
   ]
  },
  {
   "cell_type": "code",
   "execution_count": 15,
   "metadata": {},
   "outputs": [],
   "source": [
    "def standardize(feature: List[float]) -> List[float]:\n",
    "    mean = stats.mean(feature)\n",
    "    # population standard deviation to use n in the denominator instead of n-1 as the \n",
    "    # stdev function uses.\n",
    "    std = stats.pstdev(feature)\n",
    "    normalized = []\n",
    "    for val in feature:\n",
    "        normalized.append((val-mean)/std)\n",
    "    return normalized"
   ]
  },
  {
   "cell_type": "code",
   "execution_count": 16,
   "metadata": {},
   "outputs": [],
   "source": [
    "test_data_1 = [0.12345, 10.52, 5.6789, 100.456]\n",
    "\n",
    "normalized_1 = standardize(test_data_1)\n",
    "assert round(stats.mean(normalized_1)) == 0\n",
    "assert round(stats.stdev(normalized_1)) == 1\n",
    "\n",
    "test_data_2 = [-0.4575, -10.52, 5.6789, 100.456]\n",
    "\n",
    "normalized_2 = standardize(test_data_2)\n",
    "assert round(stats.mean(normalized_2)) == 0\n",
    "assert round(stats.stdev(normalized_2)) == 1\n",
    "\n",
    "test_data_3 = [-0.4575, -10.52, 0.00, 1000.456]\n",
    "\n",
    "normalized_3 = standardize(test_data_3)\n",
    "assert round(stats.mean(normalized_3)) == 0\n",
    "assert round(stats.stdev(normalized_3)) == 1"
   ]
  },
  {
   "cell_type": "markdown",
   "metadata": {},
   "source": [
    "<a id=\"normalize_data\"></a>\n",
    "## normalize_data\n",
    "\n",
    "*The normalize data function normalizes a dataset by feature using the normalization function provided.* **Used by**: Q5: Choose your own adventure.\n",
    "\n",
    "* **data** List[List[float]]: the dataset to normalize by feature\n",
    "* **norm_function** Callable: a normalization function\n",
    "\n",
    "**returns** List[List[float]]."
   ]
  },
  {
   "cell_type": "code",
   "execution_count": 17,
   "metadata": {},
   "outputs": [],
   "source": [
    "def normalize_data(data: List[List[float]], norm_function: Callable) -> List[List[float]]:\n",
    "    num_features = len(data[0])\n",
    "    features = []\n",
    "    norm_data = copy.deepcopy(data)\n",
    "    for col_index in range(num_features):\n",
    "        feature_values = [row[col_index] for row in data]\n",
    "        normalized = norm_function(feature_values)\n",
    "        # add normalized feature back to dataframe\n",
    "        for index, row in enumerate(norm_data):\n",
    "            row[col_index] = normalized[index]\n",
    "    return norm_data"
   ]
  },
  {
   "cell_type": "code",
   "execution_count": 18,
   "metadata": {},
   "outputs": [],
   "source": [
    "# unit tests\n",
    "test_data = [\n",
    "    [1.023, 2.345, 3.455],\n",
    "    [5.234, 4.345, 3123.2],\n",
    "    [20.465, 40.234, 100.456]\n",
    "]\n",
    "\n",
    "norm_test_data = normalize_data(test_data, standardize)\n",
    "feature_1 = [norm_test_data[0][0], norm_test_data[1][0], norm_test_data[2][0]]\n",
    "feature_2 = [norm_test_data[0][1], norm_test_data[1][1], norm_test_data[2][1]]\n",
    "feature_3 = [norm_test_data[0][2], norm_test_data[1][2], norm_test_data[2][2]]\n",
    "\n",
    "assert round(stats.mean(feature_1)) == 0\n",
    "assert round(stats.stdev(feature_1)) == 1\n",
    "\n",
    "assert round(stats.mean(feature_2)) == 0\n",
    "assert round(stats.stdev(feature_2)) == 1\n",
    "\n",
    "assert round(stats.mean(feature_3)) == 0\n",
    "assert round(stats.stdev(feature_3)) == 1"
   ]
  },
  {
   "cell_type": "markdown",
   "metadata": {},
   "source": [
    "<a id=\"knn_average\"></a>\n",
    "## knn_average\n",
    "\n",
    "*The knn_average function returns the average y value of the k-nearest neighbors.* **Used by**: [knn](#knn)\n",
    "\n",
    "* **k_values** List[Tuple[float, List[float]]]: a tuple of the form (distance, example) for the k-nearest neighbors\n",
    "* **label_index** int: the label index in the dataframe\n",
    "\n",
    "**returns** float."
   ]
  },
  {
   "cell_type": "code",
   "execution_count": 19,
   "metadata": {},
   "outputs": [],
   "source": [
    "def knn_average(k_values: List[Tuple[float, List[float]]], label_index: int) -> float:\n",
    "    sum_y = 0\n",
    "    for y in k_values:\n",
    "        sum_y += y[1][label_index] \n",
    "    return sum_y/len(k_values)"
   ]
  },
  {
   "cell_type": "code",
   "execution_count": 20,
   "metadata": {},
   "outputs": [],
   "source": [
    "# unit tests\n",
    "test_data_1 = [(0.21, [0.67, 3.45]), (0.34, [0.45, 4.56]), (0.46, [0.91, 5.67])]\n",
    "\n",
    "assert knn_average(test_data_1, 1) == 4.56\n",
    "\n",
    "test_data_2 = [(0.21, [0.67, 0.00]), (0.34, [0.45, 0.00]), (0.46, [0.91, 0.00])]\n",
    "\n",
    "assert knn_average(test_data_2, 1) == 0.00\n",
    "assert round(knn_average(test_data_2, 0), 3) == 0.677"
   ]
  },
  {
   "cell_type": "markdown",
   "metadata": {},
   "source": [
    "<a id=\"euclidean_distance\"></a>\n",
    "## euclidean_distance\n",
    "\n",
    "*The euclidean_distance function returns the total Euclidean distance between two observations.* **Used by**: [knn](#knn)\n",
    "\n",
    "* **observations** List[float]: a single observation from the dataset\n",
    "* **query** List[float]: the point we are trying to predict\n",
    "\n",
    "**returns** float."
   ]
  },
  {
   "cell_type": "code",
   "execution_count": 21,
   "metadata": {},
   "outputs": [],
   "source": [
    "def euclidean_distance(observation: List[float], query: List[float]) -> float:\n",
    "    distance = 0\n",
    "    for index, value in enumerate(query):\n",
    "        distance += math.pow(observation[index] - value, 2)\n",
    "    return distance     "
   ]
  },
  {
   "cell_type": "code",
   "execution_count": 22,
   "metadata": {},
   "outputs": [],
   "source": [
    "# unit tests\n",
    "point_1 = [1, 2, 3]\n",
    "point_2 = [4, 5, 6]\n",
    "\n",
    "assert euclidean_distance(point_1, point_2) == 27\n",
    "\n",
    "point_1 = [3, 4, 5]\n",
    "point_2 = [4, 5, 6]\n",
    "\n",
    "assert euclidean_distance(point_1, point_2) == 3\n",
    "\n",
    "point_1 = [4, 5, 6]\n",
    "point_2 = [4, 5, 6]\n",
    "\n",
    "assert euclidean_distance(point_1, point_2) == 0"
   ]
  },
  {
   "cell_type": "markdown",
   "metadata": {},
   "source": [
    "<a id=\"mean_squared_error\"></a>\n",
    "## mean_squared_error\n",
    "\n",
    "*The mean_squared_error function returns the mean squared error between the predictions and the true labels.* **Used by**: [k_fold_validation](#k_fold_validation)\n",
    "\n",
    "* **predictions** List[float]: the predictions for the knn run\n",
    "* **test_labels** List[float]: the true labels \n",
    "\n",
    "**returns** float."
   ]
  },
  {
   "cell_type": "code",
   "execution_count": 23,
   "metadata": {},
   "outputs": [],
   "source": [
    "def mean_squared_error(predictions: List[float], test_labels: List[float]) -> float:\n",
    "    errors = []\n",
    "    for index, value in enumerate(predictions):\n",
    "        errors.append(math.pow(value - test_labels[index],2))\n",
    "\n",
    "    return sum(errors)/len(predictions)"
   ]
  },
  {
   "cell_type": "code",
   "execution_count": 24,
   "metadata": {},
   "outputs": [],
   "source": [
    "# unit tests\n",
    "test_pred = [0.0, 1.0, 2.0]\n",
    "test_actual = [3.0, 3.0, 3.0]\n",
    "\n",
    "MSE = mean_squared_error(test_pred, test_actual)\n",
    "assert round(MSE, 4) == 4.6667\n",
    "\n",
    "test_pred = [0.0, 0.0, 0.0]\n",
    "test_actual = [0.0, 0.0, 0.0]\n",
    "MSE = mean_squared_error(test_pred, test_actual)\n",
    "assert round(MSE) == 0\n",
    "\n",
    "test_pred = [1.0, 1.0, 1.0]\n",
    "test_actual = [1.0, 1.0, 0.0]\n",
    "MSE = mean_squared_error(test_pred, test_actual)\n",
    "assert round(MSE, 4) == 0.3333"
   ]
  },
  {
   "cell_type": "markdown",
   "metadata": {},
   "source": [
    "<a id=\"k_fold_validation\"></a>\n",
    "## k_fold_validation\n",
    "\n",
    "*The k_fold_validation function runs the knn algorithm and returns metadata about each run, including train predictions, train labels, train loss, test predictions, test labels, and test loss. The algorithm also returns the average training loss and average test loss of k-fold validation.* **Used by**: Questions 2-5.\n",
    "\n",
    "* **model_function** Callable: the algorithm for the model\n",
    "* **model_parameters** Dict[str, Any]: the model parameters\n",
    "* **model_function** Callable: the evaluation function\n",
    "* **folds** List[List[List[float]]]: the k folds to evaluate\n",
    "\n",
    "**returns** List[Dict[str, Any] | float]."
   ]
  },
  {
   "cell_type": "code",
   "execution_count": 25,
   "metadata": {},
   "outputs": [],
   "source": [
    "def k_fold_validation(model_function: Callable, model_parameters: Dict[str, Any], eval_function: Callable, folds: List[List[List[float]]]) -> List[Any]:\n",
    "    results = []\n",
    "    total_train_loss, total_test_loss = 0, 0\n",
    "\n",
    "    for index in range(len(folds)):\n",
    "        train, test = create_train_test(folds, index)\n",
    "        train_examples, train_labels = split_labels(train, model_parameters[\"label_index\"])\n",
    "        test_examples, test_labels = split_labels(test, model_parameters[\"label_index\"])\n",
    "\n",
    "        train_predictions = model_function(train, train_examples, model_parameters)\n",
    "        train_loss = eval_function(train_predictions, train_labels)\n",
    "        test_predictions = model_function(train, test_examples, model_parameters)\n",
    "        test_loss = eval_function(test_predictions, test_labels)\n",
    "        \n",
    "        results.append({\"train_predictions\": train_predictions, \"train_labels\": train_labels, \"train_loss\": train_loss,\n",
    "                        \"test_predictions\": test_predictions, \"test_labels\": test_labels, \"test_loss\": test_loss})\n",
    "        total_train_loss += train_loss\n",
    "        total_test_loss  += test_loss\n",
    "    return results, total_train_loss/len(folds), total_test_loss/len(folds)"
   ]
  },
  {
   "cell_type": "code",
   "execution_count": 26,
   "metadata": {},
   "outputs": [],
   "source": [
    "# unit tests\n",
    "test_model_parameters = {\n",
    "    \"k\": 2,\n",
    "    \"distance_function\": euclidean_distance,\n",
    "    \"processing_function\": knn_average,\n",
    "    \"label_index\": 1\n",
    "}\n",
    "\n",
    "fold_1 = [[0.5, 2.5], [0.1, 3.5], [1.5, 6.5], [0.2, 4.0], [0.2, 3.0]]\n",
    "fold_2 = [[0.5, 3.5], [0.1, 4.5], [1.5, 6.5], [0.2, 4.0], [0.2, 3.0]]\n",
    "\n",
    "def test_function(train, query, model_parameters):\n",
    "    return [2.5 for i in range(len(query))]\n",
    "\n",
    "results, total_train_loss, total_test_loss = k_fold_validation(test_function, test_model_parameters, mean_squared_error, [fold_1, fold_2])\n",
    "assert results[0][\"train_labels\"] == [3.5, 4.5, 6.5, 4.0, 3.0]\n",
    "assert results[0][\"train_predictions\"] == [2.5, 2.5, 2.5, 2.5, 2.5]\n",
    "assert results[0][\"test_labels\"] == [2.5, 3.5, 6.5, 4.0, 3.0]\n",
    "assert results[0][\"test_predictions\"] == [2.5, 2.5, 2.5, 2.5, 2.5]\n",
    "assert results[0][\"train_loss\"] == 4.7\n",
    "assert results[0][\"test_loss\"] == 3.9\n",
    "assert total_train_loss == 4.3\n",
    "assert total_test_loss == 4.3"
   ]
  },
  {
   "cell_type": "markdown",
   "metadata": {},
   "source": [
    "<a id=\"knn\"></a>\n",
    "## knn\n",
    "\n",
    "*The knn algorithm takes a single query point and returns a prediction for the y-value of this point. The algorithm uses the distance function provided in the model parameters to calculate the distances between the query observation and each point in the training data. For regression problems, the Knn algorithm calculates the average y-value of the k-nearest neighbors to predict the y-value for the query example.* **Used by**: [run_knn](#run_knn).\n",
    "\n",
    "* **train_data** List[List[float]]: the training data with labels\n",
    "* **query** List[float]: the point for which the algorithm must predict y\n",
    "* **model_parameters** Dict[str, Any]: the parameters of the knn model including the distance function, the processing function, k, and the label index\n",
    "\n",
    "**returns** float."
   ]
  },
  {
   "cell_type": "code",
   "execution_count": 27,
   "metadata": {},
   "outputs": [],
   "source": [
    "def knn(train_data: List[List[float]], query: List[float], parameters: Dict[str, Any]) -> float:\n",
    "    distances = []\n",
    "    for example in train_data:\n",
    "        distances.append((parameters[\"distance_function\"](example, query), example))\n",
    "    # sort the distances in ascending order\n",
    "    sorted_distances = sorted(distances, key=lambda x : x[0])\n",
    "    # select the k lowest distances\n",
    "    k_nearest = sorted_distances[:parameters[\"k\"]]\n",
    "    return parameters[\"processing_function\"](k_nearest, parameters[\"label_index\"])"
   ]
  },
  {
   "cell_type": "code",
   "execution_count": 28,
   "metadata": {},
   "outputs": [],
   "source": [
    "# unit tests\n",
    "test_data = [\n",
    "    [0.23, 0.81, 0.18],\n",
    "    [0.42, 0.78, 0.33],\n",
    "    [0.64, 0.23, 0.14],\n",
    "    [0.87, 0.19, 0.17],\n",
    "    [0.76, 0.43, 0.32]\n",
    "]\n",
    "\n",
    "test_model_parameters = {\n",
    "    \"k\": 3,\n",
    "    \"distance_function\": euclidean_distance,\n",
    "    \"processing_function\": knn_average,\n",
    "    \"label_index\": 2\n",
    "}\n",
    "\n",
    "assert round(knn(test_data, [0.39, 0.63], test_model_parameters), 2) == 0.28\n",
    "\n",
    "test_model_parameters[\"k\"] = 2\n",
    "assert round(knn(test_data, [0.39, 0.63], test_model_parameters), 2) == 0.26\n",
    "\n",
    "test_model_parameters[\"k\"] = 1\n",
    "assert round(knn(test_data, [0.39, 0.63], test_model_parameters), 2) == 0.33"
   ]
  },
  {
   "cell_type": "markdown",
   "metadata": {},
   "source": [
    "<a id=\"run_knn\"></a>\n",
    "## run_knn\n",
    "\n",
    "*The run_knn algorithm runs the knn algorithm above for every value in the list being evaluated.* **Used by**: [k_fold_validation](#k_fold_validation).\n",
    "\n",
    "* **train_data** List[List[float]]: the training data with labels\n",
    "* **test_data** List[List[float]]: the data to evaluate\n",
    "* **model_parameters** Dict[str, Any]: the parameters of the knn model including the distance function, the processing function, k, and the label index\n",
    "\n",
    "**returns** List[float]."
   ]
  },
  {
   "cell_type": "code",
   "execution_count": 29,
   "metadata": {},
   "outputs": [],
   "source": [
    "def run_knn(train_data: List[List[float]], test_data: List[List[float]], model_parameters: Dict[str, Any]) -> List[float]:\n",
    "    predictions = []\n",
    "    for test_value in test_data:\n",
    "        predictions.append(knn(train_data, test_value, model_parameters))\n",
    "    return predictions"
   ]
  },
  {
   "cell_type": "code",
   "execution_count": 30,
   "metadata": {},
   "outputs": [],
   "source": [
    "# unit tests\n",
    "test_data = [\n",
    "    [0.23, 0.81, 0.18],\n",
    "    [0.42, 0.78, 0.33],\n",
    "    [0.64, 0.23, 0.14],\n",
    "    [0.87, 0.19, 0.17],\n",
    "    [0.76, 0.43, 0.32]\n",
    "]\n",
    "\n",
    "test_model_parameters = {\n",
    "    \"k\": 1,\n",
    "    \"distance_function\": euclidean_distance,\n",
    "    \"processing_function\": knn_average,\n",
    "    \"label_index\": 2\n",
    "}\n",
    "\n",
    "assert run_knn(test_data, [[0.39, 0.63], [0.0, 0.0]], test_model_parameters) == [0.33, 0.14]\n",
    "assert run_knn(test_data, [[0.20, 0.73], [1.0, 1.0]], test_model_parameters) == [0.18, 0.32]\n",
    "assert run_knn(test_data, [[0.75, 0.73], [0.01, 0.08]], test_model_parameters) == [0.32, 0.14]"
   ]
  },
  {
   "cell_type": "markdown",
   "metadata": {},
   "source": [
    "## kNN Model\n",
    "\n",
    "Implement k Nearest Neighbors with k = 9."
   ]
  },
  {
   "cell_type": "code",
   "execution_count": 31,
   "metadata": {},
   "outputs": [
    {
     "name": "stdout",
     "output_type": "stream",
     "text": [
      "--------------------All Folds--------------------\n",
      "\n",
      "Fold 1 Training Loss (MSE): 68.35, Test Loss (MSE): 96.05\n",
      "Fold 2 Training Loss (MSE): 66.54, Test Loss (MSE): 114.16\n",
      "Fold 3 Training Loss (MSE): 69.05, Test Loss (MSE): 76.03\n",
      "Fold 4 Training Loss (MSE): 66.15, Test Loss (MSE): 108.24\n",
      "Fold 5 Training Loss (MSE): 71.14, Test Loss (MSE): 77.97\n",
      "Fold 6 Training Loss (MSE): 69.83, Test Loss (MSE): 93.26\n",
      "Fold 7 Training Loss (MSE): 70.15, Test Loss (MSE): 69.19\n",
      "Fold 8 Training Loss (MSE): 68.84, Test Loss (MSE): 67.97\n",
      "Fold 9 Training Loss (MSE): 65.77, Test Loss (MSE): 94.52\n",
      "Fold 10 Training Loss (MSE): 70.17, Test Loss (MSE): 72.06\n",
      "\n",
      "Model: Average Training loss (MSE): 68.6, Average Test Loss (MSE): 86.94\n"
     ]
    }
   ],
   "source": [
    "model_parameters = {\n",
    "    \"k\": 9,\n",
    "    \"distance_function\": euclidean_distance,\n",
    "    \"processing_function\": knn_average,\n",
    "    \"label_index\": 8\n",
    "}\n",
    "\n",
    "# Use cross-fold validation with 10 folds to evaluate the model\n",
    "results, avg_train_loss, avg_test_loss = k_fold_validation(run_knn, model_parameters, mean_squared_error, folds)\n",
    "\n",
    "# get loss in non-technical format (RMSE?)\n",
    "# print results\n",
    "print(f\"{'-'*20}All Folds{'-'*20}\\n\")\n",
    "for index, fold in enumerate(results):\n",
    "    print(f\"Fold {index+1} Training Loss (MSE): {round(fold['train_loss'], 2)}, Test Loss (MSE): {round(fold['test_loss'], 2)}\")\n",
    "\n",
    "print(f\"\\nModel: Average Training loss (MSE): {round(avg_train_loss, 2)}, Average Test Loss (MSE): {round(avg_test_loss, 2)}\")"
   ]
  },
  {
   "cell_type": "markdown",
   "metadata": {},
   "source": [
    "The mean squared error (MSE) describes the variance between the predictions and the true population. A comparison with the baseline model can help determine an acceptable error rate (MSE) for the model and describe the model's relative performance."
   ]
  },
  {
   "cell_type": "code",
   "execution_count": 32,
   "metadata": {},
   "outputs": [
    {
     "name": "stdout",
     "output_type": "stream",
     "text": [
      "The first 20 test predicitons vs. actual values in fold 0\n",
      "\n",
      " Test Prediction 0: 29.91 True Value: 22.95\n",
      "\n",
      " Test Prediction 1: 15.5 True Value: 26.32\n",
      "\n",
      " Test Prediction 2: 23.18 True Value: 24.43\n",
      "\n",
      " Test Prediction 3: 16.82 True Value: 17.58\n",
      "\n",
      " Test Prediction 4: 38.55 True Value: 36.8\n",
      "\n",
      " Test Prediction 5: 47.23 True Value: 52.96\n",
      "\n",
      " Test Prediction 6: 18.06 True Value: 15.07\n",
      "\n",
      " Test Prediction 7: 36.43 True Value: 39.16\n",
      "\n",
      " Test Prediction 8: 52.13 True Value: 55.25\n",
      "\n",
      " Test Prediction 9: 47.29 True Value: 55.65\n",
      "\n",
      " Test Prediction 10: 19.08 True Value: 25.22\n",
      "\n",
      " Test Prediction 11: 31.21 True Value: 31.38\n",
      "\n",
      " Test Prediction 12: 15.08 True Value: 10.54\n",
      "\n",
      " Test Prediction 13: 26.01 True Value: 19.35\n",
      "\n",
      " Test Prediction 14: 15.35 True Value: 6.88\n",
      "\n",
      " Test Prediction 15: 49.14 True Value: 45.3\n",
      "\n",
      " Test Prediction 16: 25.53 True Value: 44.87\n",
      "\n",
      " Test Prediction 17: 23.3 True Value: 25.37\n",
      "\n",
      " Test Prediction 18: 57.56 True Value: 65.91\n",
      "\n",
      " Test Prediction 19: 45.9 True Value: 35.3\n"
     ]
    }
   ],
   "source": [
    "# print the first 20 predictions vs actual values in the test set\n",
    "print(\"The first 20 test predicitons vs. actual values in fold 0\")\n",
    "fold_0_pred = results[0][\"test_predictions\"]\n",
    "fold_0_actual = results[0][\"test_labels\"]\n",
    "for index in range(20):\n",
    "    print(f\"\\n Test Prediction {index}: {round(fold_0_pred[index], 2)} True Value: {fold_0_actual[index]}\")"
   ]
  },
  {
   "cell_type": "markdown",
   "metadata": {},
   "source": [
    "The cell above shows the model predictions vs. the actual values for the first 20 observations in fold 0. The model did relatively well with some of these examples, making predictions within about 5 Pascals of the true value. Predictions 14, 15, and 19 significantly overestimated the cement strength. An important observation is that a model predicting cement strength should be penalized more for over-predictions than under-predictions because these errors could be dangerous. Therefore, a custom evaluation metric could provide more value than the MSE calculation used throughout this assignment. The evaluation metrics below, using all folds, provide a more thorough analysis of model performance. "
   ]
  },
  {
   "cell_type": "markdown",
   "metadata": {},
   "source": [
    "## Evaluation: kNN Model vs. The Null Model\n",
    "\n",
    "Note: the null model for this problem predicts the mean concrete strength for all examples. "
   ]
  },
  {
   "cell_type": "code",
   "execution_count": 33,
   "metadata": {},
   "outputs": [
    {
     "name": "stdout",
     "output_type": "stream",
     "text": [
      "--------------------Model: All Folds--------------------\n",
      "\n",
      "Fold 1 Training Loss (MSE): 68.35, Test Loss (MSE): 96.05\n",
      "Fold 2 Training Loss (MSE): 66.54, Test Loss (MSE): 114.16\n",
      "Fold 3 Training Loss (MSE): 69.05, Test Loss (MSE): 76.03\n",
      "Fold 4 Training Loss (MSE): 66.15, Test Loss (MSE): 108.24\n",
      "Fold 5 Training Loss (MSE): 71.14, Test Loss (MSE): 77.97\n",
      "Fold 6 Training Loss (MSE): 69.83, Test Loss (MSE): 93.26\n",
      "Fold 7 Training Loss (MSE): 70.15, Test Loss (MSE): 69.19\n",
      "Fold 8 Training Loss (MSE): 68.84, Test Loss (MSE): 67.97\n",
      "Fold 9 Training Loss (MSE): 65.77, Test Loss (MSE): 94.52\n",
      "Fold 10 Training Loss (MSE): 70.17, Test Loss (MSE): 72.06\n",
      "\n",
      "--------------------Base Model: All Folds--------------------\n",
      "\n",
      "Fold 1 Training Loss (MSE): 1391.01, Test Loss (MSE): 1331.26\n",
      "Fold 2 Training Loss (MSE): 1367.31, Test Loss (MSE): 1443.22\n",
      "Fold 3 Training Loss (MSE): 1375.81, Test Loss (MSE): 1366.67\n",
      "Fold 4 Training Loss (MSE): 1378.7, Test Loss (MSE): 1340.74\n",
      "Fold 5 Training Loss (MSE): 1371.81, Test Loss (MSE): 1402.68\n",
      "Fold 6 Training Loss (MSE): 1335.91, Test Loss (MSE): 1725.83\n",
      "Fold 7 Training Loss (MSE): 1354.54, Test Loss (MSE): 1558.09\n",
      "Fold 8 Training Loss (MSE): 1403.46, Test Loss (MSE): 1117.85\n",
      "Fold 9 Training Loss (MSE): 1382.78, Test Loss (MSE): 1304.01\n",
      "Fold 10 Training Loss (MSE): 1397.83, Test Loss (MSE): 1168.51\n",
      "\n",
      "Model: Average Training loss (MSE): 68.6, Average Test Loss (MSE): 86.94\n",
      "\n",
      "Base Model: Average Training loss (MSE): 1375.92, Average Test Loss (MSE): 1375.89\n",
      "\n",
      "Relative Squared Error (RSE): Train: 0.05, Test: 0.06\n",
      "R^2 (Coefficient of Determination): train: 0.95, test: 0.94\n"
     ]
    }
   ],
   "source": [
    "def base_model_function(train, queries, parameters):\n",
    "    average_y = sum(train[parameters[\"label_index\"]])/len(train)\n",
    "    return [average_y for val in range(len(queries))]\n",
    "\n",
    "base_model_parameters = {\n",
    "    \"k\": 9,\n",
    "    \"distance_function\": euclidean_distance,\n",
    "    \"processing_function\": base_model_function,\n",
    "    \"label_index\": 8\n",
    "}\n",
    "\n",
    "base_results, base_avg_train_loss, base_avg_test_loss = k_fold_validation(base_model_function, base_model_parameters, mean_squared_error, folds)\n",
    "\n",
    "# print results\n",
    "print(f\"{'-'*20}Model: All Folds{'-'*20}\\n\")\n",
    "for index, fold in enumerate(results):\n",
    "    print(f\"Fold {index+1} Training Loss (MSE): {round(fold['train_loss'], 2)}, Test Loss (MSE): {round(fold['test_loss'], 2)}\")\n",
    "\n",
    "print(f\"\\n{'-'*20}Base Model: All Folds{'-'*20}\\n\")\n",
    "for base_index, base_fold in enumerate(base_results):\n",
    "    print(f\"Fold {base_index+1} Training Loss (MSE): {round(base_fold['train_loss'], 2)}, Test Loss (MSE): {round(base_fold['test_loss'], 2)}\")\n",
    "\n",
    "print(f\"\\nModel: Average Training loss (MSE): {round(avg_train_loss, 2)}, Average Test Loss (MSE): {round(avg_test_loss, 2)}\")\n",
    "print(f\"\\nBase Model: Average Training loss (MSE): {round(base_avg_train_loss, 2)}, Average Test Loss (MSE): {round(base_avg_test_loss, 2)}\")\n",
    "print(f\"\\nRelative Squared Error (RSE): Train: {round(avg_train_loss/base_avg_train_loss, 2)}, Test: {round(avg_test_loss/base_avg_test_loss, 2)}\")\n",
    "print(f\"R^2 (Coefficient of Determination): train: {round(1-(avg_train_loss/base_avg_train_loss), 2)}, test: {round(1-(avg_test_loss/base_avg_test_loss), 2)}\")"
   ]
  },
  {
   "cell_type": "markdown",
   "metadata": {},
   "source": [
    "Performance evaluation is less straightforward with regression models because their predictions are not correct or wrong the way they are with classifiers. Comparing a regression model's performance against a base model can help describe the relative performance of the model. A base model generally uses the average y-value in the dataset for all predictions. The relative squared error (RSE) is calculated by dividing the model's MSE by the base model's MSE. This metric describes the model's relative error rate. The R^2 calculation is 1-RSE. This metric is also known as the coefficient of determination. R^2 describes the percent of variation in y accounted for by the model. The R^2 value can be interpreted as the model's relative accuracy. The model above had an accuracy of 95% on the training data and 94% on the test set when compared to the base model. The RSE and R^2 values can provide more insight into model performance than the MSE evaluation alone. Based on this analysis, an MSE of 70 could be a good acceptance rate for this problem to yield a model accuracy of 95%. "
   ]
  },
  {
   "cell_type": "markdown",
   "metadata": {},
   "source": [
    "## Hyperparameter Tuning\n",
    "\n",
    "Use validation curves to tune the value of k."
   ]
  },
  {
   "cell_type": "code",
   "execution_count": 34,
   "metadata": {},
   "outputs": [
    {
     "data": {
      "image/png": "[encoded data removed]",
      "text/plain": [
       "<Figure size 800x800 with 1 Axes>"
      ]
     },
     "metadata": {},
     "output_type": "display_data"
    }
   ],
   "source": [
    "k_values = [i for i in range(1, 21)]\n",
    "\n",
    "\n",
    "param_results = {}\n",
    "for k in k_values:\n",
    "    model_parameters[\"k\"] = k\n",
    "    results, avg_train_loss, avg_test_loss = k_fold_validation(run_knn, model_parameters, mean_squared_error, folds)\n",
    "    param_results[k] = {\"train\": avg_train_loss, \"test\": avg_test_loss}\n",
    "    \n",
    "# plot the validation curves\n",
    "hyperparameters = list(param_results.keys())\n",
    "train_errors = [value[\"train\"] for value in param_results.values()]\n",
    "test_errors = [value[\"test\"] for value in param_results.values()]\n",
    "\n",
    "plt.rcParams[\"figure.figsize\"] = [8, 8]\n",
    "\n",
    "# plot train and test errors\n",
    "plt.plot(hyperparameters, train_errors, label='Train')\n",
    "plt.plot(hyperparameters, test_errors, label='Test')\n",
    "\n",
    "# set axis ranges\n",
    "custom_ticks = [i for i in hyperparameters] + [hyperparameters[-1] +1]\n",
    "plt.xticks(custom_ticks, [val for val in custom_ticks])\n",
    "\n",
    "# plot labels\n",
    "plt.xlabel(f\"Hyperparameter: k\")\n",
    "plt.ylabel(\"Error\")\n",
    "plt.title(\"Validation Curves\")\n",
    "plt.legend()\n",
    "plt.show()"
   ]
  },
  {
   "cell_type": "markdown",
   "metadata": {},
   "source": [
    "The performance when k is equal to 3 in the validation curves above minimizes the error on the test set. The gap between the training and test errors also started to decrease with a k value of 3. The errors on both the training and test sets increased with every k value beyond 3. "
   ]
  },
  {
   "cell_type": "markdown",
   "metadata": {},
   "source": [
    "## Generalization Error\n",
    "\n",
    "Analyze and discuss the generalization error of the model with the value of k from the previous section."
   ]
  },
  {
   "cell_type": "code",
   "execution_count": 35,
   "metadata": {},
   "outputs": [
    {
     "name": "stdout",
     "output_type": "stream",
     "text": [
      "-----All Folds-----\n",
      "\n",
      "Fold 1 Training Loss (MSE): 36.27, Test Loss (MSE): 78.51\n",
      "Fold 2 Training Loss (MSE): 33.77, Test Loss (MSE): 102.94\n",
      "Fold 3 Training Loss (MSE): 35.18, Test Loss (MSE): 53.83\n",
      "Fold 4 Training Loss (MSE): 33.37, Test Loss (MSE): 101.67\n",
      "Fold 5 Training Loss (MSE): 36.52, Test Loss (MSE): 65.12\n",
      "Fold 6 Training Loss (MSE): 36.62, Test Loss (MSE): 64.01\n",
      "Fold 7 Training Loss (MSE): 35.38, Test Loss (MSE): 57.54\n",
      "Fold 8 Training Loss (MSE): 33.44, Test Loss (MSE): 64.0\n",
      "Fold 9 Training Loss (MSE): 33.96, Test Loss (MSE): 90.9\n",
      "Fold 10 Training Loss (MSE): 34.53, Test Loss (MSE): 65.86\n",
      "\n",
      "Model: Average Training loss (MSE): 34.9, Average Test Loss (MSE): 74.44\n",
      "\n",
      "Relative Squared Error (RSE): Train: 0.03, Test: 0.05\n"
     ]
    }
   ],
   "source": [
    "# The best valuefrom above\n",
    "model_parameters[\"k\"] = 3\n",
    "\n",
    "# Use cross-fold validation with 10 folds to evaluate the model\n",
    "results, avg_train_loss, avg_test_loss = k_fold_validation(run_knn, model_parameters, mean_squared_error, folds)\n",
    "\n",
    "# print results\n",
    "print(\"-----All Folds-----\\n\")\n",
    "for index, fold in enumerate(results):\n",
    "    print(f\"Fold {index+1} Training Loss (MSE): {round(fold['train_loss'], 2)}, Test Loss (MSE): {round(fold['test_loss'], 2)}\")\n",
    "\n",
    "print(f\"\\nModel: Average Training loss (MSE): {round(avg_train_loss, 2)}, Average Test Loss (MSE): {round(avg_test_loss, 2)}\")\n",
    "print(f\"\\nRelative Squared Error (RSE): Train: {round(avg_train_loss/base_avg_train_loss, 2)}, Test: {round(avg_test_loss/base_avg_test_loss, 2)}\")"
   ]
  },
  {
   "cell_type": "markdown",
   "metadata": {},
   "source": [
    "The generalization error describes how well the model will perform on future data. Therefore, the generalization error analyzes the model's performance on unseen data using the test set. The problem above identified that an MSE of 70 could yield a relative accuracy of around 95%. The error on the test set is close to reaching the acceptance criteria selected above, and the MSE of around 75% also produced a relative accuracy of 95%. The comparison of the training MSE to the test MSE shows that the model is overfitting to the training data and might not perform well on test sets that are not representative of the training set. "
   ]
  },
  {
   "cell_type": "markdown",
   "metadata": {},
   "source": [
    "## Test with Data Normalization \n",
    "\n",
    "Implement mean normalization (also called \"z-score standardization\") of the *features* and reevaluate the model."
   ]
  },
  {
   "cell_type": "code",
   "execution_count": 36,
   "metadata": {},
   "outputs": [],
   "source": [
    "# normalize the data\n",
    "new_folds = []\n",
    "for fold in folds:\n",
    "    data_values, labels = split_labels(fold, model_parameters[\"label_index\"])\n",
    "    norm_data = normalize_data(data_values, standardize)\n",
    "\n",
    "    # add the y-values back to the data frame\n",
    "    for index, row in enumerate(norm_data):\n",
    "        row.append(labels[index])\n",
    "    new_folds.append(norm_data)"
   ]
  },
  {
   "cell_type": "code",
   "execution_count": 37,
   "metadata": {},
   "outputs": [
    {
     "name": "stdout",
     "output_type": "stream",
     "text": [
      "-----All Folds-----\n",
      "\n",
      "Fold 1 Training Loss (MSE): 37.02, Test Loss (MSE): 50.5\n",
      "Fold 2 Training Loss (MSE): 35.15, Test Loss (MSE): 108.29\n",
      "Fold 3 Training Loss (MSE): 38.86, Test Loss (MSE): 66.29\n",
      "Fold 4 Training Loss (MSE): 35.87, Test Loss (MSE): 113.04\n",
      "Fold 5 Training Loss (MSE): 38.59, Test Loss (MSE): 56.3\n",
      "Fold 6 Training Loss (MSE): 37.39, Test Loss (MSE): 88.4\n",
      "Fold 7 Training Loss (MSE): 37.57, Test Loss (MSE): 72.52\n",
      "Fold 8 Training Loss (MSE): 36.68, Test Loss (MSE): 72.06\n",
      "Fold 9 Training Loss (MSE): 36.38, Test Loss (MSE): 101.83\n",
      "Fold 10 Training Loss (MSE): 34.76, Test Loss (MSE): 72.98\n",
      "\n",
      "Model: Average Training loss (MSE): 36.83, Average Test Loss (MSE): 80.22\n",
      "\n",
      "Relative Squared Error (RSE): Train: 0.03, Test: 0.06\n"
     ]
    }
   ],
   "source": [
    "results, avg_train_loss, avg_test_loss = k_fold_validation(run_knn, model_parameters, mean_squared_error, new_folds)\n",
    "\n",
    "# print results\n",
    "print(\"-----All Folds-----\\n\")\n",
    "for index, fold in enumerate(results):\n",
    "    print(f\"Fold {index+1} Training Loss (MSE): {round(fold['train_loss'], 2)}, Test Loss (MSE): {round(fold['test_loss'], 2)}\")\n",
    "    \n",
    "print(f\"\\nModel: Average Training loss (MSE): {round(avg_train_loss, 2)}, Average Test Loss (MSE): {round(avg_test_loss, 2)}\")\n",
    "print(f\"\\nRelative Squared Error (RSE): Train: {round(avg_train_loss/base_avg_train_loss, 2)}, Test: {round(avg_test_loss/base_avg_test_loss, 2)}\")"
   ]
  },
  {
   "cell_type": "markdown",
   "metadata": {},
   "source": [
    "Applying z-score standardization to the dataset slightly reduced the model's performance. Z-score standardization assumes that the data follows a normal distribution. If the features are not normally distributed, z-score standardization could hurt performance. The histograms below describe the distributions of the features. This performance decrease could indicate that important characteristics of the features are lost in standardization. "
   ]
  },
  {
   "cell_type": "code",
   "execution_count": 38,
   "metadata": {},
   "outputs": [
    {
     "data": {
      "image/png": "[encoded data removed]",
      "text/plain": [
       "<Figure size 1000x1000 with 8 Axes>"
      ]
     },
     "metadata": {},
     "output_type": "display_data"
    }
   ],
   "source": [
    "feature_0 = [row[0] for row in data]\n",
    "feature_1 = [row[1] for row in data]\n",
    "feature_2 = [row[2] for row in data]\n",
    "feature_3 = [row[3] for row in data]\n",
    "feature_4 = [row[4] for row in data]\n",
    "feature_5 = [row[5] for row in data]\n",
    "feature_6 = [row[6] for row in data]\n",
    "feature_7 = [row[7] for row in data]\n",
    "\n",
    "plt.rcParams[\"figure.figsize\"] = [10, 10]\n",
    "\n",
    "# Set the starting index for the 2 X 5 plot of images\n",
    "starting_fig_index = 0\n",
    "features = [feature_0, feature_1, feature_2, feature_3, feature_4, feature_5, feature_6, feature_7]\n",
    "for index, feature in enumerate(features):\n",
    "    starting_fig_index += 1\n",
    "    plt.subplot(5, 5, starting_fig_index)\n",
    "    plt.hist(feature, bins=20, color='blue', edgecolor='black')\n",
    "    plt.title(f\"Feature: {index}\")\n",
    "plt.subplots_adjust(bottom=0.1, top=0.9, left=0.10, right=0.95, hspace=0.5, wspace=0.35) \n",
    "plt.show()"
   ]
  },
  {
   "cell_type": "markdown",
   "metadata": {},
   "source": [
    "The histograms show that features 1, 2, 4, and 7 are not normally distributed. These distributions could explain why z-score standardization did not increase model performance. Another approach to data normalization is min/max normalization. However, min/max normalization is sensitive to outliers and would not work well for this dataset without the outliers removed. "
   ]
  }
 ],
 "metadata": {
  "kernelspec": {
   "display_name": "Python (en605645)",
   "language": "python",
   "name": "en605645"
  },
  "language_info": {
   "codemirror_mode": {
    "name": "ipython",
    "version": 3
   },
   "file_extension": ".py",
   "mimetype": "text/x-python",
   "name": "python",
   "nbconvert_exporter": "python",
   "pygments_lexer": "ipython3",
   "version": "3.10.8"
  },
  "toc": {
   "colors": {
    "hover_highlight": "#DAA520",
    "navigate_num": "#000000",
    "navigate_text": "#333333",
    "running_highlight": "#FF0000",
    "selected_highlight": "#FFD700",
    "sidebar_border": "#EEEEEE",
    "wrapper_background": "#FFFFFF"
   },
   "moveMenuLeft": true,
   "nav_menu": {
    "height": "117px",
    "width": "252px"
   },
   "navigate_menu": true,
   "number_sections": true,
   "sideBar": true,
   "threshold": 4,
   "toc_cell": false,
   "toc_section_display": "block",
   "toc_window_display": false,
   "widenNotebook": false
  }
 },
 "nbformat": 4,
 "nbformat_minor": 4
}
