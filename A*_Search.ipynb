{
 "cells": [
  {
   "cell_type": "markdown",
   "metadata": {},
   "source": [
    "# State Space Search with A* Search\n",
    "\n",
    "\n",
    "## Objective\n",
    "\n",
    "Find the shortest path to any goal in the grid world. \n",
    "\n",
    "The symbols that form the grid have a special meaning as they specify the type of the terrain and the cost to enter a grid cell with that type of terrain:\n",
    "\n",
    "```\n",
    "token   terrain    cost \n",
    "🌾       plains     1\n",
    "🌲       forest     3\n",
    "🪨       hills      5\n",
    "🐊       swamp      7\n",
    "🗻       mountains  impassible\n",
    "```\n",
    "\n",
    "The raw format of the map will be something like:\n",
    "\n",
    "```\n",
    "🌾🌾🌾🌾🌲🌾🌾\n",
    "🌾🌾🌾🌲🌲🌲🌾\n",
    "🌾🗻🗻🗻🌾🌾🌾\n",
    "🌾🌾🗻🗻🌾🌾🌾\n",
    "🌾🌾🗻🌾🌾🌲🌲\n",
    "🌾🌾🌾🌾🌲🌲🌲\n",
    "🌾🌾🌾🌾🌾🌾🌾\n",
    "```"
   ]
  },
  {
   "cell_type": "markdown",
   "metadata": {},
   "source": [
    "## The World"
   ]
  },
  {
   "cell_type": "code",
   "execution_count": 1,
   "metadata": {},
   "outputs": [],
   "source": [
    "full_world = [\n",
    "['🌾', '🌾', '🌾', '🌾', '🌾', '🌲', '🌲', '🌲', '🌲', '🌲', '🌲', '🌲', '🌲', '🌲', '🌲', '🌾', '🌾', '🌾', '🌾', '🌾', '🌾', '🌾', '🌾', '🌾', '🌾', '🌾', '🌾'],\n",
    "['🌾', '🌾', '🌾', '🌾', '🌾', '🌾', '🌾', '🌲', '🌲', '🌲', '🌲', '🌲', '🌲', '🌲', '🌲', '🌲', '🌾', '🌾', '🗻', '🗻', '🗻', '🗻', '🗻', '🗻', '🗻', '🌾', '🌾'],\n",
    "['🌾', '🌾', '🌾', '🌾', '🗻', '🗻', '🌲', '🌲', '🌲', '🌲', '🌲', '🌲', '🌲', '🌲', '🌲', '🌲', '🌲', '🗻', '🗻', '🗻', '🪨', '🪨', '🪨', '🗻', '🗻', '🪨', '🪨'],\n",
    "['🌾', '🌾', '🌾', '🌾', '🪨', '🗻', '🗻', '🗻', '🌲', '🌲', '🌲', '🌲', '🐊', '🐊', '🌲', '🌲', '🌲', '🌲', '🌲', '🌾', '🌾', '🪨', '🪨', '🗻', '🗻', '🪨', '🌾'],\n",
    "['🌾', '🌾', '🌾', '🪨', '🪨', '🗻', '🗻', '🌲', '🌲', '🌾', '🌾', '🐊', '🐊', '🐊', '🐊', '🌲', '🌲', '🌲', '🌾', '🌾', '🌾', '🪨', '🗻', '🗻', '🗻', '🪨', '🌾'],\n",
    "['🌾', '🪨', '🪨', '🪨', '🗻', '🗻', '🪨', '🪨', '🌾', '🌾', '🌾', '🌾', '🐊', '🐊', '🐊', '🐊', '🐊', '🌾', '🌾', '🌾', '🌾', '🌾', '🪨', '🗻', '🪨', '🌾', '🌾'],\n",
    "['🌾', '🪨', '🪨', '🗻', '🗻', '🪨', '🪨', '🌾', '🌾', '🌾', '🌾', '🪨', '🗻', '🗻', '🗻', '🐊', '🐊', '🐊', '🌾', '🌾', '🌾', '🌾', '🌾', '🪨', '🌾', '🌾', '🌾'],\n",
    "['🌾', '🌾', '🪨', '🪨', '🪨', '🪨', '🪨', '🌾', '🌾', '🌾', '🌾', '🌾', '🌾', '🪨', '🗻', '🗻', '🗻', '🐊', '🐊', '🐊', '🌾', '🌾', '🪨', '🪨', '🪨', '🌾', '🌾'],\n",
    "['🌾', '🌾', '🌾', '🪨', '🪨', '🪨', '🌾', '🌾', '🌾', '🌾', '🌾', '🌾', '🪨', '🪨', '🗻', '🗻', '🌾', '🐊', '🐊', '🌾', '🌾', '🪨', '🪨', '🪨', '🌾', '🌾', '🌾'],\n",
    "['🌾', '🌾', '🌾', '🐊', '🐊', '🐊', '🌾', '🌾', '🪨', '🪨', '🪨', '🗻', '🗻', '🗻', '🗻', '🌾', '🌾', '🌾', '🐊', '🌾', '🪨', '🪨', '🪨', '🌾', '🌾', '🌾', '🌾'],\n",
    "['🌾', '🌾', '🐊', '🐊', '🐊', '🐊', '🐊', '🌾', '🪨', '🪨', '🗻', '🗻', '🗻', '🪨', '🌾', '🌾', '🌾', '🌾', '🌾', '🪨', '🗻', '🗻', '🗻', '🪨', '🌾', '🌾', '🌾'],\n",
    "['🌾', '🐊', '🐊', '🐊', '🐊', '🐊', '🌾', '🌾', '🪨', '🗻', '🗻', '🪨', '🌾', '🌾', '🌾', '🌾', '🐊', '🐊', '🌾', '🌾', '🪨', '🗻', '🗻', '🪨', '🌾', '🌾', '🌾'],\n",
    "['🐊', '🐊', '🐊', '🐊', '🐊', '🌾', '🌾', '🪨', '🪨', '🗻', '🗻', '🪨', '🌾', '🐊', '🐊', '🐊', '🐊', '🌾', '🌾', '🌾', '🪨', '🗻', '🪨', '🌾', '🌾', '🌾', '🌾'],\n",
    "['🌾', '🐊', '🐊', '🐊', '🐊', '🌾', '🌾', '🪨', '🌲', '🌲', '🪨', '🌾', '🌾', '🌾', '🌾', '🐊', '🐊', '🐊', '🐊', '🌾', '🌾', '🪨', '🌾', '🌾', '🌾', '🌾', '🌾'],\n",
    "['🌾', '🌾', '🌾', '🌾', '🗻', '🌾', '🌾', '🌲', '🌲', '🌲', '🌲', '🪨', '🪨', '🪨', '🪨', '🌾', '🐊', '🐊', '🐊', '🌾', '🌾', '🪨', '🗻', '🪨', '🌾', '🌾', '🌾'],\n",
    "['🌾', '🌾', '🌾', '🗻', '🗻', '🗻', '🌲', '🌲', '🌲', '🌲', '🌲', '🌲', '🗻', '🗻', '🗻', '🪨', '🪨', '🌾', '🐊', '🌾', '🪨', '🗻', '🗻', '🪨', '🌾', '🌾', '🌾'],\n",
    "['🌾', '🌾', '🗻', '🗻', '🌲', '🌲', '🌲', '🌲', '🌲', '🌲', '🌲', '🌲', '🌲', '🌲', '🗻', '🗻', '🗻', '🌾', '🌾', '🗻', '🗻', '🗻', '🌾', '🌾', '🌾', '🌾', '🌾'],\n",
    "['🌾', '🌾', '🌾', '🗻', '🗻', '🌲', '🌲', '🌲', '🌲', '🌲', '🌲', '🌲', '🌲', '🌲', '🌲', '🌲', '🗻', '🗻', '🗻', '🗻', '🌾', '🌾', '🌾', '🌾', '🌾', '🌾', '🌾'],\n",
    "['🌾', '🌾', '🌾', '🗻', '🗻', '🗻', '🌲', '🌲', '🌲', '🌲', '🌲', '🌲', '🌲', '🌲', '🌾', '🌾', '🌾', '🪨', '🪨', '🌾', '🌾', '🌾', '🌾', '🌾', '🌾', '🌾', '🌾'],\n",
    "['🌾', '🌾', '🌾', '🌾', '🗻', '🗻', '🗻', '🌲', '🌲', '🌲', '🌲', '🌲', '🌲', '🌾', '🌾', '🌾', '🌾', '🌾', '🌾', '🌾', '🌾', '🌾', '🌾', '🐊', '🐊', '🐊', '🐊'],\n",
    "['🌾', '🌾', '🪨', '🪨', '🪨', '🪨', '🗻', '🗻', '🌲', '🌲', '🌲', '🌲', '🌲', '🌾', '🗻', '🌾', '🌾', '🌾', '🌾', '🌾', '🐊', '🐊', '🐊', '🐊', '🐊', '🐊', '🐊'],\n",
    "['🌾', '🌾', '🌾', '🌾', '🪨', '🪨', '🪨', '🗻', '🗻', '🗻', '🌲', '🌲', '🗻', '🗻', '🌾', '🌾', '🌾', '🌾', '🌾', '🌾', '🐊', '🐊', '🐊', '🐊', '🐊', '🐊', '🐊'],\n",
    "['🌾', '🌾', '🌾', '🌾', '🌾', '🌾', '🪨', '🪨', '🪨', '🗻', '🗻', '🗻', '🗻', '🌾', '🌾', '🌾', '🌾', '🪨', '🪨', '🌾', '🌾', '🐊', '🐊', '🐊', '🐊', '🐊', '🐊'],\n",
    "['🌾', '🪨', '🪨', '🌾', '🌾', '🪨', '🪨', '🪨', '🪨', '🪨', '🌾', '🌾', '🌾', '🌾', '🌾', '🪨', '🪨', '🗻', '🗻', '🪨', '🪨', '🌾', '🐊', '🐊', '🐊', '🐊', '🐊'],\n",
    "['🪨', '🗻', '🪨', '🪨', '🪨', '🪨', '🌾', '🌾', '🌾', '🌾', '🌾', '🗻', '🗻', '🗻', '🪨', '🪨', '🗻', '🗻', '🌾', '🗻', '🗻', '🪨', '🪨', '🐊', '🐊', '🐊', '🐊'],\n",
    "['🪨', '🗻', '🗻', '🗻', '🪨', '🌾', '🌾', '🌾', '🌾', '🌾', '🪨', '🪨', '🗻', '🗻', '🗻', '🗻', '🪨', '🪨', '🪨', '🪨', '🗻', '🗻', '🗻', '🐊', '🐊', '🐊', '🐊'],\n",
    "['🪨', '🪨', '🌾', '🌾', '🌾', '🌾', '🌾', '🌾', '🌾', '🌾', '🌾', '🌾', '🪨', '🪨', '🪨', '🪨', '🪨', '🌾', '🌾', '🌾', '🌾', '🪨', '🪨', '🪨', '🌾', '🌾', '🌾']\n",
    "]"
   ]
  },
  {
   "cell_type": "code",
   "execution_count": 2,
   "metadata": {},
   "outputs": [],
   "source": [
    "small_world = [\n",
    "    ['🌾', '🌲', '🌲', '🌲', '🌲', '🌲', '🌲'],\n",
    "    ['🌾', '🌲', '🌲', '🌲', '🌲', '🌲', '🌲'],\n",
    "    ['🌾', '🌲', '🌲', '🌲', '🌲', '🌲', '🌲'],\n",
    "    ['🌾', '🌾', '🌾', '🌾', '🌾', '🌾', '🌾'],\n",
    "    ['🌲', '🌲', '🌲', '🌲', '🌲', '🌲', '🌾'],\n",
    "    ['🌲', '🌲', '🌲', '🌲', '🌲', '🌲', '🌾'],\n",
    "    ['🌲', '🌲', '🌲', '🌲', '🌲', '🌲', '🌾']\n",
    "]"
   ]
  },
  {
   "cell_type": "markdown",
   "metadata": {},
   "source": [
    "## States and State Representation\n",
    "\n",
    "The canonical pieces of a State Space Search problem are the States, Actions, Transitions and Costs. \n",
    "\n",
    "For the navigation problem, a state is the current position of the agent, `(x,y)`. The entire set of possible states is implicitly represented by the world map."
   ]
  },
  {
   "cell_type": "markdown",
   "metadata": {},
   "source": [
    "## Actions and Transitions\n",
    "\n",
    "The following cell encodes the possible actions. In general, there are a number of different possible action sets in such a world. The agent might be constrained to move north/south/east/west or diagonal moves might be permitted as well (or really anything). When combined with the set of States, the *permissible* actions forms the Transition set."
   ]
  },
  {
   "cell_type": "code",
   "execution_count": 3,
   "metadata": {},
   "outputs": [],
   "source": [
    "MOVES = [(0,-1), (1,0), (0,1), (-1,0)]"
   ]
  },
  {
   "cell_type": "markdown",
   "metadata": {},
   "source": [
    "## Costs\n",
    "\n",
    "Encode the costs described above in a `Dict`:"
   ]
  },
  {
   "cell_type": "code",
   "execution_count": 4,
   "metadata": {},
   "outputs": [],
   "source": [
    "COSTS = { '🌾': 1, '🌲': 3, '🪨': 5, '🐊': 7}"
   ]
  },
  {
   "cell_type": "markdown",
   "metadata": {},
   "source": [
    "## A* Search Helpers and Implementation\n",
    "\n",
    "The following implementation of A* search returns the offsets needed to form a path to the goal."
   ]
  },
  {
   "cell_type": "code",
   "execution_count": 5,
   "metadata": {},
   "outputs": [],
   "source": [
    "from typing import List, Tuple, Dict, Callable, Any\n",
    "from copy import deepcopy"
   ]
  },
  {
   "cell_type": "markdown",
   "metadata": {},
   "source": [
    "<a id=\"add_to_frontier\"></a>\n",
    "## add_to_frontier\n",
    "\n",
    "*The add_to_frontier algorithm treats the frontier as a priority queue and adds the value to the frontier in the correct sorted location. The frontier is sorted in ascending order by cost. The function updates the frontier in-place and returns None.* **Used by**: [a_star_search](#a_star_search)\n",
    "\n",
    "* **value** Dict[str, Tuple[int, int] | int | List[Tuple[int, int]]]: The values will be of the form {\"position\": (0, 0), \"cost\": 0, \"path\": [(0, 0)], \"g\": 0}\n",
    "* **frontier** List[Dict[str, Tuple[int, int] | int | List[Tuple[int, int]]]]: The frontier wll contain a list of the values outlined above in ascending order by cost. \n",
    "\n",
    "**returns** None.\n",
    "\n",
    "Note: the following implementation of this algorithm using a for-loop could be inefficient if the frontier is large. This assignment restricted the use of numpy for learning purposes. "
   ]
  },
  {
   "cell_type": "code",
   "execution_count": 6,
   "metadata": {},
   "outputs": [],
   "source": [
    "def add_to_frontier(value: Dict[str, Any], frontier: List[Dict[str, Any]]) -> None:\n",
    "    for index, frontier_value in enumerate(frontier): \n",
    "        if frontier_value[\"cost\"] > value[\"cost\"]:\n",
    "            frontier.insert(index, value)\n",
    "            return \n",
    "    # append if no insert location was found\n",
    "    frontier.append(value)"
   ]
  },
  {
   "cell_type": "code",
   "execution_count": 7,
   "metadata": {},
   "outputs": [],
   "source": [
    "# assertions/unit tests\n",
    "test_frontier = [\n",
    "    {\"position\": (0, 0), \"cost\": 1, \"path\": [(0, 0)]},\n",
    "    {\"position\": (0, 1), \"cost\": 2, \"path\": [(0, 0), (0, 1)]},\n",
    "    {\"position\": (0, 2), \"cost\": 5, \"path\": [(0, 0), (0, 1), (0, 2)]}\n",
    "]\n",
    "\n",
    "# insert at front\n",
    "test_value_1 = {\"position\": (1, 0), \"cost\": 0, \"path\": [(0, 0), (1, 0)]}\n",
    "add_to_frontier(test_value_1, test_frontier)\n",
    "assert test_frontier[0] == test_value_1\n",
    "test_frontier.remove(test_value_1)\n",
    "\n",
    "# insert in middle\n",
    "test_value_2 = {\"position\": (2, 0), \"cost\": 3, \"path\": [(0, 0), (1, 0), (2, 0)]}\n",
    "add_to_frontier(test_value_2, test_frontier)\n",
    "assert test_frontier[2] == test_value_2\n",
    "test_frontier.remove(test_value_2)\n",
    "\n",
    "# insert at end\n",
    "test_value_3 = {\"position\": (3, 0), \"cost\": 5, \"path\": [(0, 0), (1, 0), (3, 0)]}\n",
    "add_to_frontier(test_value_3, test_frontier)\n",
    "assert test_frontier[-1] == test_value_3\n",
    "test_frontier.remove(test_value_3)"
   ]
  },
  {
   "cell_type": "markdown",
   "metadata": {},
   "source": [
    "<a id=\"get_successors\"></a>\n",
    "## get_successors\n",
    "\n",
    "*The get_successors function takes the current_position, the world, and the available moves and the direction of the move in the form [[(2, 2), (0, 1)],..], where (0, 1) represents right. The function uses these values to find valid moves on the board from the current position.* **Used by**: [a_star_search](#a_star_search)\n",
    "\n",
    "* **current_position** Tuple[int, int]: The current location on the board. \n",
    "* **world** List[List[str]]: The world to explore.\n",
    "* **moves** List[Tuple[int, int]]: Valid actions that the agent may take.  \n",
    "\n",
    "**returns** List[List[Tuple[int, int]]]: The valid moves from the current location."
   ]
  },
  {
   "cell_type": "code",
   "execution_count": 8,
   "metadata": {},
   "outputs": [],
   "source": [
    "def get_successors(current_position: Tuple[int, int], world: List[List[str]], moves: List[Tuple[int, int]]) -> List[List[Tuple[int, int]]]:\n",
    "    valid_successors = []\n",
    "    for move in moves:\n",
    "        row, col = current_position[0] + move[0], current_position[1] + move[1]\n",
    "        # Check if the new position is within range\n",
    "        if col >= len(world[0]) or col < 0:\n",
    "            continue\n",
    "        elif row >= len(world) or row < 0:\n",
    "            continue\n",
    "        else:\n",
    "            current_terrian = world[row][col]\n",
    "            if current_terrian == '🗻':\n",
    "                continue\n",
    "            else:\n",
    "                valid_successors.append((row, col))\n",
    "    return valid_successors"
   ]
  },
  {
   "cell_type": "code",
   "execution_count": 9,
   "metadata": {},
   "outputs": [],
   "source": [
    "# assertions/unit tests\n",
    "assert get_successors((0,1), small_world, MOVES) == [(0, 0), (1, 1), (0, 2)]\n",
    "# check lower bound of map\n",
    "assert get_successors((0,0), small_world, MOVES) == [(1, 0), (0, 1)]\n",
    "# check upper bound of map\n",
    "assert get_successors((6,6), small_world, MOVES) == [(6, 5), (5, 6)]"
   ]
  },
  {
   "cell_type": "markdown",
   "metadata": {},
   "source": [
    "<a id=\"get_path_direction\"></a>\n",
    "## get_path_direction\n",
    "\n",
    "*The get_path_direction function is a helper of the pretty_print_path function. This helper determines which symbol to print on the map based on the direction of the path.* **Used by**: [pretty_print_path](#pretty_print_path)\n",
    "\n",
    "* **row** int: The row of the current position in the path \n",
    "* **col** int: The column of the current position in the path\n",
    "* **next_row** int: The row of the next position in the path\n",
    "* **next_col** int: The column of the next position in the path\n",
    "\n",
    "**returns** str: A string representing the direction of the path."
   ]
  },
  {
   "cell_type": "code",
   "execution_count": 10,
   "metadata": {},
   "outputs": [],
   "source": [
    "def get_path_offsets(path: List[Tuple[int, int]]) -> List[Tuple[int, int]]:\n",
    "    offsets = []\n",
    "    for index, position in enumerate(path):\n",
    "        direction = (0, 0)\n",
    "        if index == len(path)-1:\n",
    "            offsets.append(direction)\n",
    "            continue\n",
    "        row, col = position[0], position[1]\n",
    "        next_row, next_col = path[index+1][0], path[index+1][1]\n",
    "        if next_row > row:\n",
    "            direction = (1, 0)\n",
    "        elif next_row < row:\n",
    "            direction = (-1, 0)\n",
    "        elif next_col > col:\n",
    "            direction = (0, 1)\n",
    "        elif next_col < col: \n",
    "            direction = (0, -1)\n",
    "        offsets.append(direction)\n",
    "    return offsets"
   ]
  },
  {
   "cell_type": "code",
   "execution_count": 11,
   "metadata": {},
   "outputs": [],
   "source": [
    "# assertions/unit tests\n",
    "assert get_path_offsets([(0, 0), (0, 1)]) == [(0, 1), (0, 0)]\n",
    "assert get_path_offsets([(5, 6), (6, 6)]) == [(1, 0), (0, 0)]\n",
    "assert get_path_offsets([(5, 6), (4, 6)]) == [(-1, 0), (0, 0)]"
   ]
  },
  {
   "cell_type": "markdown",
   "metadata": {},
   "source": [
    "<a id=\"seen_nodes\"></a>\n",
    "## seen_nodes\n",
    "\n",
    "*The seen_nodes function takes a list of dictionaries and determines if the position coordinates of the value parameter are already in the list.* **Used by**: [a_star_search](#a_star_search)\n",
    "\n",
    "* **value** Dict[str, Tuple[int, int]|int|List[Tuple[int, int]]]: the current position on the board with position metadata.  \n",
    "* **seen_list** List[Dict[str, Tuple[int, int]|int|List[Tuple[int, int]]]]: The list of nodes already observed by the algorithm.\n",
    "\n",
    "**returns** boolean: True if the coorindates are in the list, False otherwise. "
   ]
  },
  {
   "cell_type": "code",
   "execution_count": 12,
   "metadata": {},
   "outputs": [],
   "source": [
    "def seen_node(value: Dict[str, Any], seen_list: List[Dict[str, Any]]) -> bool:\n",
    "    for seen_value in seen_list:\n",
    "        if value[\"position\"] == seen_value[\"position\"]:\n",
    "            return True\n",
    "    return False"
   ]
  },
  {
   "cell_type": "code",
   "execution_count": 13,
   "metadata": {},
   "outputs": [],
   "source": [
    "# assertions/unit tests\n",
    "test_seen_list = [\n",
    "    {\"position\": (0, 0), \"cost\": 1, \"path\": [(0, 0)]},\n",
    "    {\"position\": (0, 1), \"cost\": 2, \"path\": [(0, 0), (0, 1)]},\n",
    "    {\"position\": (0, 2), \"cost\": 5, \"path\": [(0, 0), (0, 1), (0, 2)]}\n",
    "]\n",
    "# case coordinates different, cost and path the same\n",
    "assert(seen_node({\"position\": (0, 3), \"cost\": 1, \"path\": [(0, 0)]}, test_seen_list)) == False\n",
    "# case all node metadata is different\n",
    "assert(seen_node({\"position\": (0, 3), \"cost\": 2, \"path\": [(0, 1)]}, test_seen_list)) == False\n",
    "# case coordinates seen\n",
    "assert(seen_node({\"position\": (0, 1), \"cost\": 2, \"path\": [(0, 1)]}, test_seen_list)) == True"
   ]
  },
  {
   "cell_type": "markdown",
   "metadata": {},
   "source": [
    "<a id=\"heuristic\"></a>\n",
    "## heuristic\n",
    "\n",
    "*The heuristic function used the Manhattan Distance to estimate the cost from the current state to the goal. The Manhattan Distance is useful for search patterns that search adjacent nodes on a graph.* **Used by**: [a_star_search](#a_star_search)\n",
    "\n",
    "* **current_position** Tuple[int, int]: the bot's current position on the board, `(x, y)`.\n",
    "* **goal** Tuple[int, int]: the desired goal position for the bot, `(x, y)`.\n",
    "\n",
    "**returns** int: the estimated cost to reach the goal from the current position."
   ]
  },
  {
   "cell_type": "code",
   "execution_count": 14,
   "metadata": {},
   "outputs": [],
   "source": [
    "def heuristic(current_position: Tuple[int, int], goal: Tuple[int, int]) -> int:\n",
    "    return abs(goal[0] - current_position[0]) + abs(goal[1] - current_position[1])"
   ]
  },
  {
   "cell_type": "code",
   "execution_count": 15,
   "metadata": {},
   "outputs": [],
   "source": [
    "# assertions/unit tests\n",
    "assert heuristic((3, 2), (6, 3)) == 4\n",
    "assert heuristic((3, 3), (0, 0)) == 6\n",
    "assert heuristic((0, 0), (5, 4)) == 9"
   ]
  },
  {
   "cell_type": "markdown",
   "metadata": {},
   "source": [
    "<a id=\"get_best_path\"></a>\n",
    "## get_best_path\n",
    "\n",
    "*The get_best_path function take a list of all paths that the [a_star_search](a_star_search) function found to the goal and returns the path with the lowest cost.* **Used by**: [a_star_search](#a_star_search)\n",
    "\n",
    "* **goal_paths** List[Dict[str, List[Tuple[int, int]] | int]]: a list of dictionaries that contains all paths to the goal found by the a_star algorithm, and the cost of each path. \n",
    "\n",
    "**returns** List[Tuple[int, int]]: the path with the lowest cost\n"
   ]
  },
  {
   "cell_type": "code",
   "execution_count": 16,
   "metadata": {},
   "outputs": [],
   "source": [
    "import math\n",
    "\n",
    "def get_best_path(goal_paths: List[Dict[str, Any]]) -> List[Tuple[int, int]]:\n",
    "    best_path = []\n",
    "    best_cost = math.inf\n",
    "    for path in goal_paths:\n",
    "        if path[\"g\"] < best_cost:\n",
    "            best_path = path[\"path\"]\n",
    "            best_cost = path[\"g\"]\n",
    "    return best_path  "
   ]
  },
  {
   "cell_type": "code",
   "execution_count": 17,
   "metadata": {},
   "outputs": [],
   "source": [
    "# assertions/unit tests\n",
    "test_1_goal_paths = [\n",
    "    {\"path\": [(0, 1), (0, 2), (0, 3)], \"g\": 10},\n",
    "    {\"path\": [(0, 1), (1, 2), (0, 3)], \"g\": 11},\n",
    "    {\"path\": [(1, 1), (0, 2), (0, 3)], \"g\": 12}\n",
    "]\n",
    "assert get_best_path(test_1_goal_paths) == [(0, 1), (0, 2), (0, 3)]\n",
    "\n",
    "test_2_goal_paths = [\n",
    "    {\"path\": [(0, 1), (0, 2), (0, 3)], \"g\": 20},\n",
    "    {\"path\": [(0, 1), (1, 2), (0, 3)], \"g\": 11},\n",
    "    {\"path\": [(1, 1), (0, 2), (0, 3)], \"g\": 12}\n",
    "]\n",
    "assert get_best_path(test_2_goal_paths) == [(0, 1), (1, 2), (0, 3)]\n",
    "\n",
    "test_3_goal_paths = [\n",
    "    {\"path\": [(0, 1), (0, 2), (0, 3)], \"g\": 20},\n",
    "    {\"path\": [(0, 1), (1, 2), (0, 3)], \"g\": 30},\n",
    "    {\"path\": [(1, 1), (0, 2), (0, 3)], \"g\": 12}\n",
    "]\n",
    "assert get_best_path(test_3_goal_paths) == [(1, 1), (0, 2), (0, 3)]"
   ]
  },
  {
   "cell_type": "markdown",
   "metadata": {},
   "source": [
    "<a id=\"a_star_search\"></a>\n",
    "## a_star_search\n",
    "\n",
    "*The a_star_search function applies the A\\* search algorithm to find a path to the goal position from the starting position. The A\\* search algorithm is an informed search algorithm that uses a heuristic function to predict how far each successor position is from the goal position. The algorithm calls the [get_successors](get_successors) function to retrieve all valid moves from the current position using the problem constraints. For every successor returned, the A\\* search algorithm calculates the cost of that position using the forumala f(n) = g(n) + h(n), where g(n) is the cost of the child position and h(n) is the prediction from the [heuristic](heuristic) function. Next, the algorithm adds every successor position with its predicted cost of f(n) to the frontier. The A\\* search function leverages a priority queue for the search frontier so that the algorithm always explores the position with the lowest f(n) first. The algorithm uses a dictionary of the form {\"position\": Tuple[int, int], \"cost\": int, \"path\": List[Tuple[int, int], \"g\": int}, where g is the cost from the initial node to the current node, to represent a frontier value. The path metadata helps recover the cheapest path found for the [pretty_print_path](#pretty_print_path) function.*\n",
    "\n",
    "* **world** List[List[str]]: the actual context for the navigation problem.\n",
    "* **start** Tuple[int, int]: the starting location of the bot, `(x, y)`.\n",
    "* **goal** Tuple[int, int]: the desired goal position for the bot, `(x, y)`.\n",
    "* **costs** Dict[str, int]: is a `Dict` of costs for each type of terrain in **world**.\n",
    "* **moves** List[Tuple[int, int]]: the legal movement model expressed in offsets in **world**.\n",
    "* **heuristic** Callable: is a heuristic function, $h(n)$.\n",
    "\n",
    "\n",
    "**returns** List[Tuple[int, int]]: the offsets needed to get from start state to the goal as a `List`."
   ]
  },
  {
   "cell_type": "code",
   "execution_count": 18,
   "metadata": {},
   "outputs": [],
   "source": [
    "def a_star_search(world: List[List[str]], start: Tuple[int, int], goal: Tuple[int, int], costs: Dict[str, int], moves: List[Tuple[int, int]], heuristic: Callable) -> List[Tuple[int, int]]:\n",
    "    frontier, explored, goal_paths = [], [], []\n",
    "    # reverse input to be of the form (row, col) and add starting value\n",
    "    start, goal = (start[1], start[0]), (goal[1], goal[0])\n",
    "    frontier.append({\"position\": (start[0], start[1]), \"cost\": heuristic(start, goal), \"path\": [start], \"g\": 0}) \n",
    "    while len(frontier) > 0:\n",
    "        current_position = frontier.pop(0)\n",
    "        position_coordinates = current_position[\"position\"]\n",
    "        successors = get_successors(position_coordinates, world, moves)\n",
    "        if position_coordinates == goal:\n",
    "            goal_paths.append({\"path\": current_position[\"path\"], \"g\": current_position[\"g\"]})\n",
    "            \n",
    "        for successor in successors:\n",
    "            total_cost = costs[world[successor[0]][successor[1]]] + current_position[\"g\"]\n",
    "            estimated_cost = total_cost + heuristic(successor, goal)\n",
    "            frontier_value = {\n",
    "                \"position\": successor, \n",
    "                \"cost\": estimated_cost, \n",
    "                \"path\": current_position[\"path\"] + [successor],\n",
    "                \"g\": total_cost}\n",
    "            if not seen_node(frontier_value, explored) and not seen_node(frontier_value, frontier):\n",
    "                add_to_frontier(frontier_value, frontier)\n",
    "        explored.append(current_position)\n",
    "    best_path = get_best_path(goal_paths)\n",
    "    return get_path_offsets(best_path)"
   ]
  },
  {
   "cell_type": "markdown",
   "metadata": {},
   "source": [
    "Note: algorithm tested below."
   ]
  },
  {
   "cell_type": "markdown",
   "metadata": {},
   "source": [
    "## pretty_print_path\n",
    "\n",
    "*The pretty_print_path function takes the path returned by the [a_star_search](a_star_search) function and prints the path on the world using the symbols ⏩, ⏪, ⏫, ⏬. The symbol 🎁 represents the goal on the board. The [get_path_direction](get_path_direction) function helps determine which symbol to print for the current position on the path. The pretty_print_path function also calculates the cost at each step of the path and outputs the total cost for the path.*\n",
    "\n",
    "* **world** List[List[str]]: the world (terrain map) for the path to be printed upon.\n",
    "* **path** List[Tuple[int, int]]: the path from start to goal, in offsets.\n",
    "* **start** Tuple[int, int]: the starting location for the path.\n",
    "* **goal** Tuple[int, int]: the goal location for the path.\n",
    "* **costs** Dict[str, int]: the costs for each action.\n",
    "\n",
    "**returns** int - The path cost."
   ]
  },
  {
   "cell_type": "code",
   "execution_count": 19,
   "metadata": {},
   "outputs": [],
   "source": [
    "def pretty_print_path(world: List[List[str]], path: List[Tuple[int, int]], start: Tuple[int, int], goal: Tuple[int, int], costs: Dict[str, int]) -> int:\n",
    "    symbols = {(0, 1): '⏩', (0, -1): '⏪', (-1, 0): '⏫', (1, 0): '⏬', 'goal': '🎁', (0, 0): '❌'}\n",
    "    cost = 0\n",
    "    new_world = deepcopy(world)\n",
    "    current_position = (start[1], start[0])\n",
    "    for index, move in enumerate(path):\n",
    "        curr_row, curr_col = current_position[0], current_position[1]\n",
    "        # break if we are at the end of the path\n",
    "        if index == len(path)-1:\n",
    "            if (curr_row, curr_col) == goal:\n",
    "                new_world[curr_row][curr_col] = symbols[\"goal\"]\n",
    "            break\n",
    "        cost += costs[world[curr_row][curr_col]]\n",
    "        new_world[curr_row][curr_col] = symbols[move]\n",
    "        current_position = (current_position[0] + move[0], current_position[1] + move[1])\n",
    "    # print the map by unpacking the list at each row\n",
    "    for row in new_world:\n",
    "        print(*row)    \n",
    "    return cost"
   ]
  },
  {
   "cell_type": "markdown",
   "metadata": {},
   "source": [
    "Note: algorithm tested below."
   ]
  },
  {
   "cell_type": "markdown",
   "metadata": {},
   "source": [
    "## Evaluation"
   ]
  },
  {
   "cell_type": "markdown",
   "metadata": {},
   "source": [
    "### Small World\n",
    "\n",
    "Execute `a_star_search` and `pretty_print_path` for the `small_world`."
   ]
  },
  {
   "cell_type": "code",
   "execution_count": 20,
   "metadata": {},
   "outputs": [
    {
     "name": "stdout",
     "output_type": "stream",
     "text": [
      "⏬ 🌲 🌲 🌲 🌲 🌲 🌲\n",
      "⏬ 🌲 🌲 🌲 🌲 🌲 🌲\n",
      "⏬ 🌲 🌲 🌲 🌲 🌲 🌲\n",
      "⏩ ⏩ ⏩ ⏩ ⏩ ⏩ ⏬\n",
      "🌲 🌲 🌲 🌲 🌲 🌲 ⏬\n",
      "🌲 🌲 🌲 🌲 🌲 🌲 ⏬\n",
      "🌲 🌲 🌲 🌲 🌲 🌲 🎁\n",
      "total path cost: 12\n",
      "[(1, 0), (1, 0), (1, 0), (0, 1), (0, 1), (0, 1), (0, 1), (0, 1), (0, 1), (1, 0), (1, 0), (1, 0), (0, 0)]\n"
     ]
    }
   ],
   "source": [
    "small_start = (0, 0)\n",
    "small_goal = (len(small_world[0]) - 1, len(small_world) - 1)\n",
    "small_path = a_star_search(small_world, small_start, small_goal, COSTS, MOVES, heuristic)\n",
    "small_path_cost = pretty_print_path(small_world, small_path, small_start, small_goal, COSTS)\n",
    "print(f\"total path cost: {small_path_cost}\")\n",
    "print(small_path)"
   ]
  },
  {
   "cell_type": "markdown",
   "metadata": {},
   "source": [
    "### Large World\n",
    "\n",
    "Execute `a_star_search` and `print_path` for the `full_world`"
   ]
  },
  {
   "cell_type": "code",
   "execution_count": 21,
   "metadata": {},
   "outputs": [
    {
     "name": "stdout",
     "output_type": "stream",
     "text": [
      "⏬ 🌾 🌾 🌾 🌾 🌲 🌲 🌲 🌲 🌲 🌲 🌲 🌲 🌲 🌲 🌾 🌾 🌾 🌾 🌾 🌾 🌾 🌾 🌾 🌾 🌾 🌾\n",
      "⏬ 🌾 🌾 🌾 🌾 🌾 🌾 🌲 🌲 🌲 🌲 🌲 🌲 🌲 🌲 🌲 🌾 🌾 🗻 🗻 🗻 🗻 🗻 🗻 🗻 🌾 🌾\n",
      "⏬ 🌾 🌾 🌾 🗻 🗻 🌲 🌲 🌲 🌲 🌲 🌲 🌲 🌲 🌲 🌲 🌲 🗻 🗻 🗻 🪨 🪨 🪨 🗻 🗻 🪨 🪨\n",
      "⏬ 🌾 🌾 🌾 🪨 🗻 🗻 🗻 🌲 🌲 🌲 🌲 🐊 🐊 🌲 🌲 🌲 🌲 🌲 🌾 🌾 🪨 🪨 🗻 🗻 🪨 🌾\n",
      "⏬ 🌾 🌾 🪨 🪨 🗻 🗻 🌲 🌲 🌾 🌾 🐊 🐊 🐊 🐊 🌲 🌲 🌲 🌾 🌾 🌾 🪨 🗻 🗻 🗻 🪨 🌾\n",
      "⏬ 🪨 🪨 🪨 🗻 🗻 🪨 🪨 🌾 🌾 🌾 🌾 🐊 🐊 🐊 🐊 🐊 🌾 🌾 🌾 🌾 🌾 🪨 🗻 🪨 🌾 🌾\n",
      "⏬ 🪨 🪨 🗻 🗻 🪨 🪨 🌾 🌾 🌾 🌾 🪨 🗻 🗻 🗻 🐊 🐊 🐊 🌾 🌾 🌾 🌾 🌾 🪨 🌾 🌾 🌾\n",
      "⏬ 🌾 🪨 🪨 🪨 🪨 🪨 🌾 🌾 🌾 🌾 🌾 🌾 🪨 🗻 🗻 🗻 🐊 🐊 🐊 🌾 🌾 🪨 🪨 🪨 🌾 🌾\n",
      "⏬ 🌾 🌾 🪨 🪨 🪨 🌾 🌾 🌾 🌾 🌾 🌾 🪨 🪨 🗻 🗻 🌾 🐊 🐊 🌾 🌾 🪨 🪨 🪨 🌾 🌾 🌾\n",
      "⏬ 🌾 🌾 🐊 🐊 🐊 🌾 🌾 🪨 🪨 🪨 🗻 🗻 🗻 🗻 🌾 🌾 🌾 🐊 🌾 🪨 🪨 🪨 🌾 🌾 🌾 🌾\n",
      "⏬ 🌾 🐊 🐊 🐊 🐊 🐊 🌾 🪨 🪨 🗻 🗻 🗻 🪨 🌾 🌾 🌾 🌾 🌾 🪨 🗻 🗻 🗻 🪨 🌾 🌾 🌾\n",
      "⏬ 🐊 🐊 🐊 🐊 🐊 🌾 🌾 🪨 🗻 🗻 🪨 🌾 🌾 🌾 🌾 🐊 🐊 🌾 🌾 🪨 🗻 🗻 🪨 🌾 🌾 🌾\n",
      "⏬ 🐊 🐊 🐊 🐊 🌾 🌾 🪨 🪨 🗻 🗻 🪨 🌾 🐊 🐊 🐊 🐊 🌾 🌾 🌾 🪨 🗻 🪨 🌾 🌾 🌾 🌾\n",
      "⏬ 🐊 🐊 🐊 🐊 🌾 🌾 🪨 🌲 🌲 🪨 🌾 🌾 🌾 🌾 🐊 🐊 🐊 🐊 🌾 🌾 🪨 🌾 🌾 🌾 🌾 🌾\n",
      "⏬ 🌾 🌾 🌾 🗻 🌾 🌾 🌲 🌲 🌲 🌲 🪨 🪨 🪨 🪨 🌾 🐊 🐊 🐊 🌾 🌾 🪨 🗻 🪨 🌾 🌾 🌾\n",
      "⏬ 🌾 🌾 🗻 🗻 🗻 🌲 🌲 🌲 🌲 🌲 🌲 🗻 🗻 🗻 🪨 🪨 🌾 🐊 🌾 🪨 🗻 🗻 🪨 🌾 🌾 🌾\n",
      "⏬ 🌾 🗻 🗻 🌲 🌲 🌲 🌲 🌲 🌲 🌲 🌲 🌲 🌲 🗻 🗻 🗻 🌾 🌾 🗻 🗻 🗻 🌾 🌾 🌾 🌾 🌾\n",
      "⏬ 🌾 🌾 🗻 🗻 🌲 🌲 🌲 🌲 🌲 🌲 🌲 🌲 🌲 🌲 🌲 🗻 🗻 🗻 🗻 🌾 🌾 🌾 🌾 🌾 🌾 🌾\n",
      "⏬ 🌾 🌾 🗻 🗻 🗻 🌲 🌲 🌲 🌲 🌲 🌲 🌲 🌲 🌾 🌾 🌾 🪨 🪨 🌾 🌾 🌾 🌾 🌾 🌾 🌾 🌾\n",
      "⏬ 🌾 🌾 🌾 🗻 🗻 🗻 🌲 🌲 🌲 🌲 🌲 🌲 🌾 🌾 🌾 🌾 🌾 🌾 🌾 🌾 🌾 🌾 🐊 🐊 🐊 🐊\n",
      "⏬ 🌾 🪨 🪨 🪨 🪨 🗻 🗻 🌲 🌲 🌲 🌲 🌲 🌾 🗻 🌾 🌾 🌾 🌾 🌾 🐊 🐊 🐊 🐊 🐊 🐊 🐊\n",
      "⏬ 🌾 🌾 🌾 🪨 🪨 🪨 🗻 🗻 🗻 🌲 🌲 🗻 🗻 🌾 🌾 🌾 🌾 🌾 🌾 🐊 🐊 🐊 🐊 🐊 🐊 🐊\n",
      "⏩ ⏩ ⏩ ⏬ 🌾 🌾 🪨 🪨 🪨 🗻 🗻 🗻 🗻 🌾 🌾 🌾 🌾 🪨 🪨 🌾 🌾 🐊 🐊 🐊 🐊 🐊 🐊\n",
      "🌾 🪨 🪨 ⏩ ⏬ 🪨 🪨 🪨 🪨 🪨 🌾 🌾 🌾 🌾 🌾 🪨 🪨 🗻 🗻 🪨 🪨 🌾 🐊 🐊 🐊 🐊 🐊\n",
      "🪨 🗻 🪨 🪨 ⏬ 🪨 🌾 🌾 🌾 🌾 🌾 🗻 🗻 🗻 🪨 🪨 🗻 🗻 🌾 🗻 🗻 🪨 🪨 🐊 🐊 🐊 🐊\n",
      "🪨 🗻 🗻 🗻 ⏬ 🌾 🌾 🌾 🌾 🌾 🪨 🪨 🗻 🗻 🗻 🗻 🪨 🪨 🪨 🪨 🗻 🗻 🗻 🐊 🐊 🐊 🐊\n",
      "🪨 🪨 🌾 🌾 ⏩ ⏩ ⏩ ⏩ ⏩ ⏩ ⏩ ⏩ ⏩ ⏩ ⏩ ⏩ ⏩ ⏩ ⏩ ⏩ ⏩ ⏩ ⏩ ⏩ ⏩ ⏩ 🎁\n",
      "total path cost: 98\n",
      "[(1, 0), (1, 0), (1, 0), (1, 0), (1, 0), (1, 0), (1, 0), (1, 0), (1, 0), (1, 0), (1, 0), (1, 0), (1, 0), (1, 0), (1, 0), (1, 0), (1, 0), (1, 0), (1, 0), (1, 0), (1, 0), (1, 0), (0, 1), (0, 1), (0, 1), (1, 0), (0, 1), (1, 0), (1, 0), (1, 0), (0, 1), (0, 1), (0, 1), (0, 1), (0, 1), (0, 1), (0, 1), (0, 1), (0, 1), (0, 1), (0, 1), (0, 1), (0, 1), (0, 1), (0, 1), (0, 1), (0, 1), (0, 1), (0, 1), (0, 1), (0, 1), (0, 1), (0, 0)]\n"
     ]
    }
   ],
   "source": [
    "full_start = (0, 0)\n",
    "full_goal = (len(full_world[0]) - 1, len(full_world) - 1)\n",
    "full_path = a_star_search(full_world, full_start, full_goal, COSTS, MOVES, heuristic)\n",
    "full_path_cost = pretty_print_path(full_world, full_path, full_start, full_goal, COSTS)\n",
    "print(f\"total path cost: {full_path_cost}\")\n",
    "print(full_path)"
   ]
  },
  {
   "cell_type": "markdown",
   "metadata": {},
   "source": [
    "## Comments\n",
    "\n",
    "Another solution to this problem is to return the first path found by A* search rather than selecting the best path of all paths found. This solution would be more space and time efficient. However, it could yield a sub-optimal result. "
   ]
  }
 ],
 "metadata": {
  "kernelspec": {
   "display_name": "Python (en605645)",
   "language": "python",
   "name": "en605645"
  },
  "language_info": {
   "codemirror_mode": {
    "name": "ipython",
    "version": 3
   },
   "file_extension": ".py",
   "mimetype": "text/x-python",
   "name": "python",
   "nbconvert_exporter": "python",
   "pygments_lexer": "ipython3",
   "version": "3.10.8"
  },
  "toc": {
   "colors": {
    "hover_highlight": "#DAA520",
    "navigate_num": "#000000",
    "navigate_text": "#333333",
    "running_highlight": "#FF0000",
    "selected_highlight": "#FFD700",
    "sidebar_border": "#EEEEEE",
    "wrapper_background": "#FFFFFF"
   },
   "moveMenuLeft": true,
   "nav_menu": {
    "height": "192px",
    "width": "252px"
   },
   "navigate_menu": true,
   "number_sections": true,
   "sideBar": true,
   "threshold": 4,
   "toc_cell": false,
   "toc_section_display": "block",
   "toc_window_display": false,
   "widenNotebook": false
  }
 },
 "nbformat": 4,
 "nbformat_minor": 4
}
